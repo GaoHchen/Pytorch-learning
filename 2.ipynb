{
 "cells": [
  {
   "cell_type": "markdown",
   "metadata": {},
   "source": [
    "# 线性回归\n",
    "线性回归输出是一个连续值，因此适用于回归问题。回归问题在实际中很常见，如预测房屋价格、气温、销售额等连续值的问题。**与回归问题不同，分类问题中模型的最终输出是一个离散值。我们所说的图像分类、垃圾邮件识别、疾病检测等输出为离散值的问题都属于分类问题的范畴。softmax回归则适用于分类问题。**\n",
    "\n",
    "房价预测问题，回归\n",
    "$\\hat y=x_1w_1+x_2w_2+b$\n",
    "\n",
    "[损失函数讲解](https://tangshusen.me/Dive-into-DL-PyTorch/#/chapter03_DL-basics/3.1_linear-regression)\n",
    "\n",
    "在求数值解的优化算法中，小批量随机梯度下降（mini-batch stochastic gradient descent）在深度学习中被广泛使用。它的算法很简单：先选取一组模型参数的初始值，如随机选取；接下来对参数进行多次迭代，使每次迭代都可能降低损失函数的值。在每次迭代中，先随机均匀采样一个由固定数目训练数据样本所组成的小批量（mini-batch）B\n",
    "B\n",
    "B，然后求小批量中数据样本的平均损失有关模型参数的导数（梯度），最后用此结果与预先设定的一个正数的乘积作为模型参数在本次迭代的减小量。\n"
   ]
  },
  {
   "cell_type": "markdown",
   "metadata": {},
   "source": [
    "## 矢量计算表达式\n",
    "在模型训练或预测时，我们常常会同时处理多个数据样本并用到矢量计算。在介绍线性回归的矢量计算表达式之前，让我们先考虑对两个向量相加的两种方法。\n",
    "\n",
    "下面先定义两个1000维的向量。"
   ]
  },
  {
   "cell_type": "code",
   "execution_count": 1,
   "metadata": {},
   "outputs": [],
   "source": [
    "import torch\n",
    "from time import time\n",
    "\n",
    "a=torch.ones(1000)\n",
    "b=torch.ones(1000)"
   ]
  },
  {
   "cell_type": "markdown",
   "metadata": {},
   "source": [
    "这是生成了两个1000维的向量，可以直接使用加法进行矢量加和"
   ]
  },
  {
   "cell_type": "code",
   "execution_count": 2,
   "metadata": {},
   "outputs": [
    {
     "name": "stdout",
     "output_type": "stream",
     "text": [
      "tensor([2., 2., 2., 2., 2., 2., 2., 2., 2., 2., 2., 2., 2., 2., 2., 2., 2., 2.,\n",
      "        2., 2., 2., 2., 2., 2., 2., 2., 2., 2., 2., 2., 2., 2., 2., 2., 2., 2.,\n",
      "        2., 2., 2., 2., 2., 2., 2., 2., 2., 2., 2., 2., 2., 2., 2., 2., 2., 2.,\n",
      "        2., 2., 2., 2., 2., 2., 2., 2., 2., 2., 2., 2., 2., 2., 2., 2., 2., 2.,\n",
      "        2., 2., 2., 2., 2., 2., 2., 2., 2., 2., 2., 2., 2., 2., 2., 2., 2., 2.,\n",
      "        2., 2., 2., 2., 2., 2., 2., 2., 2., 2., 2., 2., 2., 2., 2., 2., 2., 2.,\n",
      "        2., 2., 2., 2., 2., 2., 2., 2., 2., 2., 2., 2., 2., 2., 2., 2., 2., 2.,\n",
      "        2., 2., 2., 2., 2., 2., 2., 2., 2., 2., 2., 2., 2., 2., 2., 2., 2., 2.,\n",
      "        2., 2., 2., 2., 2., 2., 2., 2., 2., 2., 2., 2., 2., 2., 2., 2., 2., 2.,\n",
      "        2., 2., 2., 2., 2., 2., 2., 2., 2., 2., 2., 2., 2., 2., 2., 2., 2., 2.,\n",
      "        2., 2., 2., 2., 2., 2., 2., 2., 2., 2., 2., 2., 2., 2., 2., 2., 2., 2.,\n",
      "        2., 2., 2., 2., 2., 2., 2., 2., 2., 2., 2., 2., 2., 2., 2., 2., 2., 2.,\n",
      "        2., 2., 2., 2., 2., 2., 2., 2., 2., 2., 2., 2., 2., 2., 2., 2., 2., 2.,\n",
      "        2., 2., 2., 2., 2., 2., 2., 2., 2., 2., 2., 2., 2., 2., 2., 2., 2., 2.,\n",
      "        2., 2., 2., 2., 2., 2., 2., 2., 2., 2., 2., 2., 2., 2., 2., 2., 2., 2.,\n",
      "        2., 2., 2., 2., 2., 2., 2., 2., 2., 2., 2., 2., 2., 2., 2., 2., 2., 2.,\n",
      "        2., 2., 2., 2., 2., 2., 2., 2., 2., 2., 2., 2., 2., 2., 2., 2., 2., 2.,\n",
      "        2., 2., 2., 2., 2., 2., 2., 2., 2., 2., 2., 2., 2., 2., 2., 2., 2., 2.,\n",
      "        2., 2., 2., 2., 2., 2., 2., 2., 2., 2., 2., 2., 2., 2., 2., 2., 2., 2.,\n",
      "        2., 2., 2., 2., 2., 2., 2., 2., 2., 2., 2., 2., 2., 2., 2., 2., 2., 2.,\n",
      "        2., 2., 2., 2., 2., 2., 2., 2., 2., 2., 2., 2., 2., 2., 2., 2., 2., 2.,\n",
      "        2., 2., 2., 2., 2., 2., 2., 2., 2., 2., 2., 2., 2., 2., 2., 2., 2., 2.,\n",
      "        2., 2., 2., 2., 2., 2., 2., 2., 2., 2., 2., 2., 2., 2., 2., 2., 2., 2.,\n",
      "        2., 2., 2., 2., 2., 2., 2., 2., 2., 2., 2., 2., 2., 2., 2., 2., 2., 2.,\n",
      "        2., 2., 2., 2., 2., 2., 2., 2., 2., 2., 2., 2., 2., 2., 2., 2., 2., 2.,\n",
      "        2., 2., 2., 2., 2., 2., 2., 2., 2., 2., 2., 2., 2., 2., 2., 2., 2., 2.,\n",
      "        2., 2., 2., 2., 2., 2., 2., 2., 2., 2., 2., 2., 2., 2., 2., 2., 2., 2.,\n",
      "        2., 2., 2., 2., 2., 2., 2., 2., 2., 2., 2., 2., 2., 2., 2., 2., 2., 2.,\n",
      "        2., 2., 2., 2., 2., 2., 2., 2., 2., 2., 2., 2., 2., 2., 2., 2., 2., 2.,\n",
      "        2., 2., 2., 2., 2., 2., 2., 2., 2., 2., 2., 2., 2., 2., 2., 2., 2., 2.,\n",
      "        2., 2., 2., 2., 2., 2., 2., 2., 2., 2., 2., 2., 2., 2., 2., 2., 2., 2.,\n",
      "        2., 2., 2., 2., 2., 2., 2., 2., 2., 2., 2., 2., 2., 2., 2., 2., 2., 2.,\n",
      "        2., 2., 2., 2., 2., 2., 2., 2., 2., 2., 2., 2., 2., 2., 2., 2., 2., 2.,\n",
      "        2., 2., 2., 2., 2., 2., 2., 2., 2., 2., 2., 2., 2., 2., 2., 2., 2., 2.,\n",
      "        2., 2., 2., 2., 2., 2., 2., 2., 2., 2., 2., 2., 2., 2., 2., 2., 2., 2.,\n",
      "        2., 2., 2., 2., 2., 2., 2., 2., 2., 2., 2., 2., 2., 2., 2., 2., 2., 2.,\n",
      "        2., 2., 2., 2., 2., 2., 2., 2., 2., 2., 2., 2., 2., 2., 2., 2., 2., 2.,\n",
      "        2., 2., 2., 2., 2., 2., 2., 2., 2., 2., 2., 2., 2., 2., 2., 2., 2., 2.,\n",
      "        2., 2., 2., 2., 2., 2., 2., 2., 2., 2., 2., 2., 2., 2., 2., 2., 2., 2.,\n",
      "        2., 2., 2., 2., 2., 2., 2., 2., 2., 2., 2., 2., 2., 2., 2., 2., 2., 2.,\n",
      "        2., 2., 2., 2., 2., 2., 2., 2., 2., 2., 2., 2., 2., 2., 2., 2., 2., 2.,\n",
      "        2., 2., 2., 2., 2., 2., 2., 2., 2., 2., 2., 2., 2., 2., 2., 2., 2., 2.,\n",
      "        2., 2., 2., 2., 2., 2., 2., 2., 2., 2., 2., 2., 2., 2., 2., 2., 2., 2.,\n",
      "        2., 2., 2., 2., 2., 2., 2., 2., 2., 2., 2., 2., 2., 2., 2., 2., 2., 2.,\n",
      "        2., 2., 2., 2., 2., 2., 2., 2., 2., 2., 2., 2., 2., 2., 2., 2., 2., 2.,\n",
      "        2., 2., 2., 2., 2., 2., 2., 2., 2., 2., 2., 2., 2., 2., 2., 2., 2., 2.,\n",
      "        2., 2., 2., 2., 2., 2., 2., 2., 2., 2., 2., 2., 2., 2., 2., 2., 2., 2.,\n",
      "        2., 2., 2., 2., 2., 2., 2., 2., 2., 2., 2., 2., 2., 2., 2., 2., 2., 2.,\n",
      "        2., 2., 2., 2., 2., 2., 2., 2., 2., 2., 2., 2., 2., 2., 2., 2., 2., 2.,\n",
      "        2., 2., 2., 2., 2., 2., 2., 2., 2., 2., 2., 2., 2., 2., 2., 2., 2., 2.,\n",
      "        2., 2., 2., 2., 2., 2., 2., 2., 2., 2., 2., 2., 2., 2., 2., 2., 2., 2.,\n",
      "        2., 2., 2., 2., 2., 2., 2., 2., 2., 2., 2., 2., 2., 2., 2., 2., 2., 2.,\n",
      "        2., 2., 2., 2., 2., 2., 2., 2., 2., 2., 2., 2., 2., 2., 2., 2., 2., 2.,\n",
      "        2., 2., 2., 2., 2., 2., 2., 2., 2., 2., 2., 2., 2., 2., 2., 2., 2., 2.,\n",
      "        2., 2., 2., 2., 2., 2., 2., 2., 2., 2., 2., 2., 2., 2., 2., 2., 2., 2.,\n",
      "        2., 2., 2., 2., 2., 2., 2., 2., 2., 2.])\n",
      "0.0340731143951416\n"
     ]
    }
   ],
   "source": [
    "start=time()\n",
    "d=a+b\n",
    "print(d)\n",
    "\n",
    "print(time()-start)"
   ]
  },
  {
   "cell_type": "code",
   "execution_count": 3,
   "metadata": {},
   "outputs": [
    {
     "name": "stdout",
     "output_type": "stream",
     "text": [
      "tensor([11., 11., 11., 11.])\n"
     ]
    }
   ],
   "source": [
    "a=torch.ones(4)\n",
    "b=10\n",
    "print(a+b)"
   ]
  },
  {
   "cell_type": "markdown",
   "metadata": {},
   "source": [
    "# 线性回归的实现\n",
    "使用Tensor和autograd来实现线性回归训练"
   ]
  },
  {
   "cell_type": "code",
   "execution_count": 4,
   "metadata": {},
   "outputs": [],
   "source": [
    "%matplotlib inline\n",
    "import torch\n",
    "from IPython import display\n",
    "from matplotlib import pyplot as plt\n",
    "import numpy as np\n",
    "import random"
   ]
  },
  {
   "cell_type": "markdown",
   "metadata": {},
   "source": [
    "## 生成数据集\n",
    "训练的样本数1000个，特征数（输入个数）为2，使用$\\omega = [2,-3.4]^T$和偏差b=4.2，一个随机噪声ϵ来生成标签$$y=X\\omega+b+ϵ $$"
   ]
  },
  {
   "cell_type": "code",
   "execution_count": 5,
   "metadata": {},
   "outputs": [],
   "source": [
    "#生成数据集\n",
    "num_inputs=2\n",
    "num_examples=1000\n",
    "true_w=[2,-3.4]\n",
    "true_b=4.2\n",
    "features=torch.randn(num_examples,num_inputs,dtype=torch.float32)\n",
    "labels=true_w[0]*features[:,0]+true_w[1]*features[:,1]+true_b   #线性回归的方程，第一个参数乘以第一列（第一个特征），第二个参数乘第二列（第二个特征）\n",
    "\n",
    "#这里是在数据集上加一个均值为0，标准差为0.01的正态分布，用来产生干扰。\n",
    "labels+=torch.tensor(np.random.normal(0,0.01,size=labels.size()),dtype=torch.float32)"
   ]
  },
  {
   "cell_type": "code",
   "execution_count": 6,
   "metadata": {},
   "outputs": [
    {
     "name": "stdout",
     "output_type": "stream",
     "text": [
      "tensor([1.1460, 0.7055]) tensor(4.0948)\n"
     ]
    }
   ],
   "source": [
    "print(features[0],labels[0])    #特征是1000*2维的，随机产生的，labels是通过计算得到的，1000*1"
   ]
  },
  {
   "cell_type": "code",
   "execution_count": 34,
   "metadata": {},
   "outputs": [
    {
     "data": {
      "text/plain": [
       "<matplotlib.collections.PathCollection at 0x7fe68141a8e0>"
      ]
     },
     "execution_count": 34,
     "metadata": {},
     "output_type": "execute_result"
    },
    {
     "data": {
      "image/svg+xml": "<?xml version=\"1.0\" encoding=\"utf-8\" standalone=\"no\"?>\n<!DOCTYPE svg PUBLIC \"-//W3C//DTD SVG 1.1//EN\"\n  \"http://www.w3.org/Graphics/SVG/1.1/DTD/svg11.dtd\">\n<!-- Created with matplotlib (https://matplotlib.org/) -->\n<svg height=\"166.978125pt\" version=\"1.1\" viewBox=\"0 0 237.804688 166.978125\" width=\"237.804688pt\" xmlns=\"http://www.w3.org/2000/svg\" xmlns:xlink=\"http://www.w3.org/1999/xlink\">\n <metadata>\n  <rdf:RDF xmlns:cc=\"http://creativecommons.org/ns#\" xmlns:dc=\"http://purl.org/dc/elements/1.1/\" xmlns:rdf=\"http://www.w3.org/1999/02/22-rdf-syntax-ns#\">\n   <cc:Work>\n    <dc:type rdf:resource=\"http://purl.org/dc/dcmitype/StillImage\"/>\n    <dc:date>2021-11-06T11:55:41.742974</dc:date>\n    <dc:format>image/svg+xml</dc:format>\n    <dc:creator>\n     <cc:Agent>\n      <dc:title>Matplotlib v3.3.4, https://matplotlib.org/</dc:title>\n     </cc:Agent>\n    </dc:creator>\n   </cc:Work>\n  </rdf:RDF>\n </metadata>\n <defs>\n  <style type=\"text/css\">*{stroke-linecap:butt;stroke-linejoin:round;}</style>\n </defs>\n <g id=\"figure_1\">\n  <g id=\"patch_1\">\n   <path d=\"M 0 166.978125 \nL 237.804688 166.978125 \nL 237.804688 0 \nL 0 0 \nz\n\" style=\"fill:none;\"/>\n  </g>\n  <g id=\"axes_1\">\n   <g id=\"patch_2\">\n    <path d=\"M 35.304688 143.1 \nL 230.604688 143.1 \nL 230.604688 7.2 \nL 35.304688 7.2 \nz\n\" style=\"fill:#ffffff;\"/>\n   </g>\n   <g id=\"PathCollection_1\">\n    <defs>\n     <path d=\"M 0 0.5 \nC 0.132602 0.5 0.25979 0.447317 0.353553 0.353553 \nC 0.447317 0.25979 0.5 0.132602 0.5 0 \nC 0.5 -0.132602 0.447317 -0.25979 0.353553 -0.353553 \nC 0.25979 -0.447317 0.132602 -0.5 0 -0.5 \nC -0.132602 -0.5 -0.25979 -0.447317 -0.353553 -0.353553 \nC -0.447317 -0.25979 -0.5 -0.132602 -0.5 0 \nC -0.5 0.132602 -0.447317 0.25979 -0.353553 0.353553 \nC -0.25979 0.447317 -0.132602 0.5 0 0.5 \nz\n\" id=\"me9dc8f2280\" style=\"stroke:#1f77b4;\"/>\n    </defs>\n    <g clip-path=\"url(#pf57b5926a4)\">\n     <use style=\"fill:#1f77b4;stroke:#1f77b4;\" x=\"154.722714\" xlink:href=\"#me9dc8f2280\" y=\"89.907867\"/>\n     <use style=\"fill:#1f77b4;stroke:#1f77b4;\" x=\"137.221118\" xlink:href=\"#me9dc8f2280\" y=\"83.888294\"/>\n     <use style=\"fill:#1f77b4;stroke:#1f77b4;\" x=\"88.825084\" xlink:href=\"#me9dc8f2280\" y=\"33.340957\"/>\n     <use style=\"fill:#1f77b4;stroke:#1f77b4;\" x=\"69.047065\" xlink:href=\"#me9dc8f2280\" y=\"27.428984\"/>\n     <use style=\"fill:#1f77b4;stroke:#1f77b4;\" x=\"126.592294\" xlink:href=\"#me9dc8f2280\" y=\"81.03139\"/>\n     <use style=\"fill:#1f77b4;stroke:#1f77b4;\" x=\"106.003286\" xlink:href=\"#me9dc8f2280\" y=\"41.861154\"/>\n     <use style=\"fill:#1f77b4;stroke:#1f77b4;\" x=\"121.809519\" xlink:href=\"#me9dc8f2280\" y=\"58.805582\"/>\n     <use style=\"fill:#1f77b4;stroke:#1f77b4;\" x=\"165.293279\" xlink:href=\"#me9dc8f2280\" y=\"81.02939\"/>\n     <use style=\"fill:#1f77b4;stroke:#1f77b4;\" x=\"110.866485\" xlink:href=\"#me9dc8f2280\" y=\"73.043694\"/>\n     <use style=\"fill:#1f77b4;stroke:#1f77b4;\" x=\"116.067428\" xlink:href=\"#me9dc8f2280\" y=\"64.004455\"/>\n     <use style=\"fill:#1f77b4;stroke:#1f77b4;\" x=\"68.93362\" xlink:href=\"#me9dc8f2280\" y=\"36.491057\"/>\n     <use style=\"fill:#1f77b4;stroke:#1f77b4;\" x=\"129.223182\" xlink:href=\"#me9dc8f2280\" y=\"73.096035\"/>\n     <use style=\"fill:#1f77b4;stroke:#1f77b4;\" x=\"110.005635\" xlink:href=\"#me9dc8f2280\" y=\"53.611882\"/>\n     <use style=\"fill:#1f77b4;stroke:#1f77b4;\" x=\"96.64761\" xlink:href=\"#me9dc8f2280\" y=\"54.328921\"/>\n     <use style=\"fill:#1f77b4;stroke:#1f77b4;\" x=\"121.494181\" xlink:href=\"#me9dc8f2280\" y=\"68.177163\"/>\n     <use style=\"fill:#1f77b4;stroke:#1f77b4;\" x=\"128.440705\" xlink:href=\"#me9dc8f2280\" y=\"72.162499\"/>\n     <use style=\"fill:#1f77b4;stroke:#1f77b4;\" x=\"92.319987\" xlink:href=\"#me9dc8f2280\" y=\"45.709906\"/>\n     <use style=\"fill:#1f77b4;stroke:#1f77b4;\" x=\"127.311334\" xlink:href=\"#me9dc8f2280\" y=\"65.49394\"/>\n     <use style=\"fill:#1f77b4;stroke:#1f77b4;\" x=\"138.5603\" xlink:href=\"#me9dc8f2280\" y=\"79.636102\"/>\n     <use style=\"fill:#1f77b4;stroke:#1f77b4;\" x=\"148.715464\" xlink:href=\"#me9dc8f2280\" y=\"87.507105\"/>\n     <use style=\"fill:#1f77b4;stroke:#1f77b4;\" x=\"100.866991\" xlink:href=\"#me9dc8f2280\" y=\"66.663279\"/>\n     <use style=\"fill:#1f77b4;stroke:#1f77b4;\" x=\"101.629691\" xlink:href=\"#me9dc8f2280\" y=\"58.3244\"/>\n     <use style=\"fill:#1f77b4;stroke:#1f77b4;\" x=\"167.402771\" xlink:href=\"#me9dc8f2280\" y=\"94.084629\"/>\n     <use style=\"fill:#1f77b4;stroke:#1f77b4;\" x=\"155.265483\" xlink:href=\"#me9dc8f2280\" y=\"92.587591\"/>\n     <use style=\"fill:#1f77b4;stroke:#1f77b4;\" x=\"115.084801\" xlink:href=\"#me9dc8f2280\" y=\"56.52105\"/>\n     <use style=\"fill:#1f77b4;stroke:#1f77b4;\" x=\"115.956598\" xlink:href=\"#me9dc8f2280\" y=\"61.621458\"/>\n     <use style=\"fill:#1f77b4;stroke:#1f77b4;\" x=\"71.164091\" xlink:href=\"#me9dc8f2280\" y=\"33.816225\"/>\n     <use style=\"fill:#1f77b4;stroke:#1f77b4;\" x=\"97.173847\" xlink:href=\"#me9dc8f2280\" y=\"56.962071\"/>\n     <use style=\"fill:#1f77b4;stroke:#1f77b4;\" x=\"155.002221\" xlink:href=\"#me9dc8f2280\" y=\"103.524852\"/>\n     <use style=\"fill:#1f77b4;stroke:#1f77b4;\" x=\"153.063796\" xlink:href=\"#me9dc8f2280\" y=\"78.93314\"/>\n     <use style=\"fill:#1f77b4;stroke:#1f77b4;\" x=\"134.257868\" xlink:href=\"#me9dc8f2280\" y=\"75.170551\"/>\n     <use style=\"fill:#1f77b4;stroke:#1f77b4;\" x=\"132.288677\" xlink:href=\"#me9dc8f2280\" y=\"60.357006\"/>\n     <use style=\"fill:#1f77b4;stroke:#1f77b4;\" x=\"116.307442\" xlink:href=\"#me9dc8f2280\" y=\"55.535263\"/>\n     <use style=\"fill:#1f77b4;stroke:#1f77b4;\" x=\"110.542201\" xlink:href=\"#me9dc8f2280\" y=\"64.363793\"/>\n     <use style=\"fill:#1f77b4;stroke:#1f77b4;\" x=\"93.284233\" xlink:href=\"#me9dc8f2280\" y=\"50.937643\"/>\n     <use style=\"fill:#1f77b4;stroke:#1f77b4;\" x=\"112.97975\" xlink:href=\"#me9dc8f2280\" y=\"49.709488\"/>\n     <use style=\"fill:#1f77b4;stroke:#1f77b4;\" x=\"55.07354\" xlink:href=\"#me9dc8f2280\" y=\"30.274219\"/>\n     <use style=\"fill:#1f77b4;stroke:#1f77b4;\" x=\"93.091326\" xlink:href=\"#me9dc8f2280\" y=\"48.089079\"/>\n     <use style=\"fill:#1f77b4;stroke:#1f77b4;\" x=\"126.788938\" xlink:href=\"#me9dc8f2280\" y=\"64.357047\"/>\n     <use style=\"fill:#1f77b4;stroke:#1f77b4;\" x=\"89.783121\" xlink:href=\"#me9dc8f2280\" y=\"47.692396\"/>\n     <use style=\"fill:#1f77b4;stroke:#1f77b4;\" x=\"69.824153\" xlink:href=\"#me9dc8f2280\" y=\"33.335081\"/>\n     <use style=\"fill:#1f77b4;stroke:#1f77b4;\" x=\"145.980177\" xlink:href=\"#me9dc8f2280\" y=\"86.154695\"/>\n     <use style=\"fill:#1f77b4;stroke:#1f77b4;\" x=\"123.955261\" xlink:href=\"#me9dc8f2280\" y=\"69.80421\"/>\n     <use style=\"fill:#1f77b4;stroke:#1f77b4;\" x=\"44.18196\" xlink:href=\"#me9dc8f2280\" y=\"13.377273\"/>\n     <use style=\"fill:#1f77b4;stroke:#1f77b4;\" x=\"120.419999\" xlink:href=\"#me9dc8f2280\" y=\"67.602345\"/>\n     <use style=\"fill:#1f77b4;stroke:#1f77b4;\" x=\"86.112788\" xlink:href=\"#me9dc8f2280\" y=\"28.835455\"/>\n     <use style=\"fill:#1f77b4;stroke:#1f77b4;\" x=\"128.034121\" xlink:href=\"#me9dc8f2280\" y=\"58.560255\"/>\n     <use style=\"fill:#1f77b4;stroke:#1f77b4;\" x=\"135.426468\" xlink:href=\"#me9dc8f2280\" y=\"86.971926\"/>\n     <use style=\"fill:#1f77b4;stroke:#1f77b4;\" x=\"139.879245\" xlink:href=\"#me9dc8f2280\" y=\"73.246692\"/>\n     <use style=\"fill:#1f77b4;stroke:#1f77b4;\" x=\"61.717095\" xlink:href=\"#me9dc8f2280\" y=\"24.486671\"/>\n     <use style=\"fill:#1f77b4;stroke:#1f77b4;\" x=\"91.995241\" xlink:href=\"#me9dc8f2280\" y=\"49.289535\"/>\n     <use style=\"fill:#1f77b4;stroke:#1f77b4;\" x=\"128.244703\" xlink:href=\"#me9dc8f2280\" y=\"66.587387\"/>\n     <use style=\"fill:#1f77b4;stroke:#1f77b4;\" x=\"153.192303\" xlink:href=\"#me9dc8f2280\" y=\"76.817472\"/>\n     <use style=\"fill:#1f77b4;stroke:#1f77b4;\" x=\"114.452415\" xlink:href=\"#me9dc8f2280\" y=\"55.586476\"/>\n     <use style=\"fill:#1f77b4;stroke:#1f77b4;\" x=\"170.145923\" xlink:href=\"#me9dc8f2280\" y=\"81.652155\"/>\n     <use style=\"fill:#1f77b4;stroke:#1f77b4;\" x=\"81.383436\" xlink:href=\"#me9dc8f2280\" y=\"35.872591\"/>\n     <use style=\"fill:#1f77b4;stroke:#1f77b4;\" x=\"173.756892\" xlink:href=\"#me9dc8f2280\" y=\"88.888799\"/>\n     <use style=\"fill:#1f77b4;stroke:#1f77b4;\" x=\"119.001579\" xlink:href=\"#me9dc8f2280\" y=\"67.462019\"/>\n     <use style=\"fill:#1f77b4;stroke:#1f77b4;\" x=\"139.647853\" xlink:href=\"#me9dc8f2280\" y=\"74.212648\"/>\n     <use style=\"fill:#1f77b4;stroke:#1f77b4;\" x=\"124.414518\" xlink:href=\"#me9dc8f2280\" y=\"69.920393\"/>\n     <use style=\"fill:#1f77b4;stroke:#1f77b4;\" x=\"141.859706\" xlink:href=\"#me9dc8f2280\" y=\"84.102107\"/>\n     <use style=\"fill:#1f77b4;stroke:#1f77b4;\" x=\"137.537891\" xlink:href=\"#me9dc8f2280\" y=\"72.33259\"/>\n     <use style=\"fill:#1f77b4;stroke:#1f77b4;\" x=\"101.385607\" xlink:href=\"#me9dc8f2280\" y=\"49.593756\"/>\n     <use style=\"fill:#1f77b4;stroke:#1f77b4;\" x=\"140.198521\" xlink:href=\"#me9dc8f2280\" y=\"88.286803\"/>\n     <use style=\"fill:#1f77b4;stroke:#1f77b4;\" x=\"115.778671\" xlink:href=\"#me9dc8f2280\" y=\"56.001224\"/>\n     <use style=\"fill:#1f77b4;stroke:#1f77b4;\" x=\"148.659751\" xlink:href=\"#me9dc8f2280\" y=\"103.212216\"/>\n     <use style=\"fill:#1f77b4;stroke:#1f77b4;\" x=\"136.191219\" xlink:href=\"#me9dc8f2280\" y=\"75.154255\"/>\n     <use style=\"fill:#1f77b4;stroke:#1f77b4;\" x=\"100.585339\" xlink:href=\"#me9dc8f2280\" y=\"56.946266\"/>\n     <use style=\"fill:#1f77b4;stroke:#1f77b4;\" x=\"139.408928\" xlink:href=\"#me9dc8f2280\" y=\"88.069066\"/>\n     <use style=\"fill:#1f77b4;stroke:#1f77b4;\" x=\"68.229235\" xlink:href=\"#me9dc8f2280\" y=\"44.165882\"/>\n     <use style=\"fill:#1f77b4;stroke:#1f77b4;\" x=\"114.776237\" xlink:href=\"#me9dc8f2280\" y=\"53.334043\"/>\n     <use style=\"fill:#1f77b4;stroke:#1f77b4;\" x=\"88.500668\" xlink:href=\"#me9dc8f2280\" y=\"55.125804\"/>\n     <use style=\"fill:#1f77b4;stroke:#1f77b4;\" x=\"120.21732\" xlink:href=\"#me9dc8f2280\" y=\"68.917523\"/>\n     <use style=\"fill:#1f77b4;stroke:#1f77b4;\" x=\"139.73544\" xlink:href=\"#me9dc8f2280\" y=\"99.489827\"/>\n     <use style=\"fill:#1f77b4;stroke:#1f77b4;\" x=\"137.637544\" xlink:href=\"#me9dc8f2280\" y=\"91.562857\"/>\n     <use style=\"fill:#1f77b4;stroke:#1f77b4;\" x=\"150.345834\" xlink:href=\"#me9dc8f2280\" y=\"86.55194\"/>\n     <use style=\"fill:#1f77b4;stroke:#1f77b4;\" x=\"160.651138\" xlink:href=\"#me9dc8f2280\" y=\"105.974043\"/>\n     <use style=\"fill:#1f77b4;stroke:#1f77b4;\" x=\"138.712956\" xlink:href=\"#me9dc8f2280\" y=\"69.252655\"/>\n     <use style=\"fill:#1f77b4;stroke:#1f77b4;\" x=\"108.574355\" xlink:href=\"#me9dc8f2280\" y=\"59.173074\"/>\n     <use style=\"fill:#1f77b4;stroke:#1f77b4;\" x=\"102.4923\" xlink:href=\"#me9dc8f2280\" y=\"34.202945\"/>\n     <use style=\"fill:#1f77b4;stroke:#1f77b4;\" x=\"97.495007\" xlink:href=\"#me9dc8f2280\" y=\"48.557467\"/>\n     <use style=\"fill:#1f77b4;stroke:#1f77b4;\" x=\"158.142026\" xlink:href=\"#me9dc8f2280\" y=\"94.860996\"/>\n     <use style=\"fill:#1f77b4;stroke:#1f77b4;\" x=\"146.372515\" xlink:href=\"#me9dc8f2280\" y=\"94.376725\"/>\n     <use style=\"fill:#1f77b4;stroke:#1f77b4;\" x=\"72.178889\" xlink:href=\"#me9dc8f2280\" y=\"27.571648\"/>\n     <use style=\"fill:#1f77b4;stroke:#1f77b4;\" x=\"93.834057\" xlink:href=\"#me9dc8f2280\" y=\"43.838195\"/>\n     <use style=\"fill:#1f77b4;stroke:#1f77b4;\" x=\"113.082891\" xlink:href=\"#me9dc8f2280\" y=\"68.015209\"/>\n     <use style=\"fill:#1f77b4;stroke:#1f77b4;\" x=\"114.706431\" xlink:href=\"#me9dc8f2280\" y=\"69.797262\"/>\n     <use style=\"fill:#1f77b4;stroke:#1f77b4;\" x=\"124.564052\" xlink:href=\"#me9dc8f2280\" y=\"64.615686\"/>\n     <use style=\"fill:#1f77b4;stroke:#1f77b4;\" x=\"122.620767\" xlink:href=\"#me9dc8f2280\" y=\"58.976963\"/>\n     <use style=\"fill:#1f77b4;stroke:#1f77b4;\" x=\"113.319141\" xlink:href=\"#me9dc8f2280\" y=\"53.945703\"/>\n     <use style=\"fill:#1f77b4;stroke:#1f77b4;\" x=\"112.694946\" xlink:href=\"#me9dc8f2280\" y=\"49.448044\"/>\n     <use style=\"fill:#1f77b4;stroke:#1f77b4;\" x=\"150.840093\" xlink:href=\"#me9dc8f2280\" y=\"87.777256\"/>\n     <use style=\"fill:#1f77b4;stroke:#1f77b4;\" x=\"136.106707\" xlink:href=\"#me9dc8f2280\" y=\"75.694545\"/>\n     <use style=\"fill:#1f77b4;stroke:#1f77b4;\" x=\"137.786029\" xlink:href=\"#me9dc8f2280\" y=\"69.760107\"/>\n     <use style=\"fill:#1f77b4;stroke:#1f77b4;\" x=\"115.953025\" xlink:href=\"#me9dc8f2280\" y=\"69.746753\"/>\n     <use style=\"fill:#1f77b4;stroke:#1f77b4;\" x=\"110.839207\" xlink:href=\"#me9dc8f2280\" y=\"57.358785\"/>\n     <use style=\"fill:#1f77b4;stroke:#1f77b4;\" x=\"101.810486\" xlink:href=\"#me9dc8f2280\" y=\"37.100242\"/>\n     <use style=\"fill:#1f77b4;stroke:#1f77b4;\" x=\"118.1775\" xlink:href=\"#me9dc8f2280\" y=\"51.411341\"/>\n     <use style=\"fill:#1f77b4;stroke:#1f77b4;\" x=\"133.834703\" xlink:href=\"#me9dc8f2280\" y=\"67.119253\"/>\n     <use style=\"fill:#1f77b4;stroke:#1f77b4;\" x=\"133.015386\" xlink:href=\"#me9dc8f2280\" y=\"77.969398\"/>\n     <use style=\"fill:#1f77b4;stroke:#1f77b4;\" x=\"114.969585\" xlink:href=\"#me9dc8f2280\" y=\"67.998134\"/>\n     <use style=\"fill:#1f77b4;stroke:#1f77b4;\" x=\"82.61971\" xlink:href=\"#me9dc8f2280\" y=\"36.306608\"/>\n     <use style=\"fill:#1f77b4;stroke:#1f77b4;\" x=\"97.89866\" xlink:href=\"#me9dc8f2280\" y=\"58.174315\"/>\n     <use style=\"fill:#1f77b4;stroke:#1f77b4;\" x=\"122.600258\" xlink:href=\"#me9dc8f2280\" y=\"55.739388\"/>\n     <use style=\"fill:#1f77b4;stroke:#1f77b4;\" x=\"130.786001\" xlink:href=\"#me9dc8f2280\" y=\"49.635028\"/>\n     <use style=\"fill:#1f77b4;stroke:#1f77b4;\" x=\"159.424037\" xlink:href=\"#me9dc8f2280\" y=\"71.624139\"/>\n     <use style=\"fill:#1f77b4;stroke:#1f77b4;\" x=\"135.804089\" xlink:href=\"#me9dc8f2280\" y=\"82.254411\"/>\n     <use style=\"fill:#1f77b4;stroke:#1f77b4;\" x=\"137.574075\" xlink:href=\"#me9dc8f2280\" y=\"78.856654\"/>\n     <use style=\"fill:#1f77b4;stroke:#1f77b4;\" x=\"99.311574\" xlink:href=\"#me9dc8f2280\" y=\"59.841157\"/>\n     <use style=\"fill:#1f77b4;stroke:#1f77b4;\" x=\"99.674969\" xlink:href=\"#me9dc8f2280\" y=\"53.52106\"/>\n     <use style=\"fill:#1f77b4;stroke:#1f77b4;\" x=\"110.026358\" xlink:href=\"#me9dc8f2280\" y=\"44.866917\"/>\n     <use style=\"fill:#1f77b4;stroke:#1f77b4;\" x=\"161.299466\" xlink:href=\"#me9dc8f2280\" y=\"87.628712\"/>\n     <use style=\"fill:#1f77b4;stroke:#1f77b4;\" x=\"71.635187\" xlink:href=\"#me9dc8f2280\" y=\"45.77319\"/>\n     <use style=\"fill:#1f77b4;stroke:#1f77b4;\" x=\"131.779965\" xlink:href=\"#me9dc8f2280\" y=\"79.656916\"/>\n     <use style=\"fill:#1f77b4;stroke:#1f77b4;\" x=\"114.547603\" xlink:href=\"#me9dc8f2280\" y=\"60.649332\"/>\n     <use style=\"fill:#1f77b4;stroke:#1f77b4;\" x=\"120.880142\" xlink:href=\"#me9dc8f2280\" y=\"68.10088\"/>\n     <use style=\"fill:#1f77b4;stroke:#1f77b4;\" x=\"93.44425\" xlink:href=\"#me9dc8f2280\" y=\"56.319412\"/>\n     <use style=\"fill:#1f77b4;stroke:#1f77b4;\" x=\"133.933467\" xlink:href=\"#me9dc8f2280\" y=\"68.251442\"/>\n     <use style=\"fill:#1f77b4;stroke:#1f77b4;\" x=\"129.968046\" xlink:href=\"#me9dc8f2280\" y=\"61.150495\"/>\n     <use style=\"fill:#1f77b4;stroke:#1f77b4;\" x=\"102.202751\" xlink:href=\"#me9dc8f2280\" y=\"57.042436\"/>\n     <use style=\"fill:#1f77b4;stroke:#1f77b4;\" x=\"100.839233\" xlink:href=\"#me9dc8f2280\" y=\"54.484752\"/>\n     <use style=\"fill:#1f77b4;stroke:#1f77b4;\" x=\"75.206239\" xlink:href=\"#me9dc8f2280\" y=\"23.44994\"/>\n     <use style=\"fill:#1f77b4;stroke:#1f77b4;\" x=\"124.59424\" xlink:href=\"#me9dc8f2280\" y=\"71.269465\"/>\n     <use style=\"fill:#1f77b4;stroke:#1f77b4;\" x=\"135.924375\" xlink:href=\"#me9dc8f2280\" y=\"84.451287\"/>\n     <use style=\"fill:#1f77b4;stroke:#1f77b4;\" x=\"109.144568\" xlink:href=\"#me9dc8f2280\" y=\"72.832896\"/>\n     <use style=\"fill:#1f77b4;stroke:#1f77b4;\" x=\"84.076741\" xlink:href=\"#me9dc8f2280\" y=\"24.906481\"/>\n     <use style=\"fill:#1f77b4;stroke:#1f77b4;\" x=\"125.623869\" xlink:href=\"#me9dc8f2280\" y=\"75.240708\"/>\n     <use style=\"fill:#1f77b4;stroke:#1f77b4;\" x=\"94.268239\" xlink:href=\"#me9dc8f2280\" y=\"52.961687\"/>\n     <use style=\"fill:#1f77b4;stroke:#1f77b4;\" x=\"148.190812\" xlink:href=\"#me9dc8f2280\" y=\"76.233062\"/>\n     <use style=\"fill:#1f77b4;stroke:#1f77b4;\" x=\"133.863066\" xlink:href=\"#me9dc8f2280\" y=\"75.669868\"/>\n     <use style=\"fill:#1f77b4;stroke:#1f77b4;\" x=\"102.114786\" xlink:href=\"#me9dc8f2280\" y=\"46.995547\"/>\n     <use style=\"fill:#1f77b4;stroke:#1f77b4;\" x=\"81.570256\" xlink:href=\"#me9dc8f2280\" y=\"41.168297\"/>\n     <use style=\"fill:#1f77b4;stroke:#1f77b4;\" x=\"138.117412\" xlink:href=\"#me9dc8f2280\" y=\"75.100345\"/>\n     <use style=\"fill:#1f77b4;stroke:#1f77b4;\" x=\"108.487544\" xlink:href=\"#me9dc8f2280\" y=\"69.205292\"/>\n     <use style=\"fill:#1f77b4;stroke:#1f77b4;\" x=\"89.210071\" xlink:href=\"#me9dc8f2280\" y=\"61.629819\"/>\n     <use style=\"fill:#1f77b4;stroke:#1f77b4;\" x=\"140.963856\" xlink:href=\"#me9dc8f2280\" y=\"79.809192\"/>\n     <use style=\"fill:#1f77b4;stroke:#1f77b4;\" x=\"90.442881\" xlink:href=\"#me9dc8f2280\" y=\"44.884136\"/>\n     <use style=\"fill:#1f77b4;stroke:#1f77b4;\" x=\"146.123557\" xlink:href=\"#me9dc8f2280\" y=\"87.584574\"/>\n     <use style=\"fill:#1f77b4;stroke:#1f77b4;\" x=\"127.773539\" xlink:href=\"#me9dc8f2280\" y=\"70.614073\"/>\n     <use style=\"fill:#1f77b4;stroke:#1f77b4;\" x=\"85.247846\" xlink:href=\"#me9dc8f2280\" y=\"59.174632\"/>\n     <use style=\"fill:#1f77b4;stroke:#1f77b4;\" x=\"110.213035\" xlink:href=\"#me9dc8f2280\" y=\"54.005153\"/>\n     <use style=\"fill:#1f77b4;stroke:#1f77b4;\" x=\"80.646778\" xlink:href=\"#me9dc8f2280\" y=\"39.995518\"/>\n     <use style=\"fill:#1f77b4;stroke:#1f77b4;\" x=\"112.753506\" xlink:href=\"#me9dc8f2280\" y=\"47.529923\"/>\n     <use style=\"fill:#1f77b4;stroke:#1f77b4;\" x=\"134.076289\" xlink:href=\"#me9dc8f2280\" y=\"68.179625\"/>\n     <use style=\"fill:#1f77b4;stroke:#1f77b4;\" x=\"147.188211\" xlink:href=\"#me9dc8f2280\" y=\"64.510311\"/>\n     <use style=\"fill:#1f77b4;stroke:#1f77b4;\" x=\"127.076188\" xlink:href=\"#me9dc8f2280\" y=\"61.436478\"/>\n     <use style=\"fill:#1f77b4;stroke:#1f77b4;\" x=\"143.348296\" xlink:href=\"#me9dc8f2280\" y=\"77.119844\"/>\n     <use style=\"fill:#1f77b4;stroke:#1f77b4;\" x=\"107.656842\" xlink:href=\"#me9dc8f2280\" y=\"43.513177\"/>\n     <use style=\"fill:#1f77b4;stroke:#1f77b4;\" x=\"108.665018\" xlink:href=\"#me9dc8f2280\" y=\"54.981256\"/>\n     <use style=\"fill:#1f77b4;stroke:#1f77b4;\" x=\"108.439252\" xlink:href=\"#me9dc8f2280\" y=\"55.32591\"/>\n     <use style=\"fill:#1f77b4;stroke:#1f77b4;\" x=\"129.248405\" xlink:href=\"#me9dc8f2280\" y=\"52.157349\"/>\n     <use style=\"fill:#1f77b4;stroke:#1f77b4;\" x=\"126.800723\" xlink:href=\"#me9dc8f2280\" y=\"62.57497\"/>\n     <use style=\"fill:#1f77b4;stroke:#1f77b4;\" x=\"103.051947\" xlink:href=\"#me9dc8f2280\" y=\"56.342411\"/>\n     <use style=\"fill:#1f77b4;stroke:#1f77b4;\" x=\"145.057331\" xlink:href=\"#me9dc8f2280\" y=\"81.557391\"/>\n     <use style=\"fill:#1f77b4;stroke:#1f77b4;\" x=\"132.227844\" xlink:href=\"#me9dc8f2280\" y=\"96.159706\"/>\n     <use style=\"fill:#1f77b4;stroke:#1f77b4;\" x=\"77.840673\" xlink:href=\"#me9dc8f2280\" y=\"31.062985\"/>\n     <use style=\"fill:#1f77b4;stroke:#1f77b4;\" x=\"131.65458\" xlink:href=\"#me9dc8f2280\" y=\"75.462245\"/>\n     <use style=\"fill:#1f77b4;stroke:#1f77b4;\" x=\"122.296522\" xlink:href=\"#me9dc8f2280\" y=\"67.062271\"/>\n     <use style=\"fill:#1f77b4;stroke:#1f77b4;\" x=\"152.717296\" xlink:href=\"#me9dc8f2280\" y=\"100.142418\"/>\n     <use style=\"fill:#1f77b4;stroke:#1f77b4;\" x=\"137.392736\" xlink:href=\"#me9dc8f2280\" y=\"76.922734\"/>\n     <use style=\"fill:#1f77b4;stroke:#1f77b4;\" x=\"147.803406\" xlink:href=\"#me9dc8f2280\" y=\"82.437492\"/>\n     <use style=\"fill:#1f77b4;stroke:#1f77b4;\" x=\"135.597829\" xlink:href=\"#me9dc8f2280\" y=\"87.533877\"/>\n     <use style=\"fill:#1f77b4;stroke:#1f77b4;\" x=\"132.045184\" xlink:href=\"#me9dc8f2280\" y=\"75.042013\"/>\n     <use style=\"fill:#1f77b4;stroke:#1f77b4;\" x=\"137.569242\" xlink:href=\"#me9dc8f2280\" y=\"82.405684\"/>\n     <use style=\"fill:#1f77b4;stroke:#1f77b4;\" x=\"127.733413\" xlink:href=\"#me9dc8f2280\" y=\"83.24826\"/>\n     <use style=\"fill:#1f77b4;stroke:#1f77b4;\" x=\"105.120619\" xlink:href=\"#me9dc8f2280\" y=\"38.614183\"/>\n     <use style=\"fill:#1f77b4;stroke:#1f77b4;\" x=\"103.160188\" xlink:href=\"#me9dc8f2280\" y=\"54.836305\"/>\n     <use style=\"fill:#1f77b4;stroke:#1f77b4;\" x=\"114.924226\" xlink:href=\"#me9dc8f2280\" y=\"68.190212\"/>\n     <use style=\"fill:#1f77b4;stroke:#1f77b4;\" x=\"103.314964\" xlink:href=\"#me9dc8f2280\" y=\"43.400876\"/>\n     <use style=\"fill:#1f77b4;stroke:#1f77b4;\" x=\"162.698008\" xlink:href=\"#me9dc8f2280\" y=\"108.295208\"/>\n     <use style=\"fill:#1f77b4;stroke:#1f77b4;\" x=\"138.042312\" xlink:href=\"#me9dc8f2280\" y=\"73.555913\"/>\n     <use style=\"fill:#1f77b4;stroke:#1f77b4;\" x=\"138.916517\" xlink:href=\"#me9dc8f2280\" y=\"80.200639\"/>\n     <use style=\"fill:#1f77b4;stroke:#1f77b4;\" x=\"74.331282\" xlink:href=\"#me9dc8f2280\" y=\"28.774261\"/>\n     <use style=\"fill:#1f77b4;stroke:#1f77b4;\" x=\"87.85168\" xlink:href=\"#me9dc8f2280\" y=\"46.850532\"/>\n     <use style=\"fill:#1f77b4;stroke:#1f77b4;\" x=\"95.575957\" xlink:href=\"#me9dc8f2280\" y=\"39.439159\"/>\n     <use style=\"fill:#1f77b4;stroke:#1f77b4;\" x=\"115.337641\" xlink:href=\"#me9dc8f2280\" y=\"67.224838\"/>\n     <use style=\"fill:#1f77b4;stroke:#1f77b4;\" x=\"85.706699\" xlink:href=\"#me9dc8f2280\" y=\"40.670896\"/>\n     <use style=\"fill:#1f77b4;stroke:#1f77b4;\" x=\"131.088203\" xlink:href=\"#me9dc8f2280\" y=\"76.096821\"/>\n     <use style=\"fill:#1f77b4;stroke:#1f77b4;\" x=\"95.390561\" xlink:href=\"#me9dc8f2280\" y=\"44.524052\"/>\n     <use style=\"fill:#1f77b4;stroke:#1f77b4;\" x=\"151.544717\" xlink:href=\"#me9dc8f2280\" y=\"92.027884\"/>\n     <use style=\"fill:#1f77b4;stroke:#1f77b4;\" x=\"172.621989\" xlink:href=\"#me9dc8f2280\" y=\"101.4041\"/>\n     <use style=\"fill:#1f77b4;stroke:#1f77b4;\" x=\"139.331047\" xlink:href=\"#me9dc8f2280\" y=\"78.25295\"/>\n     <use style=\"fill:#1f77b4;stroke:#1f77b4;\" x=\"82.083509\" xlink:href=\"#me9dc8f2280\" y=\"48.571509\"/>\n     <use style=\"fill:#1f77b4;stroke:#1f77b4;\" x=\"141.199555\" xlink:href=\"#me9dc8f2280\" y=\"81.368592\"/>\n     <use style=\"fill:#1f77b4;stroke:#1f77b4;\" x=\"106.809205\" xlink:href=\"#me9dc8f2280\" y=\"55.834436\"/>\n     <use style=\"fill:#1f77b4;stroke:#1f77b4;\" x=\"134.382013\" xlink:href=\"#me9dc8f2280\" y=\"81.888519\"/>\n     <use style=\"fill:#1f77b4;stroke:#1f77b4;\" x=\"92.835742\" xlink:href=\"#me9dc8f2280\" y=\"35.175949\"/>\n     <use style=\"fill:#1f77b4;stroke:#1f77b4;\" x=\"116.773994\" xlink:href=\"#me9dc8f2280\" y=\"51.959406\"/>\n     <use style=\"fill:#1f77b4;stroke:#1f77b4;\" x=\"116.315552\" xlink:href=\"#me9dc8f2280\" y=\"48.653086\"/>\n     <use style=\"fill:#1f77b4;stroke:#1f77b4;\" x=\"115.723145\" xlink:href=\"#me9dc8f2280\" y=\"60.525767\"/>\n     <use style=\"fill:#1f77b4;stroke:#1f77b4;\" x=\"78.887588\" xlink:href=\"#me9dc8f2280\" y=\"34.216792\"/>\n     <use style=\"fill:#1f77b4;stroke:#1f77b4;\" x=\"102.347287\" xlink:href=\"#me9dc8f2280\" y=\"56.555535\"/>\n     <use style=\"fill:#1f77b4;stroke:#1f77b4;\" x=\"74.233773\" xlink:href=\"#me9dc8f2280\" y=\"39.649471\"/>\n     <use style=\"fill:#1f77b4;stroke:#1f77b4;\" x=\"76.427429\" xlink:href=\"#me9dc8f2280\" y=\"27.637048\"/>\n     <use style=\"fill:#1f77b4;stroke:#1f77b4;\" x=\"123.726376\" xlink:href=\"#me9dc8f2280\" y=\"74.930124\"/>\n     <use style=\"fill:#1f77b4;stroke:#1f77b4;\" x=\"118.954161\" xlink:href=\"#me9dc8f2280\" y=\"72.245304\"/>\n     <use style=\"fill:#1f77b4;stroke:#1f77b4;\" x=\"139.641867\" xlink:href=\"#me9dc8f2280\" y=\"85.841973\"/>\n     <use style=\"fill:#1f77b4;stroke:#1f77b4;\" x=\"117.891094\" xlink:href=\"#me9dc8f2280\" y=\"50.83129\"/>\n     <use style=\"fill:#1f77b4;stroke:#1f77b4;\" x=\"112.179756\" xlink:href=\"#me9dc8f2280\" y=\"53.248967\"/>\n     <use style=\"fill:#1f77b4;stroke:#1f77b4;\" x=\"110.533361\" xlink:href=\"#me9dc8f2280\" y=\"50.522739\"/>\n     <use style=\"fill:#1f77b4;stroke:#1f77b4;\" x=\"139.39579\" xlink:href=\"#me9dc8f2280\" y=\"76.2512\"/>\n     <use style=\"fill:#1f77b4;stroke:#1f77b4;\" x=\"144.857079\" xlink:href=\"#me9dc8f2280\" y=\"69.73804\"/>\n     <use style=\"fill:#1f77b4;stroke:#1f77b4;\" x=\"104.409897\" xlink:href=\"#me9dc8f2280\" y=\"48.743573\"/>\n     <use style=\"fill:#1f77b4;stroke:#1f77b4;\" x=\"96.566805\" xlink:href=\"#me9dc8f2280\" y=\"41.719788\"/>\n     <use style=\"fill:#1f77b4;stroke:#1f77b4;\" x=\"133.058188\" xlink:href=\"#me9dc8f2280\" y=\"71.770564\"/>\n     <use style=\"fill:#1f77b4;stroke:#1f77b4;\" x=\"122.302261\" xlink:href=\"#me9dc8f2280\" y=\"63.496817\"/>\n     <use style=\"fill:#1f77b4;stroke:#1f77b4;\" x=\"155.939582\" xlink:href=\"#me9dc8f2280\" y=\"108.173767\"/>\n     <use style=\"fill:#1f77b4;stroke:#1f77b4;\" x=\"127.636647\" xlink:href=\"#me9dc8f2280\" y=\"76.190287\"/>\n     <use style=\"fill:#1f77b4;stroke:#1f77b4;\" x=\"82.512949\" xlink:href=\"#me9dc8f2280\" y=\"39.325751\"/>\n     <use style=\"fill:#1f77b4;stroke:#1f77b4;\" x=\"99.957518\" xlink:href=\"#me9dc8f2280\" y=\"59.657399\"/>\n     <use style=\"fill:#1f77b4;stroke:#1f77b4;\" x=\"121.698766\" xlink:href=\"#me9dc8f2280\" y=\"57.902615\"/>\n     <use style=\"fill:#1f77b4;stroke:#1f77b4;\" x=\"73.666657\" xlink:href=\"#me9dc8f2280\" y=\"37.089176\"/>\n     <use style=\"fill:#1f77b4;stroke:#1f77b4;\" x=\"130.876321\" xlink:href=\"#me9dc8f2280\" y=\"90.211679\"/>\n     <use style=\"fill:#1f77b4;stroke:#1f77b4;\" x=\"132.985185\" xlink:href=\"#me9dc8f2280\" y=\"80.622375\"/>\n     <use style=\"fill:#1f77b4;stroke:#1f77b4;\" x=\"112.480127\" xlink:href=\"#me9dc8f2280\" y=\"72.435685\"/>\n     <use style=\"fill:#1f77b4;stroke:#1f77b4;\" x=\"129.862294\" xlink:href=\"#me9dc8f2280\" y=\"78.721869\"/>\n     <use style=\"fill:#1f77b4;stroke:#1f77b4;\" x=\"112.525079\" xlink:href=\"#me9dc8f2280\" y=\"69.699046\"/>\n     <use style=\"fill:#1f77b4;stroke:#1f77b4;\" x=\"127.386186\" xlink:href=\"#me9dc8f2280\" y=\"80.633811\"/>\n     <use style=\"fill:#1f77b4;stroke:#1f77b4;\" x=\"121.766398\" xlink:href=\"#me9dc8f2280\" y=\"57.463496\"/>\n     <use style=\"fill:#1f77b4;stroke:#1f77b4;\" x=\"84.769469\" xlink:href=\"#me9dc8f2280\" y=\"29.610973\"/>\n     <use style=\"fill:#1f77b4;stroke:#1f77b4;\" x=\"138.50401\" xlink:href=\"#me9dc8f2280\" y=\"81.624659\"/>\n     <use style=\"fill:#1f77b4;stroke:#1f77b4;\" x=\"114.642934\" xlink:href=\"#me9dc8f2280\" y=\"75.991484\"/>\n     <use style=\"fill:#1f77b4;stroke:#1f77b4;\" x=\"127.821032\" xlink:href=\"#me9dc8f2280\" y=\"69.841049\"/>\n     <use style=\"fill:#1f77b4;stroke:#1f77b4;\" x=\"105.39089\" xlink:href=\"#me9dc8f2280\" y=\"56.962222\"/>\n     <use style=\"fill:#1f77b4;stroke:#1f77b4;\" x=\"159.000445\" xlink:href=\"#me9dc8f2280\" y=\"91.348887\"/>\n     <use style=\"fill:#1f77b4;stroke:#1f77b4;\" x=\"130.425512\" xlink:href=\"#me9dc8f2280\" y=\"71.532691\"/>\n     <use style=\"fill:#1f77b4;stroke:#1f77b4;\" x=\"140.505846\" xlink:href=\"#me9dc8f2280\" y=\"82.387146\"/>\n     <use style=\"fill:#1f77b4;stroke:#1f77b4;\" x=\"110.585927\" xlink:href=\"#me9dc8f2280\" y=\"65.428821\"/>\n     <use style=\"fill:#1f77b4;stroke:#1f77b4;\" x=\"108.805894\" xlink:href=\"#me9dc8f2280\" y=\"58.079545\"/>\n     <use style=\"fill:#1f77b4;stroke:#1f77b4;\" x=\"96.844628\" xlink:href=\"#me9dc8f2280\" y=\"58.457663\"/>\n     <use style=\"fill:#1f77b4;stroke:#1f77b4;\" x=\"120.937061\" xlink:href=\"#me9dc8f2280\" y=\"73.19528\"/>\n     <use style=\"fill:#1f77b4;stroke:#1f77b4;\" x=\"76.495592\" xlink:href=\"#me9dc8f2280\" y=\"45.515622\"/>\n     <use style=\"fill:#1f77b4;stroke:#1f77b4;\" x=\"133.5053\" xlink:href=\"#me9dc8f2280\" y=\"82.201394\"/>\n     <use style=\"fill:#1f77b4;stroke:#1f77b4;\" x=\"143.822522\" xlink:href=\"#me9dc8f2280\" y=\"82.170053\"/>\n     <use style=\"fill:#1f77b4;stroke:#1f77b4;\" x=\"123.840184\" xlink:href=\"#me9dc8f2280\" y=\"72.323058\"/>\n     <use style=\"fill:#1f77b4;stroke:#1f77b4;\" x=\"126.268778\" xlink:href=\"#me9dc8f2280\" y=\"73.709979\"/>\n     <use style=\"fill:#1f77b4;stroke:#1f77b4;\" x=\"146.434984\" xlink:href=\"#me9dc8f2280\" y=\"101.126864\"/>\n     <use style=\"fill:#1f77b4;stroke:#1f77b4;\" x=\"137.538328\" xlink:href=\"#me9dc8f2280\" y=\"67.772416\"/>\n     <use style=\"fill:#1f77b4;stroke:#1f77b4;\" x=\"112.595828\" xlink:href=\"#me9dc8f2280\" y=\"65.56096\"/>\n     <use style=\"fill:#1f77b4;stroke:#1f77b4;\" x=\"122.854756\" xlink:href=\"#me9dc8f2280\" y=\"57.968449\"/>\n     <use style=\"fill:#1f77b4;stroke:#1f77b4;\" x=\"141.601467\" xlink:href=\"#me9dc8f2280\" y=\"83.802812\"/>\n     <use style=\"fill:#1f77b4;stroke:#1f77b4;\" x=\"104.758201\" xlink:href=\"#me9dc8f2280\" y=\"57.728042\"/>\n     <use style=\"fill:#1f77b4;stroke:#1f77b4;\" x=\"141.832787\" xlink:href=\"#me9dc8f2280\" y=\"79.398417\"/>\n     <use style=\"fill:#1f77b4;stroke:#1f77b4;\" x=\"96.918959\" xlink:href=\"#me9dc8f2280\" y=\"39.972448\"/>\n     <use style=\"fill:#1f77b4;stroke:#1f77b4;\" x=\"103.451802\" xlink:href=\"#me9dc8f2280\" y=\"68.923535\"/>\n     <use style=\"fill:#1f77b4;stroke:#1f77b4;\" x=\"160.716259\" xlink:href=\"#me9dc8f2280\" y=\"99.083102\"/>\n     <use style=\"fill:#1f77b4;stroke:#1f77b4;\" x=\"93.643139\" xlink:href=\"#me9dc8f2280\" y=\"56.828161\"/>\n     <use style=\"fill:#1f77b4;stroke:#1f77b4;\" x=\"168.55261\" xlink:href=\"#me9dc8f2280\" y=\"89.864869\"/>\n     <use style=\"fill:#1f77b4;stroke:#1f77b4;\" x=\"88.978831\" xlink:href=\"#me9dc8f2280\" y=\"45.12046\"/>\n     <use style=\"fill:#1f77b4;stroke:#1f77b4;\" x=\"94.534304\" xlink:href=\"#me9dc8f2280\" y=\"43.029458\"/>\n     <use style=\"fill:#1f77b4;stroke:#1f77b4;\" x=\"111.14709\" xlink:href=\"#me9dc8f2280\" y=\"65.446935\"/>\n     <use style=\"fill:#1f77b4;stroke:#1f77b4;\" x=\"151.752108\" xlink:href=\"#me9dc8f2280\" y=\"80.632727\"/>\n     <use style=\"fill:#1f77b4;stroke:#1f77b4;\" x=\"100.585501\" xlink:href=\"#me9dc8f2280\" y=\"54.848559\"/>\n     <use style=\"fill:#1f77b4;stroke:#1f77b4;\" x=\"88.274096\" xlink:href=\"#me9dc8f2280\" y=\"38.845726\"/>\n     <use style=\"fill:#1f77b4;stroke:#1f77b4;\" x=\"142.885618\" xlink:href=\"#me9dc8f2280\" y=\"87.453454\"/>\n     <use style=\"fill:#1f77b4;stroke:#1f77b4;\" x=\"140.170289\" xlink:href=\"#me9dc8f2280\" y=\"92.949078\"/>\n     <use style=\"fill:#1f77b4;stroke:#1f77b4;\" x=\"121.52412\" xlink:href=\"#me9dc8f2280\" y=\"57.505835\"/>\n     <use style=\"fill:#1f77b4;stroke:#1f77b4;\" x=\"126.088169\" xlink:href=\"#me9dc8f2280\" y=\"62.025847\"/>\n     <use style=\"fill:#1f77b4;stroke:#1f77b4;\" x=\"107.27232\" xlink:href=\"#me9dc8f2280\" y=\"56.451193\"/>\n     <use style=\"fill:#1f77b4;stroke:#1f77b4;\" x=\"144.80148\" xlink:href=\"#me9dc8f2280\" y=\"87.753223\"/>\n     <use style=\"fill:#1f77b4;stroke:#1f77b4;\" x=\"149.395806\" xlink:href=\"#me9dc8f2280\" y=\"79.543467\"/>\n     <use style=\"fill:#1f77b4;stroke:#1f77b4;\" x=\"144.51833\" xlink:href=\"#me9dc8f2280\" y=\"87.107348\"/>\n     <use style=\"fill:#1f77b4;stroke:#1f77b4;\" x=\"73.740479\" xlink:href=\"#me9dc8f2280\" y=\"46.289314\"/>\n     <use style=\"fill:#1f77b4;stroke:#1f77b4;\" x=\"168.485224\" xlink:href=\"#me9dc8f2280\" y=\"92.146785\"/>\n     <use style=\"fill:#1f77b4;stroke:#1f77b4;\" x=\"98.892868\" xlink:href=\"#me9dc8f2280\" y=\"51.257039\"/>\n     <use style=\"fill:#1f77b4;stroke:#1f77b4;\" x=\"119.188251\" xlink:href=\"#me9dc8f2280\" y=\"82.454493\"/>\n     <use style=\"fill:#1f77b4;stroke:#1f77b4;\" x=\"90.385854\" xlink:href=\"#me9dc8f2280\" y=\"35.999619\"/>\n     <use style=\"fill:#1f77b4;stroke:#1f77b4;\" x=\"104.623251\" xlink:href=\"#me9dc8f2280\" y=\"56.158316\"/>\n     <use style=\"fill:#1f77b4;stroke:#1f77b4;\" x=\"101.073884\" xlink:href=\"#me9dc8f2280\" y=\"46.550956\"/>\n     <use style=\"fill:#1f77b4;stroke:#1f77b4;\" x=\"163.968092\" xlink:href=\"#me9dc8f2280\" y=\"102.322296\"/>\n     <use style=\"fill:#1f77b4;stroke:#1f77b4;\" x=\"109.519774\" xlink:href=\"#me9dc8f2280\" y=\"46.108782\"/>\n     <use style=\"fill:#1f77b4;stroke:#1f77b4;\" x=\"124.636417\" xlink:href=\"#me9dc8f2280\" y=\"87.765278\"/>\n     <use style=\"fill:#1f77b4;stroke:#1f77b4;\" x=\"121.205618\" xlink:href=\"#me9dc8f2280\" y=\"87.470999\"/>\n     <use style=\"fill:#1f77b4;stroke:#1f77b4;\" x=\"79.678926\" xlink:href=\"#me9dc8f2280\" y=\"41.278668\"/>\n     <use style=\"fill:#1f77b4;stroke:#1f77b4;\" x=\"98.197976\" xlink:href=\"#me9dc8f2280\" y=\"64.537257\"/>\n     <use style=\"fill:#1f77b4;stroke:#1f77b4;\" x=\"122.202834\" xlink:href=\"#me9dc8f2280\" y=\"62.493684\"/>\n     <use style=\"fill:#1f77b4;stroke:#1f77b4;\" x=\"135.703971\" xlink:href=\"#me9dc8f2280\" y=\"85.805547\"/>\n     <use style=\"fill:#1f77b4;stroke:#1f77b4;\" x=\"120.338776\" xlink:href=\"#me9dc8f2280\" y=\"51.835899\"/>\n     <use style=\"fill:#1f77b4;stroke:#1f77b4;\" x=\"134.557103\" xlink:href=\"#me9dc8f2280\" y=\"72.301174\"/>\n     <use style=\"fill:#1f77b4;stroke:#1f77b4;\" x=\"130.386509\" xlink:href=\"#me9dc8f2280\" y=\"72.786149\"/>\n     <use style=\"fill:#1f77b4;stroke:#1f77b4;\" x=\"122.709475\" xlink:href=\"#me9dc8f2280\" y=\"64.63389\"/>\n     <use style=\"fill:#1f77b4;stroke:#1f77b4;\" x=\"125.624168\" xlink:href=\"#me9dc8f2280\" y=\"65.351194\"/>\n     <use style=\"fill:#1f77b4;stroke:#1f77b4;\" x=\"161.404525\" xlink:href=\"#me9dc8f2280\" y=\"91.173975\"/>\n     <use style=\"fill:#1f77b4;stroke:#1f77b4;\" x=\"80.509719\" xlink:href=\"#me9dc8f2280\" y=\"45.051015\"/>\n     <use style=\"fill:#1f77b4;stroke:#1f77b4;\" x=\"132.582945\" xlink:href=\"#me9dc8f2280\" y=\"75.500284\"/>\n     <use style=\"fill:#1f77b4;stroke:#1f77b4;\" x=\"125.557382\" xlink:href=\"#me9dc8f2280\" y=\"74.44371\"/>\n     <use style=\"fill:#1f77b4;stroke:#1f77b4;\" x=\"87.245324\" xlink:href=\"#me9dc8f2280\" y=\"65.702393\"/>\n     <use style=\"fill:#1f77b4;stroke:#1f77b4;\" x=\"110.767532\" xlink:href=\"#me9dc8f2280\" y=\"67.715874\"/>\n     <use style=\"fill:#1f77b4;stroke:#1f77b4;\" x=\"144.674761\" xlink:href=\"#me9dc8f2280\" y=\"84.417149\"/>\n     <use style=\"fill:#1f77b4;stroke:#1f77b4;\" x=\"77.800909\" xlink:href=\"#me9dc8f2280\" y=\"43.39081\"/>\n     <use style=\"fill:#1f77b4;stroke:#1f77b4;\" x=\"133.340283\" xlink:href=\"#me9dc8f2280\" y=\"67.965162\"/>\n     <use style=\"fill:#1f77b4;stroke:#1f77b4;\" x=\"84.70788\" xlink:href=\"#me9dc8f2280\" y=\"64.285131\"/>\n     <use style=\"fill:#1f77b4;stroke:#1f77b4;\" x=\"135.302083\" xlink:href=\"#me9dc8f2280\" y=\"69.439401\"/>\n     <use style=\"fill:#1f77b4;stroke:#1f77b4;\" x=\"93.305643\" xlink:href=\"#me9dc8f2280\" y=\"45.175171\"/>\n     <use style=\"fill:#1f77b4;stroke:#1f77b4;\" x=\"129.666668\" xlink:href=\"#me9dc8f2280\" y=\"73.906226\"/>\n     <use style=\"fill:#1f77b4;stroke:#1f77b4;\" x=\"141.289206\" xlink:href=\"#me9dc8f2280\" y=\"71.69036\"/>\n     <use style=\"fill:#1f77b4;stroke:#1f77b4;\" x=\"80.098798\" xlink:href=\"#me9dc8f2280\" y=\"33.890435\"/>\n     <use style=\"fill:#1f77b4;stroke:#1f77b4;\" x=\"115.2706\" xlink:href=\"#me9dc8f2280\" y=\"73.307975\"/>\n     <use style=\"fill:#1f77b4;stroke:#1f77b4;\" x=\"119.198818\" xlink:href=\"#me9dc8f2280\" y=\"63.347325\"/>\n     <use style=\"fill:#1f77b4;stroke:#1f77b4;\" x=\"109.518439\" xlink:href=\"#me9dc8f2280\" y=\"64.073511\"/>\n     <use style=\"fill:#1f77b4;stroke:#1f77b4;\" x=\"107.939316\" xlink:href=\"#me9dc8f2280\" y=\"54.790437\"/>\n     <use style=\"fill:#1f77b4;stroke:#1f77b4;\" x=\"80.403261\" xlink:href=\"#me9dc8f2280\" y=\"41.372167\"/>\n     <use style=\"fill:#1f77b4;stroke:#1f77b4;\" x=\"124.796655\" xlink:href=\"#me9dc8f2280\" y=\"48.522315\"/>\n     <use style=\"fill:#1f77b4;stroke:#1f77b4;\" x=\"147.966528\" xlink:href=\"#me9dc8f2280\" y=\"85.056198\"/>\n     <use style=\"fill:#1f77b4;stroke:#1f77b4;\" x=\"158.00162\" xlink:href=\"#me9dc8f2280\" y=\"86.388162\"/>\n     <use style=\"fill:#1f77b4;stroke:#1f77b4;\" x=\"129.339963\" xlink:href=\"#me9dc8f2280\" y=\"56.479009\"/>\n     <use style=\"fill:#1f77b4;stroke:#1f77b4;\" x=\"115.714873\" xlink:href=\"#me9dc8f2280\" y=\"76.977025\"/>\n     <use style=\"fill:#1f77b4;stroke:#1f77b4;\" x=\"131.74722\" xlink:href=\"#me9dc8f2280\" y=\"74.779082\"/>\n     <use style=\"fill:#1f77b4;stroke:#1f77b4;\" x=\"68.680603\" xlink:href=\"#me9dc8f2280\" y=\"29.653787\"/>\n     <use style=\"fill:#1f77b4;stroke:#1f77b4;\" x=\"111.00609\" xlink:href=\"#me9dc8f2280\" y=\"54.14516\"/>\n     <use style=\"fill:#1f77b4;stroke:#1f77b4;\" x=\"119.787777\" xlink:href=\"#me9dc8f2280\" y=\"51.194645\"/>\n     <use style=\"fill:#1f77b4;stroke:#1f77b4;\" x=\"107.940953\" xlink:href=\"#me9dc8f2280\" y=\"74.315125\"/>\n     <use style=\"fill:#1f77b4;stroke:#1f77b4;\" x=\"122.219076\" xlink:href=\"#me9dc8f2280\" y=\"55.606009\"/>\n     <use style=\"fill:#1f77b4;stroke:#1f77b4;\" x=\"149.896392\" xlink:href=\"#me9dc8f2280\" y=\"83.837034\"/>\n     <use style=\"fill:#1f77b4;stroke:#1f77b4;\" x=\"113.512802\" xlink:href=\"#me9dc8f2280\" y=\"51.938498\"/>\n     <use style=\"fill:#1f77b4;stroke:#1f77b4;\" x=\"103.643858\" xlink:href=\"#me9dc8f2280\" y=\"59.300749\"/>\n     <use style=\"fill:#1f77b4;stroke:#1f77b4;\" x=\"96.239964\" xlink:href=\"#me9dc8f2280\" y=\"54.226572\"/>\n     <use style=\"fill:#1f77b4;stroke:#1f77b4;\" x=\"79.33129\" xlink:href=\"#me9dc8f2280\" y=\"33.866324\"/>\n     <use style=\"fill:#1f77b4;stroke:#1f77b4;\" x=\"140.904826\" xlink:href=\"#me9dc8f2280\" y=\"73.311641\"/>\n     <use style=\"fill:#1f77b4;stroke:#1f77b4;\" x=\"93.143999\" xlink:href=\"#me9dc8f2280\" y=\"65.847257\"/>\n     <use style=\"fill:#1f77b4;stroke:#1f77b4;\" x=\"92.734605\" xlink:href=\"#me9dc8f2280\" y=\"43.445826\"/>\n     <use style=\"fill:#1f77b4;stroke:#1f77b4;\" x=\"110.008447\" xlink:href=\"#me9dc8f2280\" y=\"70.082161\"/>\n     <use style=\"fill:#1f77b4;stroke:#1f77b4;\" x=\"109.711325\" xlink:href=\"#me9dc8f2280\" y=\"72.048985\"/>\n     <use style=\"fill:#1f77b4;stroke:#1f77b4;\" x=\"102.589909\" xlink:href=\"#me9dc8f2280\" y=\"52.860979\"/>\n     <use style=\"fill:#1f77b4;stroke:#1f77b4;\" x=\"154.143919\" xlink:href=\"#me9dc8f2280\" y=\"70.590032\"/>\n     <use style=\"fill:#1f77b4;stroke:#1f77b4;\" x=\"148.559093\" xlink:href=\"#me9dc8f2280\" y=\"94.764535\"/>\n     <use style=\"fill:#1f77b4;stroke:#1f77b4;\" x=\"83.69708\" xlink:href=\"#me9dc8f2280\" y=\"35.613982\"/>\n     <use style=\"fill:#1f77b4;stroke:#1f77b4;\" x=\"132.570582\" xlink:href=\"#me9dc8f2280\" y=\"80.232866\"/>\n     <use style=\"fill:#1f77b4;stroke:#1f77b4;\" x=\"113.166172\" xlink:href=\"#me9dc8f2280\" y=\"57.457399\"/>\n     <use style=\"fill:#1f77b4;stroke:#1f77b4;\" x=\"130.423486\" xlink:href=\"#me9dc8f2280\" y=\"60.63582\"/>\n     <use style=\"fill:#1f77b4;stroke:#1f77b4;\" x=\"164.005112\" xlink:href=\"#me9dc8f2280\" y=\"86.907962\"/>\n     <use style=\"fill:#1f77b4;stroke:#1f77b4;\" x=\"114.370617\" xlink:href=\"#me9dc8f2280\" y=\"51.222241\"/>\n     <use style=\"fill:#1f77b4;stroke:#1f77b4;\" x=\"117.744383\" xlink:href=\"#me9dc8f2280\" y=\"82.239447\"/>\n     <use style=\"fill:#1f77b4;stroke:#1f77b4;\" x=\"87.329072\" xlink:href=\"#me9dc8f2280\" y=\"30.903697\"/>\n     <use style=\"fill:#1f77b4;stroke:#1f77b4;\" x=\"94.259855\" xlink:href=\"#me9dc8f2280\" y=\"62.613147\"/>\n     <use style=\"fill:#1f77b4;stroke:#1f77b4;\" x=\"100.949172\" xlink:href=\"#me9dc8f2280\" y=\"56.300804\"/>\n     <use style=\"fill:#1f77b4;stroke:#1f77b4;\" x=\"170.706906\" xlink:href=\"#me9dc8f2280\" y=\"89.505619\"/>\n     <use style=\"fill:#1f77b4;stroke:#1f77b4;\" x=\"131.98518\" xlink:href=\"#me9dc8f2280\" y=\"69.564338\"/>\n     <use style=\"fill:#1f77b4;stroke:#1f77b4;\" x=\"149.370269\" xlink:href=\"#me9dc8f2280\" y=\"82.036667\"/>\n     <use style=\"fill:#1f77b4;stroke:#1f77b4;\" x=\"75.893238\" xlink:href=\"#me9dc8f2280\" y=\"28.138515\"/>\n     <use style=\"fill:#1f77b4;stroke:#1f77b4;\" x=\"107.284286\" xlink:href=\"#me9dc8f2280\" y=\"61.517876\"/>\n     <use style=\"fill:#1f77b4;stroke:#1f77b4;\" x=\"124.852972\" xlink:href=\"#me9dc8f2280\" y=\"66.885251\"/>\n     <use style=\"fill:#1f77b4;stroke:#1f77b4;\" x=\"145.251821\" xlink:href=\"#me9dc8f2280\" y=\"75.16968\"/>\n     <use style=\"fill:#1f77b4;stroke:#1f77b4;\" x=\"81.953238\" xlink:href=\"#me9dc8f2280\" y=\"37.044205\"/>\n     <use style=\"fill:#1f77b4;stroke:#1f77b4;\" x=\"120.20678\" xlink:href=\"#me9dc8f2280\" y=\"67.641066\"/>\n     <use style=\"fill:#1f77b4;stroke:#1f77b4;\" x=\"118.300036\" xlink:href=\"#me9dc8f2280\" y=\"66.451711\"/>\n     <use style=\"fill:#1f77b4;stroke:#1f77b4;\" x=\"124.322758\" xlink:href=\"#me9dc8f2280\" y=\"66.768152\"/>\n     <use style=\"fill:#1f77b4;stroke:#1f77b4;\" x=\"130.120282\" xlink:href=\"#me9dc8f2280\" y=\"75.037351\"/>\n     <use style=\"fill:#1f77b4;stroke:#1f77b4;\" x=\"109.720175\" xlink:href=\"#me9dc8f2280\" y=\"76.509342\"/>\n     <use style=\"fill:#1f77b4;stroke:#1f77b4;\" x=\"100.737983\" xlink:href=\"#me9dc8f2280\" y=\"58.55884\"/>\n     <use style=\"fill:#1f77b4;stroke:#1f77b4;\" x=\"144.242025\" xlink:href=\"#me9dc8f2280\" y=\"73.110551\"/>\n     <use style=\"fill:#1f77b4;stroke:#1f77b4;\" x=\"116.01594\" xlink:href=\"#me9dc8f2280\" y=\"55.023423\"/>\n     <use style=\"fill:#1f77b4;stroke:#1f77b4;\" x=\"144.21636\" xlink:href=\"#me9dc8f2280\" y=\"81.463131\"/>\n     <use style=\"fill:#1f77b4;stroke:#1f77b4;\" x=\"81.808388\" xlink:href=\"#me9dc8f2280\" y=\"28.28903\"/>\n     <use style=\"fill:#1f77b4;stroke:#1f77b4;\" x=\"132.482557\" xlink:href=\"#me9dc8f2280\" y=\"77.466715\"/>\n     <use style=\"fill:#1f77b4;stroke:#1f77b4;\" x=\"97.583408\" xlink:href=\"#me9dc8f2280\" y=\"58.101195\"/>\n     <use style=\"fill:#1f77b4;stroke:#1f77b4;\" x=\"100.224134\" xlink:href=\"#me9dc8f2280\" y=\"51.738568\"/>\n     <use style=\"fill:#1f77b4;stroke:#1f77b4;\" x=\"201.192332\" xlink:href=\"#me9dc8f2280\" y=\"105.584331\"/>\n     <use style=\"fill:#1f77b4;stroke:#1f77b4;\" x=\"140.194265\" xlink:href=\"#me9dc8f2280\" y=\"77.844884\"/>\n     <use style=\"fill:#1f77b4;stroke:#1f77b4;\" x=\"145.78865\" xlink:href=\"#me9dc8f2280\" y=\"88.241812\"/>\n     <use style=\"fill:#1f77b4;stroke:#1f77b4;\" x=\"103.121422\" xlink:href=\"#me9dc8f2280\" y=\"65.338274\"/>\n     <use style=\"fill:#1f77b4;stroke:#1f77b4;\" x=\"136.098073\" xlink:href=\"#me9dc8f2280\" y=\"66.333338\"/>\n     <use style=\"fill:#1f77b4;stroke:#1f77b4;\" x=\"148.880335\" xlink:href=\"#me9dc8f2280\" y=\"75.374167\"/>\n     <use style=\"fill:#1f77b4;stroke:#1f77b4;\" x=\"84.337155\" xlink:href=\"#me9dc8f2280\" y=\"48.873171\"/>\n     <use style=\"fill:#1f77b4;stroke:#1f77b4;\" x=\"109.291422\" xlink:href=\"#me9dc8f2280\" y=\"57.207495\"/>\n     <use style=\"fill:#1f77b4;stroke:#1f77b4;\" x=\"167.801367\" xlink:href=\"#me9dc8f2280\" y=\"107.530637\"/>\n     <use style=\"fill:#1f77b4;stroke:#1f77b4;\" x=\"90.9657\" xlink:href=\"#me9dc8f2280\" y=\"55.317592\"/>\n     <use style=\"fill:#1f77b4;stroke:#1f77b4;\" x=\"163.487097\" xlink:href=\"#me9dc8f2280\" y=\"87.429839\"/>\n     <use style=\"fill:#1f77b4;stroke:#1f77b4;\" x=\"108.16442\" xlink:href=\"#me9dc8f2280\" y=\"48.926716\"/>\n     <use style=\"fill:#1f77b4;stroke:#1f77b4;\" x=\"107.264883\" xlink:href=\"#me9dc8f2280\" y=\"56.100994\"/>\n     <use style=\"fill:#1f77b4;stroke:#1f77b4;\" x=\"102.815161\" xlink:href=\"#me9dc8f2280\" y=\"53.528903\"/>\n     <use style=\"fill:#1f77b4;stroke:#1f77b4;\" x=\"69.865351\" xlink:href=\"#me9dc8f2280\" y=\"42.192292\"/>\n     <use style=\"fill:#1f77b4;stroke:#1f77b4;\" x=\"122.727296\" xlink:href=\"#me9dc8f2280\" y=\"75.915365\"/>\n     <use style=\"fill:#1f77b4;stroke:#1f77b4;\" x=\"75.425602\" xlink:href=\"#me9dc8f2280\" y=\"38.515733\"/>\n     <use style=\"fill:#1f77b4;stroke:#1f77b4;\" x=\"152.684912\" xlink:href=\"#me9dc8f2280\" y=\"75.845193\"/>\n     <use style=\"fill:#1f77b4;stroke:#1f77b4;\" x=\"170.309822\" xlink:href=\"#me9dc8f2280\" y=\"111.432892\"/>\n     <use style=\"fill:#1f77b4;stroke:#1f77b4;\" x=\"101.528947\" xlink:href=\"#me9dc8f2280\" y=\"44.073114\"/>\n     <use style=\"fill:#1f77b4;stroke:#1f77b4;\" x=\"117.77837\" xlink:href=\"#me9dc8f2280\" y=\"73.789309\"/>\n     <use style=\"fill:#1f77b4;stroke:#1f77b4;\" x=\"131.396223\" xlink:href=\"#me9dc8f2280\" y=\"68.407625\"/>\n     <use style=\"fill:#1f77b4;stroke:#1f77b4;\" x=\"106.558624\" xlink:href=\"#me9dc8f2280\" y=\"56.975509\"/>\n     <use style=\"fill:#1f77b4;stroke:#1f77b4;\" x=\"120.16955\" xlink:href=\"#me9dc8f2280\" y=\"66.878318\"/>\n     <use style=\"fill:#1f77b4;stroke:#1f77b4;\" x=\"133.782322\" xlink:href=\"#me9dc8f2280\" y=\"72.207777\"/>\n     <use style=\"fill:#1f77b4;stroke:#1f77b4;\" x=\"169.786707\" xlink:href=\"#me9dc8f2280\" y=\"99.999876\"/>\n     <use style=\"fill:#1f77b4;stroke:#1f77b4;\" x=\"113.510765\" xlink:href=\"#me9dc8f2280\" y=\"50.213881\"/>\n     <use style=\"fill:#1f77b4;stroke:#1f77b4;\" x=\"134.549782\" xlink:href=\"#me9dc8f2280\" y=\"70.027037\"/>\n     <use style=\"fill:#1f77b4;stroke:#1f77b4;\" x=\"129.631634\" xlink:href=\"#me9dc8f2280\" y=\"69.204562\"/>\n     <use style=\"fill:#1f77b4;stroke:#1f77b4;\" x=\"88.137539\" xlink:href=\"#me9dc8f2280\" y=\"54.264277\"/>\n     <use style=\"fill:#1f77b4;stroke:#1f77b4;\" x=\"163.815443\" xlink:href=\"#me9dc8f2280\" y=\"92.271729\"/>\n     <use style=\"fill:#1f77b4;stroke:#1f77b4;\" x=\"125.179395\" xlink:href=\"#me9dc8f2280\" y=\"73.387458\"/>\n     <use style=\"fill:#1f77b4;stroke:#1f77b4;\" x=\"128.083627\" xlink:href=\"#me9dc8f2280\" y=\"72.620592\"/>\n     <use style=\"fill:#1f77b4;stroke:#1f77b4;\" x=\"118.305298\" xlink:href=\"#me9dc8f2280\" y=\"64.382066\"/>\n     <use style=\"fill:#1f77b4;stroke:#1f77b4;\" x=\"83.427451\" xlink:href=\"#me9dc8f2280\" y=\"65.566398\"/>\n     <use style=\"fill:#1f77b4;stroke:#1f77b4;\" x=\"107.798173\" xlink:href=\"#me9dc8f2280\" y=\"58.865406\"/>\n     <use style=\"fill:#1f77b4;stroke:#1f77b4;\" x=\"98.696342\" xlink:href=\"#me9dc8f2280\" y=\"57.606367\"/>\n     <use style=\"fill:#1f77b4;stroke:#1f77b4;\" x=\"105.715778\" xlink:href=\"#me9dc8f2280\" y=\"43.894244\"/>\n     <use style=\"fill:#1f77b4;stroke:#1f77b4;\" x=\"192.479569\" xlink:href=\"#me9dc8f2280\" y=\"114.4557\"/>\n     <use style=\"fill:#1f77b4;stroke:#1f77b4;\" x=\"109.536323\" xlink:href=\"#me9dc8f2280\" y=\"59.692192\"/>\n     <use style=\"fill:#1f77b4;stroke:#1f77b4;\" x=\"80.975243\" xlink:href=\"#me9dc8f2280\" y=\"29.077684\"/>\n     <use style=\"fill:#1f77b4;stroke:#1f77b4;\" x=\"105.565182\" xlink:href=\"#me9dc8f2280\" y=\"63.20877\"/>\n     <use style=\"fill:#1f77b4;stroke:#1f77b4;\" x=\"92.949649\" xlink:href=\"#me9dc8f2280\" y=\"33.323791\"/>\n     <use style=\"fill:#1f77b4;stroke:#1f77b4;\" x=\"157.795516\" xlink:href=\"#me9dc8f2280\" y=\"105.192649\"/>\n     <use style=\"fill:#1f77b4;stroke:#1f77b4;\" x=\"92.670179\" xlink:href=\"#me9dc8f2280\" y=\"34.39108\"/>\n     <use style=\"fill:#1f77b4;stroke:#1f77b4;\" x=\"144.340508\" xlink:href=\"#me9dc8f2280\" y=\"86.845998\"/>\n     <use style=\"fill:#1f77b4;stroke:#1f77b4;\" x=\"138.521866\" xlink:href=\"#me9dc8f2280\" y=\"83.163063\"/>\n     <use style=\"fill:#1f77b4;stroke:#1f77b4;\" x=\"148.164632\" xlink:href=\"#me9dc8f2280\" y=\"67.950148\"/>\n     <use style=\"fill:#1f77b4;stroke:#1f77b4;\" x=\"126.940084\" xlink:href=\"#me9dc8f2280\" y=\"64.852814\"/>\n     <use style=\"fill:#1f77b4;stroke:#1f77b4;\" x=\"110.993518\" xlink:href=\"#me9dc8f2280\" y=\"65.886922\"/>\n     <use style=\"fill:#1f77b4;stroke:#1f77b4;\" x=\"125.094547\" xlink:href=\"#me9dc8f2280\" y=\"74.084403\"/>\n     <use style=\"fill:#1f77b4;stroke:#1f77b4;\" x=\"164.105039\" xlink:href=\"#me9dc8f2280\" y=\"101.459186\"/>\n     <use style=\"fill:#1f77b4;stroke:#1f77b4;\" x=\"96.65086\" xlink:href=\"#me9dc8f2280\" y=\"45.282686\"/>\n     <use style=\"fill:#1f77b4;stroke:#1f77b4;\" x=\"131.160195\" xlink:href=\"#me9dc8f2280\" y=\"77.670792\"/>\n     <use style=\"fill:#1f77b4;stroke:#1f77b4;\" x=\"104.7935\" xlink:href=\"#me9dc8f2280\" y=\"46.208724\"/>\n     <use style=\"fill:#1f77b4;stroke:#1f77b4;\" x=\"107.898381\" xlink:href=\"#me9dc8f2280\" y=\"65.465015\"/>\n     <use style=\"fill:#1f77b4;stroke:#1f77b4;\" x=\"129.409921\" xlink:href=\"#me9dc8f2280\" y=\"62.134759\"/>\n     <use style=\"fill:#1f77b4;stroke:#1f77b4;\" x=\"128.667792\" xlink:href=\"#me9dc8f2280\" y=\"70.423869\"/>\n     <use style=\"fill:#1f77b4;stroke:#1f77b4;\" x=\"138.182851\" xlink:href=\"#me9dc8f2280\" y=\"70.444633\"/>\n     <use style=\"fill:#1f77b4;stroke:#1f77b4;\" x=\"132.063725\" xlink:href=\"#me9dc8f2280\" y=\"86.324902\"/>\n     <use style=\"fill:#1f77b4;stroke:#1f77b4;\" x=\"97.317614\" xlink:href=\"#me9dc8f2280\" y=\"42.937537\"/>\n     <use style=\"fill:#1f77b4;stroke:#1f77b4;\" x=\"100.774622\" xlink:href=\"#me9dc8f2280\" y=\"52.89238\"/>\n     <use style=\"fill:#1f77b4;stroke:#1f77b4;\" x=\"98.568597\" xlink:href=\"#me9dc8f2280\" y=\"47.059348\"/>\n     <use style=\"fill:#1f77b4;stroke:#1f77b4;\" x=\"73.004097\" xlink:href=\"#me9dc8f2280\" y=\"45.303157\"/>\n     <use style=\"fill:#1f77b4;stroke:#1f77b4;\" x=\"130.1083\" xlink:href=\"#me9dc8f2280\" y=\"65.242783\"/>\n     <use style=\"fill:#1f77b4;stroke:#1f77b4;\" x=\"109.445253\" xlink:href=\"#me9dc8f2280\" y=\"54.104443\"/>\n     <use style=\"fill:#1f77b4;stroke:#1f77b4;\" x=\"115.13554\" xlink:href=\"#me9dc8f2280\" y=\"81.436963\"/>\n     <use style=\"fill:#1f77b4;stroke:#1f77b4;\" x=\"109.562083\" xlink:href=\"#me9dc8f2280\" y=\"65.550118\"/>\n     <use style=\"fill:#1f77b4;stroke:#1f77b4;\" x=\"134.155643\" xlink:href=\"#me9dc8f2280\" y=\"72.647311\"/>\n     <use style=\"fill:#1f77b4;stroke:#1f77b4;\" x=\"138.756951\" xlink:href=\"#me9dc8f2280\" y=\"81.553999\"/>\n     <use style=\"fill:#1f77b4;stroke:#1f77b4;\" x=\"126.175312\" xlink:href=\"#me9dc8f2280\" y=\"82.732012\"/>\n     <use style=\"fill:#1f77b4;stroke:#1f77b4;\" x=\"110.386615\" xlink:href=\"#me9dc8f2280\" y=\"69.322591\"/>\n     <use style=\"fill:#1f77b4;stroke:#1f77b4;\" x=\"131.683193\" xlink:href=\"#me9dc8f2280\" y=\"59.485549\"/>\n     <use style=\"fill:#1f77b4;stroke:#1f77b4;\" x=\"165.193306\" xlink:href=\"#me9dc8f2280\" y=\"96.131674\"/>\n     <use style=\"fill:#1f77b4;stroke:#1f77b4;\" x=\"148.611632\" xlink:href=\"#me9dc8f2280\" y=\"69.241556\"/>\n     <use style=\"fill:#1f77b4;stroke:#1f77b4;\" x=\"72.739355\" xlink:href=\"#me9dc8f2280\" y=\"50.615701\"/>\n     <use style=\"fill:#1f77b4;stroke:#1f77b4;\" x=\"124.935449\" xlink:href=\"#me9dc8f2280\" y=\"75.690264\"/>\n     <use style=\"fill:#1f77b4;stroke:#1f77b4;\" x=\"87.545834\" xlink:href=\"#me9dc8f2280\" y=\"31.487618\"/>\n     <use style=\"fill:#1f77b4;stroke:#1f77b4;\" x=\"136.287953\" xlink:href=\"#me9dc8f2280\" y=\"86.026319\"/>\n     <use style=\"fill:#1f77b4;stroke:#1f77b4;\" x=\"129.642556\" xlink:href=\"#me9dc8f2280\" y=\"79.675213\"/>\n     <use style=\"fill:#1f77b4;stroke:#1f77b4;\" x=\"136.267566\" xlink:href=\"#me9dc8f2280\" y=\"77.174935\"/>\n     <use style=\"fill:#1f77b4;stroke:#1f77b4;\" x=\"124.067145\" xlink:href=\"#me9dc8f2280\" y=\"87.793182\"/>\n     <use style=\"fill:#1f77b4;stroke:#1f77b4;\" x=\"107.287123\" xlink:href=\"#me9dc8f2280\" y=\"70.165433\"/>\n     <use style=\"fill:#1f77b4;stroke:#1f77b4;\" x=\"146.797043\" xlink:href=\"#me9dc8f2280\" y=\"82.10221\"/>\n     <use style=\"fill:#1f77b4;stroke:#1f77b4;\" x=\"89.176582\" xlink:href=\"#me9dc8f2280\" y=\"40.433006\"/>\n     <use style=\"fill:#1f77b4;stroke:#1f77b4;\" x=\"89.189594\" xlink:href=\"#me9dc8f2280\" y=\"37.871483\"/>\n     <use style=\"fill:#1f77b4;stroke:#1f77b4;\" x=\"119.66135\" xlink:href=\"#me9dc8f2280\" y=\"69.214359\"/>\n     <use style=\"fill:#1f77b4;stroke:#1f77b4;\" x=\"124.064391\" xlink:href=\"#me9dc8f2280\" y=\"61.481286\"/>\n     <use style=\"fill:#1f77b4;stroke:#1f77b4;\" x=\"105.204635\" xlink:href=\"#me9dc8f2280\" y=\"37.622287\"/>\n     <use style=\"fill:#1f77b4;stroke:#1f77b4;\" x=\"59.66992\" xlink:href=\"#me9dc8f2280\" y=\"33.117735\"/>\n     <use style=\"fill:#1f77b4;stroke:#1f77b4;\" x=\"148.857804\" xlink:href=\"#me9dc8f2280\" y=\"103.129795\"/>\n     <use style=\"fill:#1f77b4;stroke:#1f77b4;\" x=\"106.76176\" xlink:href=\"#me9dc8f2280\" y=\"64.060554\"/>\n     <use style=\"fill:#1f77b4;stroke:#1f77b4;\" x=\"109.260856\" xlink:href=\"#me9dc8f2280\" y=\"52.024042\"/>\n     <use style=\"fill:#1f77b4;stroke:#1f77b4;\" x=\"125.555829\" xlink:href=\"#me9dc8f2280\" y=\"84.174204\"/>\n     <use style=\"fill:#1f77b4;stroke:#1f77b4;\" x=\"128.651805\" xlink:href=\"#me9dc8f2280\" y=\"73.829542\"/>\n     <use style=\"fill:#1f77b4;stroke:#1f77b4;\" x=\"127.25647\" xlink:href=\"#me9dc8f2280\" y=\"62.613476\"/>\n     <use style=\"fill:#1f77b4;stroke:#1f77b4;\" x=\"70.391733\" xlink:href=\"#me9dc8f2280\" y=\"30.655654\"/>\n     <use style=\"fill:#1f77b4;stroke:#1f77b4;\" x=\"128.037098\" xlink:href=\"#me9dc8f2280\" y=\"73.183029\"/>\n     <use style=\"fill:#1f77b4;stroke:#1f77b4;\" x=\"111.61262\" xlink:href=\"#me9dc8f2280\" y=\"71.297044\"/>\n     <use style=\"fill:#1f77b4;stroke:#1f77b4;\" x=\"110.90935\" xlink:href=\"#me9dc8f2280\" y=\"50.691027\"/>\n     <use style=\"fill:#1f77b4;stroke:#1f77b4;\" x=\"135.492036\" xlink:href=\"#me9dc8f2280\" y=\"80.613464\"/>\n     <use style=\"fill:#1f77b4;stroke:#1f77b4;\" x=\"75.353551\" xlink:href=\"#me9dc8f2280\" y=\"38.016924\"/>\n     <use style=\"fill:#1f77b4;stroke:#1f77b4;\" x=\"152.591343\" xlink:href=\"#me9dc8f2280\" y=\"83.360158\"/>\n     <use style=\"fill:#1f77b4;stroke:#1f77b4;\" x=\"105.266531\" xlink:href=\"#me9dc8f2280\" y=\"67.743218\"/>\n     <use style=\"fill:#1f77b4;stroke:#1f77b4;\" x=\"157.898076\" xlink:href=\"#me9dc8f2280\" y=\"90.26966\"/>\n     <use style=\"fill:#1f77b4;stroke:#1f77b4;\" x=\"57.811262\" xlink:href=\"#me9dc8f2280\" y=\"22.330851\"/>\n     <use style=\"fill:#1f77b4;stroke:#1f77b4;\" x=\"112.675958\" xlink:href=\"#me9dc8f2280\" y=\"42.319039\"/>\n     <use style=\"fill:#1f77b4;stroke:#1f77b4;\" x=\"125.012866\" xlink:href=\"#me9dc8f2280\" y=\"78.997747\"/>\n     <use style=\"fill:#1f77b4;stroke:#1f77b4;\" x=\"111.731363\" xlink:href=\"#me9dc8f2280\" y=\"37.521635\"/>\n     <use style=\"fill:#1f77b4;stroke:#1f77b4;\" x=\"132.570316\" xlink:href=\"#me9dc8f2280\" y=\"81.94941\"/>\n     <use style=\"fill:#1f77b4;stroke:#1f77b4;\" x=\"129.628015\" xlink:href=\"#me9dc8f2280\" y=\"78.464637\"/>\n     <use style=\"fill:#1f77b4;stroke:#1f77b4;\" x=\"122.309831\" xlink:href=\"#me9dc8f2280\" y=\"76.765894\"/>\n     <use style=\"fill:#1f77b4;stroke:#1f77b4;\" x=\"92.421178\" xlink:href=\"#me9dc8f2280\" y=\"52.792519\"/>\n     <use style=\"fill:#1f77b4;stroke:#1f77b4;\" x=\"152.956151\" xlink:href=\"#me9dc8f2280\" y=\"78.53447\"/>\n     <use style=\"fill:#1f77b4;stroke:#1f77b4;\" x=\"112.6554\" xlink:href=\"#me9dc8f2280\" y=\"66.606988\"/>\n     <use style=\"fill:#1f77b4;stroke:#1f77b4;\" x=\"119.095856\" xlink:href=\"#me9dc8f2280\" y=\"69.934793\"/>\n     <use style=\"fill:#1f77b4;stroke:#1f77b4;\" x=\"109.391415\" xlink:href=\"#me9dc8f2280\" y=\"42.832914\"/>\n     <use style=\"fill:#1f77b4;stroke:#1f77b4;\" x=\"114.387657\" xlink:href=\"#me9dc8f2280\" y=\"50.690521\"/>\n     <use style=\"fill:#1f77b4;stroke:#1f77b4;\" x=\"133.780781\" xlink:href=\"#me9dc8f2280\" y=\"65.251031\"/>\n     <use style=\"fill:#1f77b4;stroke:#1f77b4;\" x=\"137.067461\" xlink:href=\"#me9dc8f2280\" y=\"62.714956\"/>\n     <use style=\"fill:#1f77b4;stroke:#1f77b4;\" x=\"153.839003\" xlink:href=\"#me9dc8f2280\" y=\"89.291004\"/>\n     <use style=\"fill:#1f77b4;stroke:#1f77b4;\" x=\"119.18992\" xlink:href=\"#me9dc8f2280\" y=\"76.057277\"/>\n     <use style=\"fill:#1f77b4;stroke:#1f77b4;\" x=\"112.309931\" xlink:href=\"#me9dc8f2280\" y=\"45.576663\"/>\n     <use style=\"fill:#1f77b4;stroke:#1f77b4;\" x=\"137.117932\" xlink:href=\"#me9dc8f2280\" y=\"80.725614\"/>\n     <use style=\"fill:#1f77b4;stroke:#1f77b4;\" x=\"168.041753\" xlink:href=\"#me9dc8f2280\" y=\"97.955884\"/>\n     <use style=\"fill:#1f77b4;stroke:#1f77b4;\" x=\"135.874138\" xlink:href=\"#me9dc8f2280\" y=\"97.737302\"/>\n     <use style=\"fill:#1f77b4;stroke:#1f77b4;\" x=\"120.90109\" xlink:href=\"#me9dc8f2280\" y=\"61.201672\"/>\n     <use style=\"fill:#1f77b4;stroke:#1f77b4;\" x=\"125.653332\" xlink:href=\"#me9dc8f2280\" y=\"68.421857\"/>\n     <use style=\"fill:#1f77b4;stroke:#1f77b4;\" x=\"125.897866\" xlink:href=\"#me9dc8f2280\" y=\"57.520969\"/>\n     <use style=\"fill:#1f77b4;stroke:#1f77b4;\" x=\"127.967534\" xlink:href=\"#me9dc8f2280\" y=\"71.378593\"/>\n     <use style=\"fill:#1f77b4;stroke:#1f77b4;\" x=\"135.08231\" xlink:href=\"#me9dc8f2280\" y=\"79.468843\"/>\n     <use style=\"fill:#1f77b4;stroke:#1f77b4;\" x=\"81.789955\" xlink:href=\"#me9dc8f2280\" y=\"39.260756\"/>\n     <use style=\"fill:#1f77b4;stroke:#1f77b4;\" x=\"133.860314\" xlink:href=\"#me9dc8f2280\" y=\"47.016634\"/>\n     <use style=\"fill:#1f77b4;stroke:#1f77b4;\" x=\"97.544004\" xlink:href=\"#me9dc8f2280\" y=\"62.585478\"/>\n     <use style=\"fill:#1f77b4;stroke:#1f77b4;\" x=\"127.955307\" xlink:href=\"#me9dc8f2280\" y=\"71.266791\"/>\n     <use style=\"fill:#1f77b4;stroke:#1f77b4;\" x=\"87.129684\" xlink:href=\"#me9dc8f2280\" y=\"39.003688\"/>\n     <use style=\"fill:#1f77b4;stroke:#1f77b4;\" x=\"138.259311\" xlink:href=\"#me9dc8f2280\" y=\"72.884383\"/>\n     <use style=\"fill:#1f77b4;stroke:#1f77b4;\" x=\"116.549222\" xlink:href=\"#me9dc8f2280\" y=\"69.087136\"/>\n     <use style=\"fill:#1f77b4;stroke:#1f77b4;\" x=\"130.533349\" xlink:href=\"#me9dc8f2280\" y=\"63.920537\"/>\n     <use style=\"fill:#1f77b4;stroke:#1f77b4;\" x=\"100.894746\" xlink:href=\"#me9dc8f2280\" y=\"62.756535\"/>\n     <use style=\"fill:#1f77b4;stroke:#1f77b4;\" x=\"84.97524\" xlink:href=\"#me9dc8f2280\" y=\"33.562794\"/>\n     <use style=\"fill:#1f77b4;stroke:#1f77b4;\" x=\"148.069657\" xlink:href=\"#me9dc8f2280\" y=\"77.712708\"/>\n     <use style=\"fill:#1f77b4;stroke:#1f77b4;\" x=\"149.806827\" xlink:href=\"#me9dc8f2280\" y=\"100.946371\"/>\n     <use style=\"fill:#1f77b4;stroke:#1f77b4;\" x=\"89.712433\" xlink:href=\"#me9dc8f2280\" y=\"46.66662\"/>\n     <use style=\"fill:#1f77b4;stroke:#1f77b4;\" x=\"119.785013\" xlink:href=\"#me9dc8f2280\" y=\"58.764555\"/>\n     <use style=\"fill:#1f77b4;stroke:#1f77b4;\" x=\"121.117392\" xlink:href=\"#me9dc8f2280\" y=\"64.148204\"/>\n     <use style=\"fill:#1f77b4;stroke:#1f77b4;\" x=\"139.417715\" xlink:href=\"#me9dc8f2280\" y=\"80.174602\"/>\n     <use style=\"fill:#1f77b4;stroke:#1f77b4;\" x=\"69.795591\" xlink:href=\"#me9dc8f2280\" y=\"38.933461\"/>\n     <use style=\"fill:#1f77b4;stroke:#1f77b4;\" x=\"124.748637\" xlink:href=\"#me9dc8f2280\" y=\"64.027309\"/>\n     <use style=\"fill:#1f77b4;stroke:#1f77b4;\" x=\"157.605284\" xlink:href=\"#me9dc8f2280\" y=\"82.284306\"/>\n     <use style=\"fill:#1f77b4;stroke:#1f77b4;\" x=\"81.007961\" xlink:href=\"#me9dc8f2280\" y=\"58.034553\"/>\n     <use style=\"fill:#1f77b4;stroke:#1f77b4;\" x=\"113.529324\" xlink:href=\"#me9dc8f2280\" y=\"57.468255\"/>\n     <use style=\"fill:#1f77b4;stroke:#1f77b4;\" x=\"132.122387\" xlink:href=\"#me9dc8f2280\" y=\"80.229175\"/>\n     <use style=\"fill:#1f77b4;stroke:#1f77b4;\" x=\"132.707269\" xlink:href=\"#me9dc8f2280\" y=\"77.914497\"/>\n     <use style=\"fill:#1f77b4;stroke:#1f77b4;\" x=\"98.559126\" xlink:href=\"#me9dc8f2280\" y=\"60.138923\"/>\n     <use style=\"fill:#1f77b4;stroke:#1f77b4;\" x=\"153.870502\" xlink:href=\"#me9dc8f2280\" y=\"80.602441\"/>\n     <use style=\"fill:#1f77b4;stroke:#1f77b4;\" x=\"136.334276\" xlink:href=\"#me9dc8f2280\" y=\"77.435487\"/>\n     <use style=\"fill:#1f77b4;stroke:#1f77b4;\" x=\"128.600772\" xlink:href=\"#me9dc8f2280\" y=\"82.091063\"/>\n     <use style=\"fill:#1f77b4;stroke:#1f77b4;\" x=\"136.330897\" xlink:href=\"#me9dc8f2280\" y=\"55.803738\"/>\n     <use style=\"fill:#1f77b4;stroke:#1f77b4;\" x=\"115.387267\" xlink:href=\"#me9dc8f2280\" y=\"47.2849\"/>\n     <use style=\"fill:#1f77b4;stroke:#1f77b4;\" x=\"129.583814\" xlink:href=\"#me9dc8f2280\" y=\"56.114981\"/>\n     <use style=\"fill:#1f77b4;stroke:#1f77b4;\" x=\"114.780683\" xlink:href=\"#me9dc8f2280\" y=\"62.139705\"/>\n     <use style=\"fill:#1f77b4;stroke:#1f77b4;\" x=\"127.980797\" xlink:href=\"#me9dc8f2280\" y=\"81.621194\"/>\n     <use style=\"fill:#1f77b4;stroke:#1f77b4;\" x=\"150.08727\" xlink:href=\"#me9dc8f2280\" y=\"95.472046\"/>\n     <use style=\"fill:#1f77b4;stroke:#1f77b4;\" x=\"119.829837\" xlink:href=\"#me9dc8f2280\" y=\"73.085859\"/>\n     <use style=\"fill:#1f77b4;stroke:#1f77b4;\" x=\"112.225164\" xlink:href=\"#me9dc8f2280\" y=\"66.204015\"/>\n     <use style=\"fill:#1f77b4;stroke:#1f77b4;\" x=\"103.05864\" xlink:href=\"#me9dc8f2280\" y=\"53.620629\"/>\n     <use style=\"fill:#1f77b4;stroke:#1f77b4;\" x=\"147.177157\" xlink:href=\"#me9dc8f2280\" y=\"86.206507\"/>\n     <use style=\"fill:#1f77b4;stroke:#1f77b4;\" x=\"120.071371\" xlink:href=\"#me9dc8f2280\" y=\"68.72639\"/>\n     <use style=\"fill:#1f77b4;stroke:#1f77b4;\" x=\"149.532918\" xlink:href=\"#me9dc8f2280\" y=\"83.255764\"/>\n     <use style=\"fill:#1f77b4;stroke:#1f77b4;\" x=\"102.992533\" xlink:href=\"#me9dc8f2280\" y=\"53.465918\"/>\n     <use style=\"fill:#1f77b4;stroke:#1f77b4;\" x=\"132.637879\" xlink:href=\"#me9dc8f2280\" y=\"71.70861\"/>\n     <use style=\"fill:#1f77b4;stroke:#1f77b4;\" x=\"158.758291\" xlink:href=\"#me9dc8f2280\" y=\"101.457279\"/>\n     <use style=\"fill:#1f77b4;stroke:#1f77b4;\" x=\"115.570509\" xlink:href=\"#me9dc8f2280\" y=\"66.447095\"/>\n     <use style=\"fill:#1f77b4;stroke:#1f77b4;\" x=\"157.800468\" xlink:href=\"#me9dc8f2280\" y=\"98.142357\"/>\n     <use style=\"fill:#1f77b4;stroke:#1f77b4;\" x=\"135.837585\" xlink:href=\"#me9dc8f2280\" y=\"66.692353\"/>\n     <use style=\"fill:#1f77b4;stroke:#1f77b4;\" x=\"123.627066\" xlink:href=\"#me9dc8f2280\" y=\"67.662208\"/>\n     <use style=\"fill:#1f77b4;stroke:#1f77b4;\" x=\"144.424366\" xlink:href=\"#me9dc8f2280\" y=\"90.010022\"/>\n     <use style=\"fill:#1f77b4;stroke:#1f77b4;\" x=\"105.541268\" xlink:href=\"#me9dc8f2280\" y=\"66.398563\"/>\n     <use style=\"fill:#1f77b4;stroke:#1f77b4;\" x=\"174.270228\" xlink:href=\"#me9dc8f2280\" y=\"92.191151\"/>\n     <use style=\"fill:#1f77b4;stroke:#1f77b4;\" x=\"63.864475\" xlink:href=\"#me9dc8f2280\" y=\"37.193782\"/>\n     <use style=\"fill:#1f77b4;stroke:#1f77b4;\" x=\"109.512177\" xlink:href=\"#me9dc8f2280\" y=\"56.695702\"/>\n     <use style=\"fill:#1f77b4;stroke:#1f77b4;\" x=\"122.107109\" xlink:href=\"#me9dc8f2280\" y=\"56.468904\"/>\n     <use style=\"fill:#1f77b4;stroke:#1f77b4;\" x=\"77.918279\" xlink:href=\"#me9dc8f2280\" y=\"47.306239\"/>\n     <use style=\"fill:#1f77b4;stroke:#1f77b4;\" x=\"118.687127\" xlink:href=\"#me9dc8f2280\" y=\"65.581264\"/>\n     <use style=\"fill:#1f77b4;stroke:#1f77b4;\" x=\"101.867966\" xlink:href=\"#me9dc8f2280\" y=\"61.302828\"/>\n     <use style=\"fill:#1f77b4;stroke:#1f77b4;\" x=\"131.711719\" xlink:href=\"#me9dc8f2280\" y=\"64.897351\"/>\n     <use style=\"fill:#1f77b4;stroke:#1f77b4;\" x=\"123.312714\" xlink:href=\"#me9dc8f2280\" y=\"53.366807\"/>\n     <use style=\"fill:#1f77b4;stroke:#1f77b4;\" x=\"113.49376\" xlink:href=\"#me9dc8f2280\" y=\"48.67847\"/>\n     <use style=\"fill:#1f77b4;stroke:#1f77b4;\" x=\"117.826177\" xlink:href=\"#me9dc8f2280\" y=\"70.522731\"/>\n     <use style=\"fill:#1f77b4;stroke:#1f77b4;\" x=\"106.023958\" xlink:href=\"#me9dc8f2280\" y=\"56.715569\"/>\n     <use style=\"fill:#1f77b4;stroke:#1f77b4;\" x=\"102.519786\" xlink:href=\"#me9dc8f2280\" y=\"53.049044\"/>\n     <use style=\"fill:#1f77b4;stroke:#1f77b4;\" x=\"110.726883\" xlink:href=\"#me9dc8f2280\" y=\"54.358652\"/>\n     <use style=\"fill:#1f77b4;stroke:#1f77b4;\" x=\"120.103694\" xlink:href=\"#me9dc8f2280\" y=\"64.794145\"/>\n     <use style=\"fill:#1f77b4;stroke:#1f77b4;\" x=\"99.12363\" xlink:href=\"#me9dc8f2280\" y=\"44.472735\"/>\n     <use style=\"fill:#1f77b4;stroke:#1f77b4;\" x=\"97.190624\" xlink:href=\"#me9dc8f2280\" y=\"41.421778\"/>\n     <use style=\"fill:#1f77b4;stroke:#1f77b4;\" x=\"86.417239\" xlink:href=\"#me9dc8f2280\" y=\"54.949217\"/>\n     <use style=\"fill:#1f77b4;stroke:#1f77b4;\" x=\"118.292427\" xlink:href=\"#me9dc8f2280\" y=\"64.338405\"/>\n     <use style=\"fill:#1f77b4;stroke:#1f77b4;\" x=\"87.420418\" xlink:href=\"#me9dc8f2280\" y=\"48.051054\"/>\n     <use style=\"fill:#1f77b4;stroke:#1f77b4;\" x=\"86.444481\" xlink:href=\"#me9dc8f2280\" y=\"41.324688\"/>\n     <use style=\"fill:#1f77b4;stroke:#1f77b4;\" x=\"118.228414\" xlink:href=\"#me9dc8f2280\" y=\"66.174697\"/>\n     <use style=\"fill:#1f77b4;stroke:#1f77b4;\" x=\"152.543081\" xlink:href=\"#me9dc8f2280\" y=\"77.621407\"/>\n     <use style=\"fill:#1f77b4;stroke:#1f77b4;\" x=\"110.354861\" xlink:href=\"#me9dc8f2280\" y=\"70.907072\"/>\n     <use style=\"fill:#1f77b4;stroke:#1f77b4;\" x=\"98.128973\" xlink:href=\"#me9dc8f2280\" y=\"46.117753\"/>\n     <use style=\"fill:#1f77b4;stroke:#1f77b4;\" x=\"100.734597\" xlink:href=\"#me9dc8f2280\" y=\"57.873867\"/>\n     <use style=\"fill:#1f77b4;stroke:#1f77b4;\" x=\"105.351132\" xlink:href=\"#me9dc8f2280\" y=\"50.684302\"/>\n     <use style=\"fill:#1f77b4;stroke:#1f77b4;\" x=\"120.482532\" xlink:href=\"#me9dc8f2280\" y=\"54.179941\"/>\n     <use style=\"fill:#1f77b4;stroke:#1f77b4;\" x=\"89.143851\" xlink:href=\"#me9dc8f2280\" y=\"49.745013\"/>\n     <use style=\"fill:#1f77b4;stroke:#1f77b4;\" x=\"78.853812\" xlink:href=\"#me9dc8f2280\" y=\"40.008262\"/>\n     <use style=\"fill:#1f77b4;stroke:#1f77b4;\" x=\"90.794658\" xlink:href=\"#me9dc8f2280\" y=\"28.606502\"/>\n     <use style=\"fill:#1f77b4;stroke:#1f77b4;\" x=\"97.723143\" xlink:href=\"#me9dc8f2280\" y=\"53.451565\"/>\n     <use style=\"fill:#1f77b4;stroke:#1f77b4;\" x=\"132.96998\" xlink:href=\"#me9dc8f2280\" y=\"71.149596\"/>\n     <use style=\"fill:#1f77b4;stroke:#1f77b4;\" x=\"88.863493\" xlink:href=\"#me9dc8f2280\" y=\"42.998272\"/>\n     <use style=\"fill:#1f77b4;stroke:#1f77b4;\" x=\"127.312464\" xlink:href=\"#me9dc8f2280\" y=\"81.4975\"/>\n     <use style=\"fill:#1f77b4;stroke:#1f77b4;\" x=\"140.817754\" xlink:href=\"#me9dc8f2280\" y=\"79.670938\"/>\n     <use style=\"fill:#1f77b4;stroke:#1f77b4;\" x=\"113.682002\" xlink:href=\"#me9dc8f2280\" y=\"49.388163\"/>\n     <use style=\"fill:#1f77b4;stroke:#1f77b4;\" x=\"101.644947\" xlink:href=\"#me9dc8f2280\" y=\"64.129492\"/>\n     <use style=\"fill:#1f77b4;stroke:#1f77b4;\" x=\"134.214625\" xlink:href=\"#me9dc8f2280\" y=\"79.513563\"/>\n     <use style=\"fill:#1f77b4;stroke:#1f77b4;\" x=\"183.633354\" xlink:href=\"#me9dc8f2280\" y=\"103.189983\"/>\n     <use style=\"fill:#1f77b4;stroke:#1f77b4;\" x=\"94.10907\" xlink:href=\"#me9dc8f2280\" y=\"53.721922\"/>\n     <use style=\"fill:#1f77b4;stroke:#1f77b4;\" x=\"127.56884\" xlink:href=\"#me9dc8f2280\" y=\"88.230621\"/>\n     <use style=\"fill:#1f77b4;stroke:#1f77b4;\" x=\"140.283446\" xlink:href=\"#me9dc8f2280\" y=\"78.589536\"/>\n     <use style=\"fill:#1f77b4;stroke:#1f77b4;\" x=\"159.903409\" xlink:href=\"#me9dc8f2280\" y=\"87.636441\"/>\n     <use style=\"fill:#1f77b4;stroke:#1f77b4;\" x=\"146.805638\" xlink:href=\"#me9dc8f2280\" y=\"93.320412\"/>\n     <use style=\"fill:#1f77b4;stroke:#1f77b4;\" x=\"111.072279\" xlink:href=\"#me9dc8f2280\" y=\"53.086114\"/>\n     <use style=\"fill:#1f77b4;stroke:#1f77b4;\" x=\"128.993761\" xlink:href=\"#me9dc8f2280\" y=\"77.448201\"/>\n     <use style=\"fill:#1f77b4;stroke:#1f77b4;\" x=\"85.933604\" xlink:href=\"#me9dc8f2280\" y=\"44.502639\"/>\n     <use style=\"fill:#1f77b4;stroke:#1f77b4;\" x=\"118.540531\" xlink:href=\"#me9dc8f2280\" y=\"55.407494\"/>\n     <use style=\"fill:#1f77b4;stroke:#1f77b4;\" x=\"136.442726\" xlink:href=\"#me9dc8f2280\" y=\"67.029027\"/>\n     <use style=\"fill:#1f77b4;stroke:#1f77b4;\" x=\"118.495179\" xlink:href=\"#me9dc8f2280\" y=\"67.608871\"/>\n     <use style=\"fill:#1f77b4;stroke:#1f77b4;\" x=\"106.208891\" xlink:href=\"#me9dc8f2280\" y=\"52.65034\"/>\n     <use style=\"fill:#1f77b4;stroke:#1f77b4;\" x=\"146.094081\" xlink:href=\"#me9dc8f2280\" y=\"87.671791\"/>\n     <use style=\"fill:#1f77b4;stroke:#1f77b4;\" x=\"150.74077\" xlink:href=\"#me9dc8f2280\" y=\"68.480168\"/>\n     <use style=\"fill:#1f77b4;stroke:#1f77b4;\" x=\"95.652072\" xlink:href=\"#me9dc8f2280\" y=\"71.452954\"/>\n     <use style=\"fill:#1f77b4;stroke:#1f77b4;\" x=\"105.483974\" xlink:href=\"#me9dc8f2280\" y=\"57.459627\"/>\n     <use style=\"fill:#1f77b4;stroke:#1f77b4;\" x=\"120.696861\" xlink:href=\"#me9dc8f2280\" y=\"82.318617\"/>\n     <use style=\"fill:#1f77b4;stroke:#1f77b4;\" x=\"89.794425\" xlink:href=\"#me9dc8f2280\" y=\"45.694811\"/>\n     <use style=\"fill:#1f77b4;stroke:#1f77b4;\" x=\"148.902232\" xlink:href=\"#me9dc8f2280\" y=\"81.14106\"/>\n     <use style=\"fill:#1f77b4;stroke:#1f77b4;\" x=\"172.393191\" xlink:href=\"#me9dc8f2280\" y=\"93.154592\"/>\n     <use style=\"fill:#1f77b4;stroke:#1f77b4;\" x=\"151.488692\" xlink:href=\"#me9dc8f2280\" y=\"95.48347\"/>\n     <use style=\"fill:#1f77b4;stroke:#1f77b4;\" x=\"147.939619\" xlink:href=\"#me9dc8f2280\" y=\"80.635485\"/>\n     <use style=\"fill:#1f77b4;stroke:#1f77b4;\" x=\"117.663455\" xlink:href=\"#me9dc8f2280\" y=\"66.35321\"/>\n     <use style=\"fill:#1f77b4;stroke:#1f77b4;\" x=\"116.423196\" xlink:href=\"#me9dc8f2280\" y=\"65.141154\"/>\n     <use style=\"fill:#1f77b4;stroke:#1f77b4;\" x=\"129.677112\" xlink:href=\"#me9dc8f2280\" y=\"78.718096\"/>\n     <use style=\"fill:#1f77b4;stroke:#1f77b4;\" x=\"106.481172\" xlink:href=\"#me9dc8f2280\" y=\"40.688863\"/>\n     <use style=\"fill:#1f77b4;stroke:#1f77b4;\" x=\"95.415155\" xlink:href=\"#me9dc8f2280\" y=\"52.060744\"/>\n     <use style=\"fill:#1f77b4;stroke:#1f77b4;\" x=\"132.764313\" xlink:href=\"#me9dc8f2280\" y=\"84.932507\"/>\n     <use style=\"fill:#1f77b4;stroke:#1f77b4;\" x=\"140.021584\" xlink:href=\"#me9dc8f2280\" y=\"86.694497\"/>\n     <use style=\"fill:#1f77b4;stroke:#1f77b4;\" x=\"79.423328\" xlink:href=\"#me9dc8f2280\" y=\"30.711554\"/>\n     <use style=\"fill:#1f77b4;stroke:#1f77b4;\" x=\"104.976182\" xlink:href=\"#me9dc8f2280\" y=\"62.141001\"/>\n     <use style=\"fill:#1f77b4;stroke:#1f77b4;\" x=\"142.786297\" xlink:href=\"#me9dc8f2280\" y=\"94.685096\"/>\n     <use style=\"fill:#1f77b4;stroke:#1f77b4;\" x=\"143.061013\" xlink:href=\"#me9dc8f2280\" y=\"78.190881\"/>\n     <use style=\"fill:#1f77b4;stroke:#1f77b4;\" x=\"117.347608\" xlink:href=\"#me9dc8f2280\" y=\"68.500547\"/>\n     <use style=\"fill:#1f77b4;stroke:#1f77b4;\" x=\"127.416361\" xlink:href=\"#me9dc8f2280\" y=\"60.890613\"/>\n     <use style=\"fill:#1f77b4;stroke:#1f77b4;\" x=\"126.774828\" xlink:href=\"#me9dc8f2280\" y=\"67.741012\"/>\n     <use style=\"fill:#1f77b4;stroke:#1f77b4;\" x=\"157.087398\" xlink:href=\"#me9dc8f2280\" y=\"81.845485\"/>\n     <use style=\"fill:#1f77b4;stroke:#1f77b4;\" x=\"129.983161\" xlink:href=\"#me9dc8f2280\" y=\"79.533891\"/>\n     <use style=\"fill:#1f77b4;stroke:#1f77b4;\" x=\"88.129155\" xlink:href=\"#me9dc8f2280\" y=\"52.291606\"/>\n     <use style=\"fill:#1f77b4;stroke:#1f77b4;\" x=\"133.964122\" xlink:href=\"#me9dc8f2280\" y=\"82.529422\"/>\n     <use style=\"fill:#1f77b4;stroke:#1f77b4;\" x=\"96.739691\" xlink:href=\"#me9dc8f2280\" y=\"54.908354\"/>\n     <use style=\"fill:#1f77b4;stroke:#1f77b4;\" x=\"122.839128\" xlink:href=\"#me9dc8f2280\" y=\"68.845162\"/>\n     <use style=\"fill:#1f77b4;stroke:#1f77b4;\" x=\"141.815887\" xlink:href=\"#me9dc8f2280\" y=\"71.641072\"/>\n     <use style=\"fill:#1f77b4;stroke:#1f77b4;\" x=\"159.685173\" xlink:href=\"#me9dc8f2280\" y=\"86.842373\"/>\n     <use style=\"fill:#1f77b4;stroke:#1f77b4;\" x=\"95.384689\" xlink:href=\"#me9dc8f2280\" y=\"36.723749\"/>\n     <use style=\"fill:#1f77b4;stroke:#1f77b4;\" x=\"124.308916\" xlink:href=\"#me9dc8f2280\" y=\"72.535266\"/>\n     <use style=\"fill:#1f77b4;stroke:#1f77b4;\" x=\"139.242236\" xlink:href=\"#me9dc8f2280\" y=\"65.099002\"/>\n     <use style=\"fill:#1f77b4;stroke:#1f77b4;\" x=\"111.572673\" xlink:href=\"#me9dc8f2280\" y=\"40.666276\"/>\n     <use style=\"fill:#1f77b4;stroke:#1f77b4;\" x=\"132.992254\" xlink:href=\"#me9dc8f2280\" y=\"57.043775\"/>\n     <use style=\"fill:#1f77b4;stroke:#1f77b4;\" x=\"132.426779\" xlink:href=\"#me9dc8f2280\" y=\"81.829951\"/>\n     <use style=\"fill:#1f77b4;stroke:#1f77b4;\" x=\"147.484907\" xlink:href=\"#me9dc8f2280\" y=\"82.457058\"/>\n     <use style=\"fill:#1f77b4;stroke:#1f77b4;\" x=\"161.460311\" xlink:href=\"#me9dc8f2280\" y=\"98.760583\"/>\n     <use style=\"fill:#1f77b4;stroke:#1f77b4;\" x=\"142.331441\" xlink:href=\"#me9dc8f2280\" y=\"76.436851\"/>\n     <use style=\"fill:#1f77b4;stroke:#1f77b4;\" x=\"145.382151\" xlink:href=\"#me9dc8f2280\" y=\"91.399493\"/>\n     <use style=\"fill:#1f77b4;stroke:#1f77b4;\" x=\"137.040924\" xlink:href=\"#me9dc8f2280\" y=\"84.015579\"/>\n     <use style=\"fill:#1f77b4;stroke:#1f77b4;\" x=\"96.291163\" xlink:href=\"#me9dc8f2280\" y=\"52.053821\"/>\n     <use style=\"fill:#1f77b4;stroke:#1f77b4;\" x=\"101.783151\" xlink:href=\"#me9dc8f2280\" y=\"38.727409\"/>\n     <use style=\"fill:#1f77b4;stroke:#1f77b4;\" x=\"132.937938\" xlink:href=\"#me9dc8f2280\" y=\"59.230266\"/>\n     <use style=\"fill:#1f77b4;stroke:#1f77b4;\" x=\"97.302619\" xlink:href=\"#me9dc8f2280\" y=\"35.546607\"/>\n     <use style=\"fill:#1f77b4;stroke:#1f77b4;\" x=\"148.370244\" xlink:href=\"#me9dc8f2280\" y=\"93.570155\"/>\n     <use style=\"fill:#1f77b4;stroke:#1f77b4;\" x=\"104.04245\" xlink:href=\"#me9dc8f2280\" y=\"64.225063\"/>\n     <use style=\"fill:#1f77b4;stroke:#1f77b4;\" x=\"138.191342\" xlink:href=\"#me9dc8f2280\" y=\"77.005381\"/>\n     <use style=\"fill:#1f77b4;stroke:#1f77b4;\" x=\"112.16875\" xlink:href=\"#me9dc8f2280\" y=\"63.685836\"/>\n     <use style=\"fill:#1f77b4;stroke:#1f77b4;\" x=\"161.69926\" xlink:href=\"#me9dc8f2280\" y=\"94.663981\"/>\n     <use style=\"fill:#1f77b4;stroke:#1f77b4;\" x=\"120.819186\" xlink:href=\"#me9dc8f2280\" y=\"57.225052\"/>\n     <use style=\"fill:#1f77b4;stroke:#1f77b4;\" x=\"108.931404\" xlink:href=\"#me9dc8f2280\" y=\"67.260577\"/>\n     <use style=\"fill:#1f77b4;stroke:#1f77b4;\" x=\"111.637419\" xlink:href=\"#me9dc8f2280\" y=\"56.495146\"/>\n     <use style=\"fill:#1f77b4;stroke:#1f77b4;\" x=\"97.382488\" xlink:href=\"#me9dc8f2280\" y=\"50.66423\"/>\n     <use style=\"fill:#1f77b4;stroke:#1f77b4;\" x=\"116.41952\" xlink:href=\"#me9dc8f2280\" y=\"70.056773\"/>\n     <use style=\"fill:#1f77b4;stroke:#1f77b4;\" x=\"89.572827\" xlink:href=\"#me9dc8f2280\" y=\"44.540023\"/>\n     <use style=\"fill:#1f77b4;stroke:#1f77b4;\" x=\"176.053765\" xlink:href=\"#me9dc8f2280\" y=\"99.327825\"/>\n     <use style=\"fill:#1f77b4;stroke:#1f77b4;\" x=\"146.354927\" xlink:href=\"#me9dc8f2280\" y=\"86.074693\"/>\n     <use style=\"fill:#1f77b4;stroke:#1f77b4;\" x=\"143.406857\" xlink:href=\"#me9dc8f2280\" y=\"82.591714\"/>\n     <use style=\"fill:#1f77b4;stroke:#1f77b4;\" x=\"168.276741\" xlink:href=\"#me9dc8f2280\" y=\"101.525171\"/>\n     <use style=\"fill:#1f77b4;stroke:#1f77b4;\" x=\"120.151571\" xlink:href=\"#me9dc8f2280\" y=\"81.806514\"/>\n     <use style=\"fill:#1f77b4;stroke:#1f77b4;\" x=\"135.246457\" xlink:href=\"#me9dc8f2280\" y=\"76.572362\"/>\n     <use style=\"fill:#1f77b4;stroke:#1f77b4;\" x=\"103.148748\" xlink:href=\"#me9dc8f2280\" y=\"44.153911\"/>\n     <use style=\"fill:#1f77b4;stroke:#1f77b4;\" x=\"120.264249\" xlink:href=\"#me9dc8f2280\" y=\"69.091992\"/>\n     <use style=\"fill:#1f77b4;stroke:#1f77b4;\" x=\"106.783153\" xlink:href=\"#me9dc8f2280\" y=\"55.427618\"/>\n     <use style=\"fill:#1f77b4;stroke:#1f77b4;\" x=\"93.837458\" xlink:href=\"#me9dc8f2280\" y=\"61.171228\"/>\n     <use style=\"fill:#1f77b4;stroke:#1f77b4;\" x=\"130.698263\" xlink:href=\"#me9dc8f2280\" y=\"73.502534\"/>\n     <use style=\"fill:#1f77b4;stroke:#1f77b4;\" x=\"100.898712\" xlink:href=\"#me9dc8f2280\" y=\"53.993333\"/>\n     <use style=\"fill:#1f77b4;stroke:#1f77b4;\" x=\"85.739308\" xlink:href=\"#me9dc8f2280\" y=\"21.063866\"/>\n     <use style=\"fill:#1f77b4;stroke:#1f77b4;\" x=\"157.247124\" xlink:href=\"#me9dc8f2280\" y=\"92.870499\"/>\n     <use style=\"fill:#1f77b4;stroke:#1f77b4;\" x=\"147.483405\" xlink:href=\"#me9dc8f2280\" y=\"66.179978\"/>\n     <use style=\"fill:#1f77b4;stroke:#1f77b4;\" x=\"84.974682\" xlink:href=\"#me9dc8f2280\" y=\"50.630207\"/>\n     <use style=\"fill:#1f77b4;stroke:#1f77b4;\" x=\"126.443211\" xlink:href=\"#me9dc8f2280\" y=\"74.482468\"/>\n     <use style=\"fill:#1f77b4;stroke:#1f77b4;\" x=\"183.302165\" xlink:href=\"#me9dc8f2280\" y=\"96.105325\"/>\n     <use style=\"fill:#1f77b4;stroke:#1f77b4;\" x=\"104.945492\" xlink:href=\"#me9dc8f2280\" y=\"54.71537\"/>\n     <use style=\"fill:#1f77b4;stroke:#1f77b4;\" x=\"110.87984\" xlink:href=\"#me9dc8f2280\" y=\"53.857799\"/>\n     <use style=\"fill:#1f77b4;stroke:#1f77b4;\" x=\"120.732053\" xlink:href=\"#me9dc8f2280\" y=\"80.776389\"/>\n     <use style=\"fill:#1f77b4;stroke:#1f77b4;\" x=\"155.723227\" xlink:href=\"#me9dc8f2280\" y=\"98.221582\"/>\n     <use style=\"fill:#1f77b4;stroke:#1f77b4;\" x=\"100.995913\" xlink:href=\"#me9dc8f2280\" y=\"43.682638\"/>\n     <use style=\"fill:#1f77b4;stroke:#1f77b4;\" x=\"221.727415\" xlink:href=\"#me9dc8f2280\" y=\"136.922727\"/>\n     <use style=\"fill:#1f77b4;stroke:#1f77b4;\" x=\"149.579737\" xlink:href=\"#me9dc8f2280\" y=\"83.143463\"/>\n     <use style=\"fill:#1f77b4;stroke:#1f77b4;\" x=\"88.506369\" xlink:href=\"#me9dc8f2280\" y=\"44.317765\"/>\n     <use style=\"fill:#1f77b4;stroke:#1f77b4;\" x=\"122.051119\" xlink:href=\"#me9dc8f2280\" y=\"92.771344\"/>\n     <use style=\"fill:#1f77b4;stroke:#1f77b4;\" x=\"147.761392\" xlink:href=\"#me9dc8f2280\" y=\"66.47557\"/>\n     <use style=\"fill:#1f77b4;stroke:#1f77b4;\" x=\"135.365724\" xlink:href=\"#me9dc8f2280\" y=\"67.710033\"/>\n     <use style=\"fill:#1f77b4;stroke:#1f77b4;\" x=\"108.128093\" xlink:href=\"#me9dc8f2280\" y=\"65.75444\"/>\n     <use style=\"fill:#1f77b4;stroke:#1f77b4;\" x=\"85.036312\" xlink:href=\"#me9dc8f2280\" y=\"52.691262\"/>\n     <use style=\"fill:#1f77b4;stroke:#1f77b4;\" x=\"107.243331\" xlink:href=\"#me9dc8f2280\" y=\"59.147643\"/>\n     <use style=\"fill:#1f77b4;stroke:#1f77b4;\" x=\"103.503305\" xlink:href=\"#me9dc8f2280\" y=\"61.706335\"/>\n     <use style=\"fill:#1f77b4;stroke:#1f77b4;\" x=\"143.219178\" xlink:href=\"#me9dc8f2280\" y=\"70.298147\"/>\n     <use style=\"fill:#1f77b4;stroke:#1f77b4;\" x=\"87.432118\" xlink:href=\"#me9dc8f2280\" y=\"49.229887\"/>\n     <use style=\"fill:#1f77b4;stroke:#1f77b4;\" x=\"148.487238\" xlink:href=\"#me9dc8f2280\" y=\"68.335022\"/>\n     <use style=\"fill:#1f77b4;stroke:#1f77b4;\" x=\"175.218307\" xlink:href=\"#me9dc8f2280\" y=\"107.634303\"/>\n     <use style=\"fill:#1f77b4;stroke:#1f77b4;\" x=\"144.676793\" xlink:href=\"#me9dc8f2280\" y=\"100.207449\"/>\n     <use style=\"fill:#1f77b4;stroke:#1f77b4;\" x=\"163.806678\" xlink:href=\"#me9dc8f2280\" y=\"93.469256\"/>\n     <use style=\"fill:#1f77b4;stroke:#1f77b4;\" x=\"96.138275\" xlink:href=\"#me9dc8f2280\" y=\"41.575116\"/>\n     <use style=\"fill:#1f77b4;stroke:#1f77b4;\" x=\"131.01478\" xlink:href=\"#me9dc8f2280\" y=\"74.79971\"/>\n     <use style=\"fill:#1f77b4;stroke:#1f77b4;\" x=\"106.330901\" xlink:href=\"#me9dc8f2280\" y=\"56.38595\"/>\n     <use style=\"fill:#1f77b4;stroke:#1f77b4;\" x=\"117.200352\" xlink:href=\"#me9dc8f2280\" y=\"70.673932\"/>\n     <use style=\"fill:#1f77b4;stroke:#1f77b4;\" x=\"161.412633\" xlink:href=\"#me9dc8f2280\" y=\"100.426229\"/>\n     <use style=\"fill:#1f77b4;stroke:#1f77b4;\" x=\"117.579348\" xlink:href=\"#me9dc8f2280\" y=\"60.01396\"/>\n     <use style=\"fill:#1f77b4;stroke:#1f77b4;\" x=\"139.69628\" xlink:href=\"#me9dc8f2280\" y=\"82.905453\"/>\n     <use style=\"fill:#1f77b4;stroke:#1f77b4;\" x=\"173.416824\" xlink:href=\"#me9dc8f2280\" y=\"89.2328\"/>\n     <use style=\"fill:#1f77b4;stroke:#1f77b4;\" x=\"121.549612\" xlink:href=\"#me9dc8f2280\" y=\"54.998702\"/>\n     <use style=\"fill:#1f77b4;stroke:#1f77b4;\" x=\"70.749822\" xlink:href=\"#me9dc8f2280\" y=\"52.773742\"/>\n     <use style=\"fill:#1f77b4;stroke:#1f77b4;\" x=\"109.887098\" xlink:href=\"#me9dc8f2280\" y=\"67.315122\"/>\n     <use style=\"fill:#1f77b4;stroke:#1f77b4;\" x=\"151.576048\" xlink:href=\"#me9dc8f2280\" y=\"80.59839\"/>\n     <use style=\"fill:#1f77b4;stroke:#1f77b4;\" x=\"125.759957\" xlink:href=\"#me9dc8f2280\" y=\"60.549533\"/>\n     <use style=\"fill:#1f77b4;stroke:#1f77b4;\" x=\"112.53309\" xlink:href=\"#me9dc8f2280\" y=\"61.803921\"/>\n     <use style=\"fill:#1f77b4;stroke:#1f77b4;\" x=\"165.258783\" xlink:href=\"#me9dc8f2280\" y=\"99.603146\"/>\n     <use style=\"fill:#1f77b4;stroke:#1f77b4;\" x=\"68.433586\" xlink:href=\"#me9dc8f2280\" y=\"39.623277\"/>\n     <use style=\"fill:#1f77b4;stroke:#1f77b4;\" x=\"164.342357\" xlink:href=\"#me9dc8f2280\" y=\"91.135136\"/>\n     <use style=\"fill:#1f77b4;stroke:#1f77b4;\" x=\"71.469507\" xlink:href=\"#me9dc8f2280\" y=\"27.746948\"/>\n     <use style=\"fill:#1f77b4;stroke:#1f77b4;\" x=\"76.001854\" xlink:href=\"#me9dc8f2280\" y=\"36.139672\"/>\n     <use style=\"fill:#1f77b4;stroke:#1f77b4;\" x=\"115.684216\" xlink:href=\"#me9dc8f2280\" y=\"63.767234\"/>\n     <use style=\"fill:#1f77b4;stroke:#1f77b4;\" x=\"112.682113\" xlink:href=\"#me9dc8f2280\" y=\"48.684132\"/>\n     <use style=\"fill:#1f77b4;stroke:#1f77b4;\" x=\"81.245899\" xlink:href=\"#me9dc8f2280\" y=\"39.055332\"/>\n     <use style=\"fill:#1f77b4;stroke:#1f77b4;\" x=\"149.796141\" xlink:href=\"#me9dc8f2280\" y=\"87.250837\"/>\n     <use style=\"fill:#1f77b4;stroke:#1f77b4;\" x=\"127.16038\" xlink:href=\"#me9dc8f2280\" y=\"63.554187\"/>\n     <use style=\"fill:#1f77b4;stroke:#1f77b4;\" x=\"132.273333\" xlink:href=\"#me9dc8f2280\" y=\"74.888966\"/>\n     <use style=\"fill:#1f77b4;stroke:#1f77b4;\" x=\"112.286511\" xlink:href=\"#me9dc8f2280\" y=\"51.75929\"/>\n     <use style=\"fill:#1f77b4;stroke:#1f77b4;\" x=\"120.551099\" xlink:href=\"#me9dc8f2280\" y=\"61.971068\"/>\n     <use style=\"fill:#1f77b4;stroke:#1f77b4;\" x=\"97.24748\" xlink:href=\"#me9dc8f2280\" y=\"35.883773\"/>\n     <use style=\"fill:#1f77b4;stroke:#1f77b4;\" x=\"106.956563\" xlink:href=\"#me9dc8f2280\" y=\"61.507351\"/>\n     <use style=\"fill:#1f77b4;stroke:#1f77b4;\" x=\"95.240639\" xlink:href=\"#me9dc8f2280\" y=\"57.914329\"/>\n     <use style=\"fill:#1f77b4;stroke:#1f77b4;\" x=\"116.043218\" xlink:href=\"#me9dc8f2280\" y=\"59.007227\"/>\n     <use style=\"fill:#1f77b4;stroke:#1f77b4;\" x=\"176.568461\" xlink:href=\"#me9dc8f2280\" y=\"98.527288\"/>\n     <use style=\"fill:#1f77b4;stroke:#1f77b4;\" x=\"149.957942\" xlink:href=\"#me9dc8f2280\" y=\"88.107553\"/>\n     <use style=\"fill:#1f77b4;stroke:#1f77b4;\" x=\"112.153107\" xlink:href=\"#me9dc8f2280\" y=\"46.401243\"/>\n     <use style=\"fill:#1f77b4;stroke:#1f77b4;\" x=\"142.13154\" xlink:href=\"#me9dc8f2280\" y=\"72.848943\"/>\n     <use style=\"fill:#1f77b4;stroke:#1f77b4;\" x=\"153.307826\" xlink:href=\"#me9dc8f2280\" y=\"78.181864\"/>\n     <use style=\"fill:#1f77b4;stroke:#1f77b4;\" x=\"108.804086\" xlink:href=\"#me9dc8f2280\" y=\"50.013688\"/>\n     <use style=\"fill:#1f77b4;stroke:#1f77b4;\" x=\"139.693821\" xlink:href=\"#me9dc8f2280\" y=\"80.93955\"/>\n     <use style=\"fill:#1f77b4;stroke:#1f77b4;\" x=\"83.833085\" xlink:href=\"#me9dc8f2280\" y=\"46.622898\"/>\n     <use style=\"fill:#1f77b4;stroke:#1f77b4;\" x=\"149.654839\" xlink:href=\"#me9dc8f2280\" y=\"75.38455\"/>\n     <use style=\"fill:#1f77b4;stroke:#1f77b4;\" x=\"121.009428\" xlink:href=\"#me9dc8f2280\" y=\"75.288402\"/>\n     <use style=\"fill:#1f77b4;stroke:#1f77b4;\" x=\"87.450531\" xlink:href=\"#me9dc8f2280\" y=\"52.518461\"/>\n     <use style=\"fill:#1f77b4;stroke:#1f77b4;\" x=\"146.347382\" xlink:href=\"#me9dc8f2280\" y=\"84.405635\"/>\n     <use style=\"fill:#1f77b4;stroke:#1f77b4;\" x=\"128.822246\" xlink:href=\"#me9dc8f2280\" y=\"66.800753\"/>\n     <use style=\"fill:#1f77b4;stroke:#1f77b4;\" x=\"155.495266\" xlink:href=\"#me9dc8f2280\" y=\"76.05625\"/>\n     <use style=\"fill:#1f77b4;stroke:#1f77b4;\" x=\"95.314622\" xlink:href=\"#me9dc8f2280\" y=\"48.709107\"/>\n     <use style=\"fill:#1f77b4;stroke:#1f77b4;\" x=\"98.822782\" xlink:href=\"#me9dc8f2280\" y=\"52.425022\"/>\n     <use style=\"fill:#1f77b4;stroke:#1f77b4;\" x=\"182.862419\" xlink:href=\"#me9dc8f2280\" y=\"103.943482\"/>\n     <use style=\"fill:#1f77b4;stroke:#1f77b4;\" x=\"131.230235\" xlink:href=\"#me9dc8f2280\" y=\"57.263765\"/>\n     <use style=\"fill:#1f77b4;stroke:#1f77b4;\" x=\"91.417794\" xlink:href=\"#me9dc8f2280\" y=\"44.324736\"/>\n     <use style=\"fill:#1f77b4;stroke:#1f77b4;\" x=\"144.782708\" xlink:href=\"#me9dc8f2280\" y=\"80.839555\"/>\n     <use style=\"fill:#1f77b4;stroke:#1f77b4;\" x=\"80.385428\" xlink:href=\"#me9dc8f2280\" y=\"21.253137\"/>\n     <use style=\"fill:#1f77b4;stroke:#1f77b4;\" x=\"112.051068\" xlink:href=\"#me9dc8f2280\" y=\"52.668367\"/>\n     <use style=\"fill:#1f77b4;stroke:#1f77b4;\" x=\"95.162361\" xlink:href=\"#me9dc8f2280\" y=\"39.202975\"/>\n     <use style=\"fill:#1f77b4;stroke:#1f77b4;\" x=\"108.811324\" xlink:href=\"#me9dc8f2280\" y=\"56.43646\"/>\n     <use style=\"fill:#1f77b4;stroke:#1f77b4;\" x=\"121.595576\" xlink:href=\"#me9dc8f2280\" y=\"87.623782\"/>\n     <use style=\"fill:#1f77b4;stroke:#1f77b4;\" x=\"108.206122\" xlink:href=\"#me9dc8f2280\" y=\"51.702562\"/>\n     <use style=\"fill:#1f77b4;stroke:#1f77b4;\" x=\"130.396783\" xlink:href=\"#me9dc8f2280\" y=\"72.083778\"/>\n     <use style=\"fill:#1f77b4;stroke:#1f77b4;\" x=\"111.442449\" xlink:href=\"#me9dc8f2280\" y=\"56.778381\"/>\n     <use style=\"fill:#1f77b4;stroke:#1f77b4;\" x=\"156.530797\" xlink:href=\"#me9dc8f2280\" y=\"88.634841\"/>\n     <use style=\"fill:#1f77b4;stroke:#1f77b4;\" x=\"143.215619\" xlink:href=\"#me9dc8f2280\" y=\"74.465537\"/>\n     <use style=\"fill:#1f77b4;stroke:#1f77b4;\" x=\"59.438937\" xlink:href=\"#me9dc8f2280\" y=\"23.218967\"/>\n     <use style=\"fill:#1f77b4;stroke:#1f77b4;\" x=\"156.732965\" xlink:href=\"#me9dc8f2280\" y=\"93.576486\"/>\n     <use style=\"fill:#1f77b4;stroke:#1f77b4;\" x=\"182.461168\" xlink:href=\"#me9dc8f2280\" y=\"107.376902\"/>\n     <use style=\"fill:#1f77b4;stroke:#1f77b4;\" x=\"64.308273\" xlink:href=\"#me9dc8f2280\" y=\"25.945142\"/>\n     <use style=\"fill:#1f77b4;stroke:#1f77b4;\" x=\"142.701505\" xlink:href=\"#me9dc8f2280\" y=\"96.043728\"/>\n     <use style=\"fill:#1f77b4;stroke:#1f77b4;\" x=\"124.154987\" xlink:href=\"#me9dc8f2280\" y=\"65.713205\"/>\n     <use style=\"fill:#1f77b4;stroke:#1f77b4;\" x=\"111.078249\" xlink:href=\"#me9dc8f2280\" y=\"53.523632\"/>\n     <use style=\"fill:#1f77b4;stroke:#1f77b4;\" x=\"97.203457\" xlink:href=\"#me9dc8f2280\" y=\"35.654858\"/>\n     <use style=\"fill:#1f77b4;stroke:#1f77b4;\" x=\"126.186384\" xlink:href=\"#me9dc8f2280\" y=\"97.466708\"/>\n     <use style=\"fill:#1f77b4;stroke:#1f77b4;\" x=\"88.41673\" xlink:href=\"#me9dc8f2280\" y=\"44.321075\"/>\n     <use style=\"fill:#1f77b4;stroke:#1f77b4;\" x=\"152.114383\" xlink:href=\"#me9dc8f2280\" y=\"77.03882\"/>\n     <use style=\"fill:#1f77b4;stroke:#1f77b4;\" x=\"122.73196\" xlink:href=\"#me9dc8f2280\" y=\"72.709135\"/>\n     <use style=\"fill:#1f77b4;stroke:#1f77b4;\" x=\"155.91855\" xlink:href=\"#me9dc8f2280\" y=\"84.720256\"/>\n     <use style=\"fill:#1f77b4;stroke:#1f77b4;\" x=\"150.636058\" xlink:href=\"#me9dc8f2280\" y=\"91.402305\"/>\n     <use style=\"fill:#1f77b4;stroke:#1f77b4;\" x=\"124.864234\" xlink:href=\"#me9dc8f2280\" y=\"76.772409\"/>\n     <use style=\"fill:#1f77b4;stroke:#1f77b4;\" x=\"130.061694\" xlink:href=\"#me9dc8f2280\" y=\"81.082797\"/>\n     <use style=\"fill:#1f77b4;stroke:#1f77b4;\" x=\"97.936824\" xlink:href=\"#me9dc8f2280\" y=\"54.105559\"/>\n     <use style=\"fill:#1f77b4;stroke:#1f77b4;\" x=\"80.480827\" xlink:href=\"#me9dc8f2280\" y=\"48.848857\"/>\n     <use style=\"fill:#1f77b4;stroke:#1f77b4;\" x=\"144.737603\" xlink:href=\"#me9dc8f2280\" y=\"92.286417\"/>\n     <use style=\"fill:#1f77b4;stroke:#1f77b4;\" x=\"116.675038\" xlink:href=\"#me9dc8f2280\" y=\"58.492301\"/>\n     <use style=\"fill:#1f77b4;stroke:#1f77b4;\" x=\"119.57688\" xlink:href=\"#me9dc8f2280\" y=\"71.759705\"/>\n     <use style=\"fill:#1f77b4;stroke:#1f77b4;\" x=\"97.154333\" xlink:href=\"#me9dc8f2280\" y=\"55.279997\"/>\n     <use style=\"fill:#1f77b4;stroke:#1f77b4;\" x=\"77.932162\" xlink:href=\"#me9dc8f2280\" y=\"41.514831\"/>\n     <use style=\"fill:#1f77b4;stroke:#1f77b4;\" x=\"119.371506\" xlink:href=\"#me9dc8f2280\" y=\"73.513492\"/>\n     <use style=\"fill:#1f77b4;stroke:#1f77b4;\" x=\"136.328687\" xlink:href=\"#me9dc8f2280\" y=\"73.91018\"/>\n     <use style=\"fill:#1f77b4;stroke:#1f77b4;\" x=\"168.808649\" xlink:href=\"#me9dc8f2280\" y=\"99.486097\"/>\n     <use style=\"fill:#1f77b4;stroke:#1f77b4;\" x=\"144.444765\" xlink:href=\"#me9dc8f2280\" y=\"91.373091\"/>\n     <use style=\"fill:#1f77b4;stroke:#1f77b4;\" x=\"132.524736\" xlink:href=\"#me9dc8f2280\" y=\"69.386479\"/>\n     <use style=\"fill:#1f77b4;stroke:#1f77b4;\" x=\"145.565123\" xlink:href=\"#me9dc8f2280\" y=\"77.394444\"/>\n     <use style=\"fill:#1f77b4;stroke:#1f77b4;\" x=\"136.759154\" xlink:href=\"#me9dc8f2280\" y=\"75.630875\"/>\n     <use style=\"fill:#1f77b4;stroke:#1f77b4;\" x=\"136.20474\" xlink:href=\"#me9dc8f2280\" y=\"72.251823\"/>\n     <use style=\"fill:#1f77b4;stroke:#1f77b4;\" x=\"79.594199\" xlink:href=\"#me9dc8f2280\" y=\"32.905969\"/>\n     <use style=\"fill:#1f77b4;stroke:#1f77b4;\" x=\"108.84341\" xlink:href=\"#me9dc8f2280\" y=\"51.067516\"/>\n     <use style=\"fill:#1f77b4;stroke:#1f77b4;\" x=\"100.811956\" xlink:href=\"#me9dc8f2280\" y=\"49.048488\"/>\n     <use style=\"fill:#1f77b4;stroke:#1f77b4;\" x=\"166.266103\" xlink:href=\"#me9dc8f2280\" y=\"103.321386\"/>\n     <use style=\"fill:#1f77b4;stroke:#1f77b4;\" x=\"96.214146\" xlink:href=\"#me9dc8f2280\" y=\"43.501937\"/>\n     <use style=\"fill:#1f77b4;stroke:#1f77b4;\" x=\"151.552766\" xlink:href=\"#me9dc8f2280\" y=\"83.433498\"/>\n     <use style=\"fill:#1f77b4;stroke:#1f77b4;\" x=\"131.312634\" xlink:href=\"#me9dc8f2280\" y=\"67.877634\"/>\n     <use style=\"fill:#1f77b4;stroke:#1f77b4;\" x=\"112.361268\" xlink:href=\"#me9dc8f2280\" y=\"77.569265\"/>\n     <use style=\"fill:#1f77b4;stroke:#1f77b4;\" x=\"106.190587\" xlink:href=\"#me9dc8f2280\" y=\"55.266518\"/>\n     <use style=\"fill:#1f77b4;stroke:#1f77b4;\" x=\"129.594465\" xlink:href=\"#me9dc8f2280\" y=\"73.967449\"/>\n     <use style=\"fill:#1f77b4;stroke:#1f77b4;\" x=\"117.653316\" xlink:href=\"#me9dc8f2280\" y=\"60.787794\"/>\n     <use style=\"fill:#1f77b4;stroke:#1f77b4;\" x=\"128.625169\" xlink:href=\"#me9dc8f2280\" y=\"72.548845\"/>\n     <use style=\"fill:#1f77b4;stroke:#1f77b4;\" x=\"78.328424\" xlink:href=\"#me9dc8f2280\" y=\"36.739361\"/>\n     <use style=\"fill:#1f77b4;stroke:#1f77b4;\" x=\"97.049379\" xlink:href=\"#me9dc8f2280\" y=\"55.527807\"/>\n     <use style=\"fill:#1f77b4;stroke:#1f77b4;\" x=\"159.009276\" xlink:href=\"#me9dc8f2280\" y=\"90.693712\"/>\n     <use style=\"fill:#1f77b4;stroke:#1f77b4;\" x=\"120.820402\" xlink:href=\"#me9dc8f2280\" y=\"84.956073\"/>\n     <use style=\"fill:#1f77b4;stroke:#1f77b4;\" x=\"113.161602\" xlink:href=\"#me9dc8f2280\" y=\"58.543754\"/>\n     <use style=\"fill:#1f77b4;stroke:#1f77b4;\" x=\"116.650044\" xlink:href=\"#me9dc8f2280\" y=\"59.863831\"/>\n     <use style=\"fill:#1f77b4;stroke:#1f77b4;\" x=\"100.541447\" xlink:href=\"#me9dc8f2280\" y=\"45.208237\"/>\n     <use style=\"fill:#1f77b4;stroke:#1f77b4;\" x=\"132.333141\" xlink:href=\"#me9dc8f2280\" y=\"63.705923\"/>\n     <use style=\"fill:#1f77b4;stroke:#1f77b4;\" x=\"112.581357\" xlink:href=\"#me9dc8f2280\" y=\"62.60611\"/>\n     <use style=\"fill:#1f77b4;stroke:#1f77b4;\" x=\"117.349936\" xlink:href=\"#me9dc8f2280\" y=\"73.705121\"/>\n     <use style=\"fill:#1f77b4;stroke:#1f77b4;\" x=\"149.914154\" xlink:href=\"#me9dc8f2280\" y=\"69.645265\"/>\n     <use style=\"fill:#1f77b4;stroke:#1f77b4;\" x=\"130.701942\" xlink:href=\"#me9dc8f2280\" y=\"69.236001\"/>\n     <use style=\"fill:#1f77b4;stroke:#1f77b4;\" x=\"98.986947\" xlink:href=\"#me9dc8f2280\" y=\"68.583783\"/>\n     <use style=\"fill:#1f77b4;stroke:#1f77b4;\" x=\"157.246176\" xlink:href=\"#me9dc8f2280\" y=\"110.040429\"/>\n     <use style=\"fill:#1f77b4;stroke:#1f77b4;\" x=\"158.484226\" xlink:href=\"#me9dc8f2280\" y=\"98.614106\"/>\n     <use style=\"fill:#1f77b4;stroke:#1f77b4;\" x=\"114.607233\" xlink:href=\"#me9dc8f2280\" y=\"54.333671\"/>\n     <use style=\"fill:#1f77b4;stroke:#1f77b4;\" x=\"114.74816\" xlink:href=\"#me9dc8f2280\" y=\"66.722965\"/>\n     <use style=\"fill:#1f77b4;stroke:#1f77b4;\" x=\"144.737301\" xlink:href=\"#me9dc8f2280\" y=\"75.000424\"/>\n     <use style=\"fill:#1f77b4;stroke:#1f77b4;\" x=\"116.589493\" xlink:href=\"#me9dc8f2280\" y=\"49.838502\"/>\n     <use style=\"fill:#1f77b4;stroke:#1f77b4;\" x=\"133.413623\" xlink:href=\"#me9dc8f2280\" y=\"60.170396\"/>\n     <use style=\"fill:#1f77b4;stroke:#1f77b4;\" x=\"149.423853\" xlink:href=\"#me9dc8f2280\" y=\"91.455571\"/>\n     <use style=\"fill:#1f77b4;stroke:#1f77b4;\" x=\"78.485173\" xlink:href=\"#me9dc8f2280\" y=\"49.610873\"/>\n     <use style=\"fill:#1f77b4;stroke:#1f77b4;\" x=\"90.076041\" xlink:href=\"#me9dc8f2280\" y=\"54.106018\"/>\n     <use style=\"fill:#1f77b4;stroke:#1f77b4;\" x=\"117.122045\" xlink:href=\"#me9dc8f2280\" y=\"62.113879\"/>\n     <use style=\"fill:#1f77b4;stroke:#1f77b4;\" x=\"155.361708\" xlink:href=\"#me9dc8f2280\" y=\"89.672681\"/>\n     <use style=\"fill:#1f77b4;stroke:#1f77b4;\" x=\"166.717175\" xlink:href=\"#me9dc8f2280\" y=\"97.67781\"/>\n     <use style=\"fill:#1f77b4;stroke:#1f77b4;\" x=\"92.103478\" xlink:href=\"#me9dc8f2280\" y=\"46.054022\"/>\n     <use style=\"fill:#1f77b4;stroke:#1f77b4;\" x=\"144.711078\" xlink:href=\"#me9dc8f2280\" y=\"70.716095\"/>\n     <use style=\"fill:#1f77b4;stroke:#1f77b4;\" x=\"129.046306\" xlink:href=\"#me9dc8f2280\" y=\"77.326986\"/>\n     <use style=\"fill:#1f77b4;stroke:#1f77b4;\" x=\"88.336722\" xlink:href=\"#me9dc8f2280\" y=\"57.581266\"/>\n     <use style=\"fill:#1f77b4;stroke:#1f77b4;\" x=\"82.008117\" xlink:href=\"#me9dc8f2280\" y=\"31.156422\"/>\n     <use style=\"fill:#1f77b4;stroke:#1f77b4;\" x=\"102.707168\" xlink:href=\"#me9dc8f2280\" y=\"56.547976\"/>\n     <use style=\"fill:#1f77b4;stroke:#1f77b4;\" x=\"133.646759\" xlink:href=\"#me9dc8f2280\" y=\"71.091701\"/>\n     <use style=\"fill:#1f77b4;stroke:#1f77b4;\" x=\"94.54959\" xlink:href=\"#me9dc8f2280\" y=\"37.104262\"/>\n     <use style=\"fill:#1f77b4;stroke:#1f77b4;\" x=\"79.806609\" xlink:href=\"#me9dc8f2280\" y=\"32.504848\"/>\n     <use style=\"fill:#1f77b4;stroke:#1f77b4;\" x=\"146.484361\" xlink:href=\"#me9dc8f2280\" y=\"92.62002\"/>\n     <use style=\"fill:#1f77b4;stroke:#1f77b4;\" x=\"102.995822\" xlink:href=\"#me9dc8f2280\" y=\"64.991682\"/>\n     <use style=\"fill:#1f77b4;stroke:#1f77b4;\" x=\"93.305973\" xlink:href=\"#me9dc8f2280\" y=\"47.11198\"/>\n     <use style=\"fill:#1f77b4;stroke:#1f77b4;\" x=\"111.085495\" xlink:href=\"#me9dc8f2280\" y=\"56.936666\"/>\n     <use style=\"fill:#1f77b4;stroke:#1f77b4;\" x=\"119.823465\" xlink:href=\"#me9dc8f2280\" y=\"58.032868\"/>\n     <use style=\"fill:#1f77b4;stroke:#1f77b4;\" x=\"155.35547\" xlink:href=\"#me9dc8f2280\" y=\"94.069812\"/>\n     <use style=\"fill:#1f77b4;stroke:#1f77b4;\" x=\"137.947339\" xlink:href=\"#me9dc8f2280\" y=\"72.24232\"/>\n     <use style=\"fill:#1f77b4;stroke:#1f77b4;\" x=\"151.228358\" xlink:href=\"#me9dc8f2280\" y=\"76.715859\"/>\n     <use style=\"fill:#1f77b4;stroke:#1f77b4;\" x=\"110.871897\" xlink:href=\"#me9dc8f2280\" y=\"61.766599\"/>\n     <use style=\"fill:#1f77b4;stroke:#1f77b4;\" x=\"99.745357\" xlink:href=\"#me9dc8f2280\" y=\"65.993304\"/>\n     <use style=\"fill:#1f77b4;stroke:#1f77b4;\" x=\"144.357278\" xlink:href=\"#me9dc8f2280\" y=\"86.171204\"/>\n     <use style=\"fill:#1f77b4;stroke:#1f77b4;\" x=\"77.155387\" xlink:href=\"#me9dc8f2280\" y=\"36.938702\"/>\n     <use style=\"fill:#1f77b4;stroke:#1f77b4;\" x=\"100.591652\" xlink:href=\"#me9dc8f2280\" y=\"49.057265\"/>\n     <use style=\"fill:#1f77b4;stroke:#1f77b4;\" x=\"170.55072\" xlink:href=\"#me9dc8f2280\" y=\"87.601028\"/>\n     <use style=\"fill:#1f77b4;stroke:#1f77b4;\" x=\"167.61558\" xlink:href=\"#me9dc8f2280\" y=\"107.937654\"/>\n     <use style=\"fill:#1f77b4;stroke:#1f77b4;\" x=\"156.081871\" xlink:href=\"#me9dc8f2280\" y=\"84.529365\"/>\n     <use style=\"fill:#1f77b4;stroke:#1f77b4;\" x=\"132.719249\" xlink:href=\"#me9dc8f2280\" y=\"57.101498\"/>\n     <use style=\"fill:#1f77b4;stroke:#1f77b4;\" x=\"110.300317\" xlink:href=\"#me9dc8f2280\" y=\"52.677731\"/>\n     <use style=\"fill:#1f77b4;stroke:#1f77b4;\" x=\"102.890519\" xlink:href=\"#me9dc8f2280\" y=\"62.607846\"/>\n     <use style=\"fill:#1f77b4;stroke:#1f77b4;\" x=\"124.596403\" xlink:href=\"#me9dc8f2280\" y=\"68.14613\"/>\n     <use style=\"fill:#1f77b4;stroke:#1f77b4;\" x=\"101.341565\" xlink:href=\"#me9dc8f2280\" y=\"50.544258\"/>\n     <use style=\"fill:#1f77b4;stroke:#1f77b4;\" x=\"109.917996\" xlink:href=\"#me9dc8f2280\" y=\"60.001468\"/>\n     <use style=\"fill:#1f77b4;stroke:#1f77b4;\" x=\"113.422574\" xlink:href=\"#me9dc8f2280\" y=\"52.800591\"/>\n     <use style=\"fill:#1f77b4;stroke:#1f77b4;\" x=\"101.262528\" xlink:href=\"#me9dc8f2280\" y=\"62.429221\"/>\n     <use style=\"fill:#1f77b4;stroke:#1f77b4;\" x=\"108.081859\" xlink:href=\"#me9dc8f2280\" y=\"65.051864\"/>\n     <use style=\"fill:#1f77b4;stroke:#1f77b4;\" x=\"129.064404\" xlink:href=\"#me9dc8f2280\" y=\"53.547279\"/>\n     <use style=\"fill:#1f77b4;stroke:#1f77b4;\" x=\"143.043537\" xlink:href=\"#me9dc8f2280\" y=\"86.108654\"/>\n     <use style=\"fill:#1f77b4;stroke:#1f77b4;\" x=\"80.580794\" xlink:href=\"#me9dc8f2280\" y=\"37.501676\"/>\n     <use style=\"fill:#1f77b4;stroke:#1f77b4;\" x=\"122.970828\" xlink:href=\"#me9dc8f2280\" y=\"63.101835\"/>\n     <use style=\"fill:#1f77b4;stroke:#1f77b4;\" x=\"114.568986\" xlink:href=\"#me9dc8f2280\" y=\"63.055435\"/>\n     <use style=\"fill:#1f77b4;stroke:#1f77b4;\" x=\"152.553491\" xlink:href=\"#me9dc8f2280\" y=\"73.437839\"/>\n     <use style=\"fill:#1f77b4;stroke:#1f77b4;\" x=\"193.183442\" xlink:href=\"#me9dc8f2280\" y=\"112.105435\"/>\n     <use style=\"fill:#1f77b4;stroke:#1f77b4;\" x=\"123.064287\" xlink:href=\"#me9dc8f2280\" y=\"68.608142\"/>\n     <use style=\"fill:#1f77b4;stroke:#1f77b4;\" x=\"168.785739\" xlink:href=\"#me9dc8f2280\" y=\"95.846814\"/>\n     <use style=\"fill:#1f77b4;stroke:#1f77b4;\" x=\"157.537972\" xlink:href=\"#me9dc8f2280\" y=\"79.388152\"/>\n     <use style=\"fill:#1f77b4;stroke:#1f77b4;\" x=\"108.974193\" xlink:href=\"#me9dc8f2280\" y=\"65.766709\"/>\n     <use style=\"fill:#1f77b4;stroke:#1f77b4;\" x=\"115.416571\" xlink:href=\"#me9dc8f2280\" y=\"55.567641\"/>\n     <use style=\"fill:#1f77b4;stroke:#1f77b4;\" x=\"104.699225\" xlink:href=\"#me9dc8f2280\" y=\"53.762843\"/>\n     <use style=\"fill:#1f77b4;stroke:#1f77b4;\" x=\"65.571569\" xlink:href=\"#me9dc8f2280\" y=\"17.870696\"/>\n     <use style=\"fill:#1f77b4;stroke:#1f77b4;\" x=\"99.49387\" xlink:href=\"#me9dc8f2280\" y=\"45.005751\"/>\n     <use style=\"fill:#1f77b4;stroke:#1f77b4;\" x=\"98.287729\" xlink:href=\"#me9dc8f2280\" y=\"61.562192\"/>\n     <use style=\"fill:#1f77b4;stroke:#1f77b4;\" x=\"142.669337\" xlink:href=\"#me9dc8f2280\" y=\"73.151345\"/>\n     <use style=\"fill:#1f77b4;stroke:#1f77b4;\" x=\"105.757015\" xlink:href=\"#me9dc8f2280\" y=\"54.51477\"/>\n     <use style=\"fill:#1f77b4;stroke:#1f77b4;\" x=\"93.807314\" xlink:href=\"#me9dc8f2280\" y=\"46.365573\"/>\n     <use style=\"fill:#1f77b4;stroke:#1f77b4;\" x=\"126.514838\" xlink:href=\"#me9dc8f2280\" y=\"78.751539\"/>\n     <use style=\"fill:#1f77b4;stroke:#1f77b4;\" x=\"128.344251\" xlink:href=\"#me9dc8f2280\" y=\"67.005133\"/>\n     <use style=\"fill:#1f77b4;stroke:#1f77b4;\" x=\"87.291565\" xlink:href=\"#me9dc8f2280\" y=\"51.041328\"/>\n     <use style=\"fill:#1f77b4;stroke:#1f77b4;\" x=\"119.406902\" xlink:href=\"#me9dc8f2280\" y=\"46.42428\"/>\n     <use style=\"fill:#1f77b4;stroke:#1f77b4;\" x=\"144.678051\" xlink:href=\"#me9dc8f2280\" y=\"74.164179\"/>\n     <use style=\"fill:#1f77b4;stroke:#1f77b4;\" x=\"127.836964\" xlink:href=\"#me9dc8f2280\" y=\"61.906672\"/>\n     <use style=\"fill:#1f77b4;stroke:#1f77b4;\" x=\"82.505857\" xlink:href=\"#me9dc8f2280\" y=\"45.988721\"/>\n     <use style=\"fill:#1f77b4;stroke:#1f77b4;\" x=\"114.761872\" xlink:href=\"#me9dc8f2280\" y=\"71.206732\"/>\n     <use style=\"fill:#1f77b4;stroke:#1f77b4;\" x=\"94.421784\" xlink:href=\"#me9dc8f2280\" y=\"38.340685\"/>\n     <use style=\"fill:#1f77b4;stroke:#1f77b4;\" x=\"127.807357\" xlink:href=\"#me9dc8f2280\" y=\"71.689872\"/>\n     <use style=\"fill:#1f77b4;stroke:#1f77b4;\" x=\"110.138055\" xlink:href=\"#me9dc8f2280\" y=\"57.991975\"/>\n     <use style=\"fill:#1f77b4;stroke:#1f77b4;\" x=\"96.973832\" xlink:href=\"#me9dc8f2280\" y=\"43.800257\"/>\n     <use style=\"fill:#1f77b4;stroke:#1f77b4;\" x=\"105.258413\" xlink:href=\"#me9dc8f2280\" y=\"62.18179\"/>\n     <use style=\"fill:#1f77b4;stroke:#1f77b4;\" x=\"137.236461\" xlink:href=\"#me9dc8f2280\" y=\"61.577227\"/>\n     <use style=\"fill:#1f77b4;stroke:#1f77b4;\" x=\"99.732567\" xlink:href=\"#me9dc8f2280\" y=\"47.068394\"/>\n     <use style=\"fill:#1f77b4;stroke:#1f77b4;\" x=\"90.034276\" xlink:href=\"#me9dc8f2280\" y=\"51.274904\"/>\n     <use style=\"fill:#1f77b4;stroke:#1f77b4;\" x=\"102.529774\" xlink:href=\"#me9dc8f2280\" y=\"55.833044\"/>\n     <use style=\"fill:#1f77b4;stroke:#1f77b4;\" x=\"113.239799\" xlink:href=\"#me9dc8f2280\" y=\"63.05285\"/>\n     <use style=\"fill:#1f77b4;stroke:#1f77b4;\" x=\"104.538573\" xlink:href=\"#me9dc8f2280\" y=\"53.288599\"/>\n     <use style=\"fill:#1f77b4;stroke:#1f77b4;\" x=\"120.963615\" xlink:href=\"#me9dc8f2280\" y=\"72.511699\"/>\n     <use style=\"fill:#1f77b4;stroke:#1f77b4;\" x=\"145.052075\" xlink:href=\"#me9dc8f2280\" y=\"68.721869\"/>\n     <use style=\"fill:#1f77b4;stroke:#1f77b4;\" x=\"100.494575\" xlink:href=\"#me9dc8f2280\" y=\"53.666038\"/>\n     <use style=\"fill:#1f77b4;stroke:#1f77b4;\" x=\"174.602442\" xlink:href=\"#me9dc8f2280\" y=\"95.838106\"/>\n     <use style=\"fill:#1f77b4;stroke:#1f77b4;\" x=\"135.530219\" xlink:href=\"#me9dc8f2280\" y=\"81.81774\"/>\n     <use style=\"fill:#1f77b4;stroke:#1f77b4;\" x=\"129.873012\" xlink:href=\"#me9dc8f2280\" y=\"56.910652\"/>\n     <use style=\"fill:#1f77b4;stroke:#1f77b4;\" x=\"122.696609\" xlink:href=\"#me9dc8f2280\" y=\"59.561798\"/>\n     <use style=\"fill:#1f77b4;stroke:#1f77b4;\" x=\"85.210174\" xlink:href=\"#me9dc8f2280\" y=\"53.427195\"/>\n     <use style=\"fill:#1f77b4;stroke:#1f77b4;\" x=\"137.535595\" xlink:href=\"#me9dc8f2280\" y=\"75.961\"/>\n     <use style=\"fill:#1f77b4;stroke:#1f77b4;\" x=\"123.827546\" xlink:href=\"#me9dc8f2280\" y=\"61.728203\"/>\n     <use style=\"fill:#1f77b4;stroke:#1f77b4;\" x=\"113.4686\" xlink:href=\"#me9dc8f2280\" y=\"63.07715\"/>\n     <use style=\"fill:#1f77b4;stroke:#1f77b4;\" x=\"135.395352\" xlink:href=\"#me9dc8f2280\" y=\"84.50033\"/>\n     <use style=\"fill:#1f77b4;stroke:#1f77b4;\" x=\"149.938293\" xlink:href=\"#me9dc8f2280\" y=\"67.05439\"/>\n     <use style=\"fill:#1f77b4;stroke:#1f77b4;\" x=\"123.185341\" xlink:href=\"#me9dc8f2280\" y=\"59.706551\"/>\n     <use style=\"fill:#1f77b4;stroke:#1f77b4;\" x=\"109.880457\" xlink:href=\"#me9dc8f2280\" y=\"55.454607\"/>\n     <use style=\"fill:#1f77b4;stroke:#1f77b4;\" x=\"137.90805\" xlink:href=\"#me9dc8f2280\" y=\"88.525682\"/>\n     <use style=\"fill:#1f77b4;stroke:#1f77b4;\" x=\"88.420196\" xlink:href=\"#me9dc8f2280\" y=\"46.409065\"/>\n     <use style=\"fill:#1f77b4;stroke:#1f77b4;\" x=\"99.057493\" xlink:href=\"#me9dc8f2280\" y=\"50.743731\"/>\n     <use style=\"fill:#1f77b4;stroke:#1f77b4;\" x=\"124.218327\" xlink:href=\"#me9dc8f2280\" y=\"73.702894\"/>\n     <use style=\"fill:#1f77b4;stroke:#1f77b4;\" x=\"73.222145\" xlink:href=\"#me9dc8f2280\" y=\"40.959786\"/>\n     <use style=\"fill:#1f77b4;stroke:#1f77b4;\" x=\"77.611613\" xlink:href=\"#me9dc8f2280\" y=\"31.714566\"/>\n     <use style=\"fill:#1f77b4;stroke:#1f77b4;\" x=\"169.394233\" xlink:href=\"#me9dc8f2280\" y=\"101.22069\"/>\n     <use style=\"fill:#1f77b4;stroke:#1f77b4;\" x=\"110.806975\" xlink:href=\"#me9dc8f2280\" y=\"52.274387\"/>\n     <use style=\"fill:#1f77b4;stroke:#1f77b4;\" x=\"138.957372\" xlink:href=\"#me9dc8f2280\" y=\"80.097834\"/>\n     <use style=\"fill:#1f77b4;stroke:#1f77b4;\" x=\"108.53833\" xlink:href=\"#me9dc8f2280\" y=\"69.139111\"/>\n     <use style=\"fill:#1f77b4;stroke:#1f77b4;\" x=\"156.697442\" xlink:href=\"#me9dc8f2280\" y=\"100.938118\"/>\n     <use style=\"fill:#1f77b4;stroke:#1f77b4;\" x=\"126.127476\" xlink:href=\"#me9dc8f2280\" y=\"78.675318\"/>\n     <use style=\"fill:#1f77b4;stroke:#1f77b4;\" x=\"126.480558\" xlink:href=\"#me9dc8f2280\" y=\"84.293697\"/>\n     <use style=\"fill:#1f77b4;stroke:#1f77b4;\" x=\"134.090254\" xlink:href=\"#me9dc8f2280\" y=\"73.46455\"/>\n     <use style=\"fill:#1f77b4;stroke:#1f77b4;\" x=\"106.126987\" xlink:href=\"#me9dc8f2280\" y=\"45.124857\"/>\n     <use style=\"fill:#1f77b4;stroke:#1f77b4;\" x=\"106.247693\" xlink:href=\"#me9dc8f2280\" y=\"50.301611\"/>\n     <use style=\"fill:#1f77b4;stroke:#1f77b4;\" x=\"131.18844\" xlink:href=\"#me9dc8f2280\" y=\"63.56748\"/>\n     <use style=\"fill:#1f77b4;stroke:#1f77b4;\" x=\"121.656554\" xlink:href=\"#me9dc8f2280\" y=\"57.972525\"/>\n     <use style=\"fill:#1f77b4;stroke:#1f77b4;\" x=\"133.678377\" xlink:href=\"#me9dc8f2280\" y=\"78.090332\"/>\n     <use style=\"fill:#1f77b4;stroke:#1f77b4;\" x=\"68.338041\" xlink:href=\"#me9dc8f2280\" y=\"37.802831\"/>\n     <use style=\"fill:#1f77b4;stroke:#1f77b4;\" x=\"98.04604\" xlink:href=\"#me9dc8f2280\" y=\"49.284511\"/>\n     <use style=\"fill:#1f77b4;stroke:#1f77b4;\" x=\"106.241278\" xlink:href=\"#me9dc8f2280\" y=\"61.692707\"/>\n     <use style=\"fill:#1f77b4;stroke:#1f77b4;\" x=\"95.507936\" xlink:href=\"#me9dc8f2280\" y=\"45.148125\"/>\n     <use style=\"fill:#1f77b4;stroke:#1f77b4;\" x=\"116.318613\" xlink:href=\"#me9dc8f2280\" y=\"70.645758\"/>\n     <use style=\"fill:#1f77b4;stroke:#1f77b4;\" x=\"110.717746\" xlink:href=\"#me9dc8f2280\" y=\"61.046242\"/>\n     <use style=\"fill:#1f77b4;stroke:#1f77b4;\" x=\"120.286428\" xlink:href=\"#me9dc8f2280\" y=\"54.252025\"/>\n     <use style=\"fill:#1f77b4;stroke:#1f77b4;\" x=\"104.596857\" xlink:href=\"#me9dc8f2280\" y=\"41.950802\"/>\n     <use style=\"fill:#1f77b4;stroke:#1f77b4;\" x=\"157.711951\" xlink:href=\"#me9dc8f2280\" y=\"89.414273\"/>\n     <use style=\"fill:#1f77b4;stroke:#1f77b4;\" x=\"124.262128\" xlink:href=\"#me9dc8f2280\" y=\"64.645142\"/>\n     <use style=\"fill:#1f77b4;stroke:#1f77b4;\" x=\"97.23119\" xlink:href=\"#me9dc8f2280\" y=\"59.97321\"/>\n     <use style=\"fill:#1f77b4;stroke:#1f77b4;\" x=\"153.787204\" xlink:href=\"#me9dc8f2280\" y=\"97.087518\"/>\n     <use style=\"fill:#1f77b4;stroke:#1f77b4;\" x=\"128.985088\" xlink:href=\"#me9dc8f2280\" y=\"66.869283\"/>\n     <use style=\"fill:#1f77b4;stroke:#1f77b4;\" x=\"115.549156\" xlink:href=\"#me9dc8f2280\" y=\"60.688865\"/>\n     <use style=\"fill:#1f77b4;stroke:#1f77b4;\" x=\"116.627642\" xlink:href=\"#me9dc8f2280\" y=\"43.531945\"/>\n     <use style=\"fill:#1f77b4;stroke:#1f77b4;\" x=\"88.682246\" xlink:href=\"#me9dc8f2280\" y=\"34.346758\"/>\n     <use style=\"fill:#1f77b4;stroke:#1f77b4;\" x=\"99.160138\" xlink:href=\"#me9dc8f2280\" y=\"46.182963\"/>\n     <use style=\"fill:#1f77b4;stroke:#1f77b4;\" x=\"137.271638\" xlink:href=\"#me9dc8f2280\" y=\"60.454681\"/>\n     <use style=\"fill:#1f77b4;stroke:#1f77b4;\" x=\"113.282637\" xlink:href=\"#me9dc8f2280\" y=\"53.122675\"/>\n     <use style=\"fill:#1f77b4;stroke:#1f77b4;\" x=\"125.363035\" xlink:href=\"#me9dc8f2280\" y=\"79.795577\"/>\n     <use style=\"fill:#1f77b4;stroke:#1f77b4;\" x=\"116.295301\" xlink:href=\"#me9dc8f2280\" y=\"64.236077\"/>\n     <use style=\"fill:#1f77b4;stroke:#1f77b4;\" x=\"104.687743\" xlink:href=\"#me9dc8f2280\" y=\"59.197213\"/>\n     <use style=\"fill:#1f77b4;stroke:#1f77b4;\" x=\"93.732118\" xlink:href=\"#me9dc8f2280\" y=\"60.798289\"/>\n     <use style=\"fill:#1f77b4;stroke:#1f77b4;\" x=\"102.44094\" xlink:href=\"#me9dc8f2280\" y=\"71.719656\"/>\n     <use style=\"fill:#1f77b4;stroke:#1f77b4;\" x=\"106.87615\" xlink:href=\"#me9dc8f2280\" y=\"61.6179\"/>\n     <use style=\"fill:#1f77b4;stroke:#1f77b4;\" x=\"137.131207\" xlink:href=\"#me9dc8f2280\" y=\"87.951292\"/>\n     <use style=\"fill:#1f77b4;stroke:#1f77b4;\" x=\"113.563245\" xlink:href=\"#me9dc8f2280\" y=\"66.318786\"/>\n     <use style=\"fill:#1f77b4;stroke:#1f77b4;\" x=\"125.070462\" xlink:href=\"#me9dc8f2280\" y=\"76.490365\"/>\n     <use style=\"fill:#1f77b4;stroke:#1f77b4;\" x=\"139.580512\" xlink:href=\"#me9dc8f2280\" y=\"85.675595\"/>\n     <use style=\"fill:#1f77b4;stroke:#1f77b4;\" x=\"133.043505\" xlink:href=\"#me9dc8f2280\" y=\"83.35802\"/>\n     <use style=\"fill:#1f77b4;stroke:#1f77b4;\" x=\"76.601809\" xlink:href=\"#me9dc8f2280\" y=\"49.898631\"/>\n     <use style=\"fill:#1f77b4;stroke:#1f77b4;\" x=\"106.301319\" xlink:href=\"#me9dc8f2280\" y=\"51.595112\"/>\n     <use style=\"fill:#1f77b4;stroke:#1f77b4;\" x=\"146.559989\" xlink:href=\"#me9dc8f2280\" y=\"84.976987\"/>\n     <use style=\"fill:#1f77b4;stroke:#1f77b4;\" x=\"136.39799\" xlink:href=\"#me9dc8f2280\" y=\"86.633587\"/>\n     <use style=\"fill:#1f77b4;stroke:#1f77b4;\" x=\"126.056814\" xlink:href=\"#me9dc8f2280\" y=\"64.393152\"/>\n     <use style=\"fill:#1f77b4;stroke:#1f77b4;\" x=\"129.789386\" xlink:href=\"#me9dc8f2280\" y=\"63.818668\"/>\n     <use style=\"fill:#1f77b4;stroke:#1f77b4;\" x=\"160.177278\" xlink:href=\"#me9dc8f2280\" y=\"73.652846\"/>\n     <use style=\"fill:#1f77b4;stroke:#1f77b4;\" x=\"124.885767\" xlink:href=\"#me9dc8f2280\" y=\"73.175014\"/>\n     <use style=\"fill:#1f77b4;stroke:#1f77b4;\" x=\"109.782273\" xlink:href=\"#me9dc8f2280\" y=\"56.861171\"/>\n     <use style=\"fill:#1f77b4;stroke:#1f77b4;\" x=\"170.204681\" xlink:href=\"#me9dc8f2280\" y=\"93.365528\"/>\n     <use style=\"fill:#1f77b4;stroke:#1f77b4;\" x=\"121.883155\" xlink:href=\"#me9dc8f2280\" y=\"79.555781\"/>\n     <use style=\"fill:#1f77b4;stroke:#1f77b4;\" x=\"90.207734\" xlink:href=\"#me9dc8f2280\" y=\"60.117616\"/>\n     <use style=\"fill:#1f77b4;stroke:#1f77b4;\" x=\"164.578176\" xlink:href=\"#me9dc8f2280\" y=\"101.789164\"/>\n     <use style=\"fill:#1f77b4;stroke:#1f77b4;\" x=\"142.635072\" xlink:href=\"#me9dc8f2280\" y=\"103.101901\"/>\n     <use style=\"fill:#1f77b4;stroke:#1f77b4;\" x=\"125.22999\" xlink:href=\"#me9dc8f2280\" y=\"62.064262\"/>\n     <use style=\"fill:#1f77b4;stroke:#1f77b4;\" x=\"99.275463\" xlink:href=\"#me9dc8f2280\" y=\"62.987954\"/>\n     <use style=\"fill:#1f77b4;stroke:#1f77b4;\" x=\"143.695978\" xlink:href=\"#me9dc8f2280\" y=\"82.539674\"/>\n     <use style=\"fill:#1f77b4;stroke:#1f77b4;\" x=\"114.926246\" xlink:href=\"#me9dc8f2280\" y=\"61.0151\"/>\n     <use style=\"fill:#1f77b4;stroke:#1f77b4;\" x=\"92.818553\" xlink:href=\"#me9dc8f2280\" y=\"37.613068\"/>\n     <use style=\"fill:#1f77b4;stroke:#1f77b4;\" x=\"122.851384\" xlink:href=\"#me9dc8f2280\" y=\"75.89317\"/>\n     <use style=\"fill:#1f77b4;stroke:#1f77b4;\" x=\"85.908932\" xlink:href=\"#me9dc8f2280\" y=\"31.611724\"/>\n     <use style=\"fill:#1f77b4;stroke:#1f77b4;\" x=\"107.326861\" xlink:href=\"#me9dc8f2280\" y=\"69.720205\"/>\n     <use style=\"fill:#1f77b4;stroke:#1f77b4;\" x=\"121.953633\" xlink:href=\"#me9dc8f2280\" y=\"69.85565\"/>\n     <use style=\"fill:#1f77b4;stroke:#1f77b4;\" x=\"103.266806\" xlink:href=\"#me9dc8f2280\" y=\"53.399041\"/>\n     <use style=\"fill:#1f77b4;stroke:#1f77b4;\" x=\"139.631431\" xlink:href=\"#me9dc8f2280\" y=\"71.21893\"/>\n     <use style=\"fill:#1f77b4;stroke:#1f77b4;\" x=\"132.922027\" xlink:href=\"#me9dc8f2280\" y=\"65.149656\"/>\n     <use style=\"fill:#1f77b4;stroke:#1f77b4;\" x=\"133.069977\" xlink:href=\"#me9dc8f2280\" y=\"68.272796\"/>\n     <use style=\"fill:#1f77b4;stroke:#1f77b4;\" x=\"102.829706\" xlink:href=\"#me9dc8f2280\" y=\"43.393339\"/>\n     <use style=\"fill:#1f77b4;stroke:#1f77b4;\" x=\"206.845984\" xlink:href=\"#me9dc8f2280\" y=\"117.029584\"/>\n     <use style=\"fill:#1f77b4;stroke:#1f77b4;\" x=\"153.347709\" xlink:href=\"#me9dc8f2280\" y=\"79.683362\"/>\n     <use style=\"fill:#1f77b4;stroke:#1f77b4;\" x=\"136.005367\" xlink:href=\"#me9dc8f2280\" y=\"66.992306\"/>\n     <use style=\"fill:#1f77b4;stroke:#1f77b4;\" x=\"118.49636\" xlink:href=\"#me9dc8f2280\" y=\"72.399597\"/>\n     <use style=\"fill:#1f77b4;stroke:#1f77b4;\" x=\"126.708134\" xlink:href=\"#me9dc8f2280\" y=\"68.982407\"/>\n     <use style=\"fill:#1f77b4;stroke:#1f77b4;\" x=\"130.610876\" xlink:href=\"#me9dc8f2280\" y=\"74.754537\"/>\n     <use style=\"fill:#1f77b4;stroke:#1f77b4;\" x=\"91.947736\" xlink:href=\"#me9dc8f2280\" y=\"49.873474\"/>\n     <use style=\"fill:#1f77b4;stroke:#1f77b4;\" x=\"107.584275\" xlink:href=\"#me9dc8f2280\" y=\"59.771015\"/>\n     <use style=\"fill:#1f77b4;stroke:#1f77b4;\" x=\"129.413778\" xlink:href=\"#me9dc8f2280\" y=\"59.263943\"/>\n     <use style=\"fill:#1f77b4;stroke:#1f77b4;\" x=\"122.009295\" xlink:href=\"#me9dc8f2280\" y=\"60.485951\"/>\n     <use style=\"fill:#1f77b4;stroke:#1f77b4;\" x=\"75.49335\" xlink:href=\"#me9dc8f2280\" y=\"38.923122\"/>\n     <use style=\"fill:#1f77b4;stroke:#1f77b4;\" x=\"95.864736\" xlink:href=\"#me9dc8f2280\" y=\"60.108184\"/>\n     <use style=\"fill:#1f77b4;stroke:#1f77b4;\" x=\"129.584298\" xlink:href=\"#me9dc8f2280\" y=\"67.913461\"/>\n     <use style=\"fill:#1f77b4;stroke:#1f77b4;\" x=\"102.440902\" xlink:href=\"#me9dc8f2280\" y=\"56.753616\"/>\n     <use style=\"fill:#1f77b4;stroke:#1f77b4;\" x=\"93.930433\" xlink:href=\"#me9dc8f2280\" y=\"42.556206\"/>\n     <use style=\"fill:#1f77b4;stroke:#1f77b4;\" x=\"157.055432\" xlink:href=\"#me9dc8f2280\" y=\"89.937137\"/>\n     <use style=\"fill:#1f77b4;stroke:#1f77b4;\" x=\"90.760595\" xlink:href=\"#me9dc8f2280\" y=\"61.573673\"/>\n     <use style=\"fill:#1f77b4;stroke:#1f77b4;\" x=\"124.611634\" xlink:href=\"#me9dc8f2280\" y=\"75.304751\"/>\n     <use style=\"fill:#1f77b4;stroke:#1f77b4;\" x=\"93.560803\" xlink:href=\"#me9dc8f2280\" y=\"41.974583\"/>\n     <use style=\"fill:#1f77b4;stroke:#1f77b4;\" x=\"111.63831\" xlink:href=\"#me9dc8f2280\" y=\"72.455969\"/>\n     <use style=\"fill:#1f77b4;stroke:#1f77b4;\" x=\"102.048976\" xlink:href=\"#me9dc8f2280\" y=\"46.029233\"/>\n    </g>\n   </g>\n   <g id=\"matplotlib.axis_1\">\n    <g id=\"xtick_1\">\n     <g id=\"line2d_1\">\n      <defs>\n       <path d=\"M 0 0 \nL 0 3.5 \n\" id=\"m4d8f6b2c3c\" style=\"stroke:#000000;stroke-width:0.8;\"/>\n      </defs>\n      <g>\n       <use style=\"stroke:#000000;stroke-width:0.8;\" x=\"72.845594\" xlink:href=\"#m4d8f6b2c3c\" y=\"143.1\"/>\n      </g>\n     </g>\n     <g id=\"text_1\">\n      <!-- −2 -->\n      <g transform=\"translate(65.4745 157.698438)scale(0.1 -0.1)\">\n       <defs>\n        <path d=\"M 10.59375 35.5 \nL 73.1875 35.5 \nL 73.1875 27.203125 \nL 10.59375 27.203125 \nz\n\" id=\"DejaVuSans-8722\"/>\n        <path d=\"M 19.1875 8.296875 \nL 53.609375 8.296875 \nL 53.609375 0 \nL 7.328125 0 \nL 7.328125 8.296875 \nQ 12.9375 14.109375 22.625 23.890625 \nQ 32.328125 33.6875 34.8125 36.53125 \nQ 39.546875 41.84375 41.421875 45.53125 \nQ 43.3125 49.21875 43.3125 52.78125 \nQ 43.3125 58.59375 39.234375 62.25 \nQ 35.15625 65.921875 28.609375 65.921875 \nQ 23.96875 65.921875 18.8125 64.3125 \nQ 13.671875 62.703125 7.8125 59.421875 \nL 7.8125 69.390625 \nQ 13.765625 71.78125 18.9375 73 \nQ 24.125 74.21875 28.421875 74.21875 \nQ 39.75 74.21875 46.484375 68.546875 \nQ 53.21875 62.890625 53.21875 53.421875 \nQ 53.21875 48.921875 51.53125 44.890625 \nQ 49.859375 40.875 45.40625 35.40625 \nQ 44.1875 33.984375 37.640625 27.21875 \nQ 31.109375 20.453125 19.1875 8.296875 \nz\n\" id=\"DejaVuSans-50\"/>\n       </defs>\n       <use xlink:href=\"#DejaVuSans-8722\"/>\n       <use x=\"83.789062\" xlink:href=\"#DejaVuSans-50\"/>\n      </g>\n     </g>\n    </g>\n    <g id=\"xtick_2\">\n     <g id=\"line2d_2\">\n      <g>\n       <use style=\"stroke:#000000;stroke-width:0.8;\" x=\"120.592777\" xlink:href=\"#m4d8f6b2c3c\" y=\"143.1\"/>\n      </g>\n     </g>\n     <g id=\"text_2\">\n      <!-- 0 -->\n      <g transform=\"translate(117.411527 157.698438)scale(0.1 -0.1)\">\n       <defs>\n        <path d=\"M 31.78125 66.40625 \nQ 24.171875 66.40625 20.328125 58.90625 \nQ 16.5 51.421875 16.5 36.375 \nQ 16.5 21.390625 20.328125 13.890625 \nQ 24.171875 6.390625 31.78125 6.390625 \nQ 39.453125 6.390625 43.28125 13.890625 \nQ 47.125 21.390625 47.125 36.375 \nQ 47.125 51.421875 43.28125 58.90625 \nQ 39.453125 66.40625 31.78125 66.40625 \nz\nM 31.78125 74.21875 \nQ 44.046875 74.21875 50.515625 64.515625 \nQ 56.984375 54.828125 56.984375 36.375 \nQ 56.984375 17.96875 50.515625 8.265625 \nQ 44.046875 -1.421875 31.78125 -1.421875 \nQ 19.53125 -1.421875 13.0625 8.265625 \nQ 6.59375 17.96875 6.59375 36.375 \nQ 6.59375 54.828125 13.0625 64.515625 \nQ 19.53125 74.21875 31.78125 74.21875 \nz\n\" id=\"DejaVuSans-48\"/>\n       </defs>\n       <use xlink:href=\"#DejaVuSans-48\"/>\n      </g>\n     </g>\n    </g>\n    <g id=\"xtick_3\">\n     <g id=\"line2d_3\">\n      <g>\n       <use style=\"stroke:#000000;stroke-width:0.8;\" x=\"168.339961\" xlink:href=\"#m4d8f6b2c3c\" y=\"143.1\"/>\n      </g>\n     </g>\n     <g id=\"text_3\">\n      <!-- 2 -->\n      <g transform=\"translate(165.158711 157.698438)scale(0.1 -0.1)\">\n       <use xlink:href=\"#DejaVuSans-50\"/>\n      </g>\n     </g>\n    </g>\n    <g id=\"xtick_4\">\n     <g id=\"line2d_4\">\n      <g>\n       <use style=\"stroke:#000000;stroke-width:0.8;\" x=\"216.087144\" xlink:href=\"#m4d8f6b2c3c\" y=\"143.1\"/>\n      </g>\n     </g>\n     <g id=\"text_4\">\n      <!-- 4 -->\n      <g transform=\"translate(212.905894 157.698438)scale(0.1 -0.1)\">\n       <defs>\n        <path d=\"M 37.796875 64.3125 \nL 12.890625 25.390625 \nL 37.796875 25.390625 \nz\nM 35.203125 72.90625 \nL 47.609375 72.90625 \nL 47.609375 25.390625 \nL 58.015625 25.390625 \nL 58.015625 17.1875 \nL 47.609375 17.1875 \nL 47.609375 0 \nL 37.796875 0 \nL 37.796875 17.1875 \nL 4.890625 17.1875 \nL 4.890625 26.703125 \nz\n\" id=\"DejaVuSans-52\"/>\n       </defs>\n       <use xlink:href=\"#DejaVuSans-52\"/>\n      </g>\n     </g>\n    </g>\n   </g>\n   <g id=\"matplotlib.axis_2\">\n    <g id=\"ytick_1\">\n     <g id=\"line2d_5\">\n      <defs>\n       <path d=\"M 0 0 \nL -3.5 0 \n\" id=\"m3145cd62b8\" style=\"stroke:#000000;stroke-width:0.8;\"/>\n      </defs>\n      <g>\n       <use style=\"stroke:#000000;stroke-width:0.8;\" x=\"35.304688\" xlink:href=\"#m3145cd62b8\" y=\"127.430369\"/>\n      </g>\n     </g>\n     <g id=\"text_5\">\n      <!-- −10 -->\n      <g transform=\"translate(7.2 131.229587)scale(0.1 -0.1)\">\n       <defs>\n        <path d=\"M 12.40625 8.296875 \nL 28.515625 8.296875 \nL 28.515625 63.921875 \nL 10.984375 60.40625 \nL 10.984375 69.390625 \nL 28.421875 72.90625 \nL 38.28125 72.90625 \nL 38.28125 8.296875 \nL 54.390625 8.296875 \nL 54.390625 0 \nL 12.40625 0 \nz\n\" id=\"DejaVuSans-49\"/>\n       </defs>\n       <use xlink:href=\"#DejaVuSans-8722\"/>\n       <use x=\"83.789062\" xlink:href=\"#DejaVuSans-49\"/>\n       <use x=\"147.412109\" xlink:href=\"#DejaVuSans-48\"/>\n      </g>\n     </g>\n    </g>\n    <g id=\"ytick_2\">\n     <g id=\"line2d_6\">\n      <g>\n       <use style=\"stroke:#000000;stroke-width:0.8;\" x=\"35.304688\" xlink:href=\"#m3145cd62b8\" y=\"84.101163\"/>\n      </g>\n     </g>\n     <g id=\"text_6\">\n      <!-- 0 -->\n      <g transform=\"translate(21.942187 87.900382)scale(0.1 -0.1)\">\n       <use xlink:href=\"#DejaVuSans-48\"/>\n      </g>\n     </g>\n    </g>\n    <g id=\"ytick_3\">\n     <g id=\"line2d_7\">\n      <g>\n       <use style=\"stroke:#000000;stroke-width:0.8;\" x=\"35.304688\" xlink:href=\"#m3145cd62b8\" y=\"40.771957\"/>\n      </g>\n     </g>\n     <g id=\"text_7\">\n      <!-- 10 -->\n      <g transform=\"translate(15.579687 44.571176)scale(0.1 -0.1)\">\n       <use xlink:href=\"#DejaVuSans-49\"/>\n       <use x=\"63.623047\" xlink:href=\"#DejaVuSans-48\"/>\n      </g>\n     </g>\n    </g>\n   </g>\n   <g id=\"patch_3\">\n    <path d=\"M 35.304688 143.1 \nL 35.304688 7.2 \n\" style=\"fill:none;stroke:#000000;stroke-linecap:square;stroke-linejoin:miter;stroke-width:0.8;\"/>\n   </g>\n   <g id=\"patch_4\">\n    <path d=\"M 230.604688 143.1 \nL 230.604688 7.2 \n\" style=\"fill:none;stroke:#000000;stroke-linecap:square;stroke-linejoin:miter;stroke-width:0.8;\"/>\n   </g>\n   <g id=\"patch_5\">\n    <path d=\"M 35.304688 143.1 \nL 230.604688 143.1 \n\" style=\"fill:none;stroke:#000000;stroke-linecap:square;stroke-linejoin:miter;stroke-width:0.8;\"/>\n   </g>\n   <g id=\"patch_6\">\n    <path d=\"M 35.304688 7.2 \nL 230.604688 7.2 \n\" style=\"fill:none;stroke:#000000;stroke-linecap:square;stroke-linejoin:miter;stroke-width:0.8;\"/>\n   </g>\n  </g>\n </g>\n <defs>\n  <clipPath id=\"pf57b5926a4\">\n   <rect height=\"135.9\" width=\"195.3\" x=\"35.304688\" y=\"7.2\"/>\n  </clipPath>\n </defs>\n</svg>\n",
      "text/plain": [
       "<Figure size 252x180 with 1 Axes>"
      ]
     },
     "metadata": {
      "needs_background": "light"
     },
     "output_type": "display_data"
    }
   ],
   "source": [
    "def use_svg_display():\n",
    "    #矢量图显示\n",
    "    display.set_matplotlib_formats('svg')\n",
    "\n",
    "def set_figsize(figsize=(3.5,2.5)):\n",
    "    use_svg_display()\n",
    "    # 设置图的尺寸\n",
    "    plt.rcParams['figure.figsize']=figsize\n",
    "\n",
    "set_figsize()\n",
    "plt.scatter(features[:, 1].numpy(), labels.numpy(), 1)\n"
   ]
  },
  {
   "cell_type": "markdown",
   "metadata": {},
   "source": [
    "##  读取数据\n",
    "在训练模型的时候，我们需要遍历数据集并不断读取小批量数据样本。这里我们定义一个函数：它每次返回batch_size（批量大小）个随机样本的特征和标签。"
   ]
  },
  {
   "cell_type": "code",
   "execution_count": 8,
   "metadata": {},
   "outputs": [],
   "source": [
    "# 本函数已保存在d2lzh包中方便以后使用\n",
    "def data_iter(batch_size, features, labels):\n",
    "    num_examples = len(features)\n",
    "    indices = list(range(num_examples))\n",
    "    random.shuffle(indices)  # 样本的读取顺序是随机的\n",
    "    for i in range(0, num_examples, batch_size):\n",
    "        j = torch.LongTensor(indices[i: min(i + batch_size, num_examples)]) # 最后一次可能不足一个batch\n",
    "        #这句话的意思是选择从i到i+batchsize大小的slice，如果到了最后，就选择i到num_examples的切片\n",
    "        yield  features.index_select(0, j), labels.index_select(0, j)   #选择切片返回，同时程序停止\n"
   ]
  },
  {
   "cell_type": "markdown",
   "metadata": {},
   "source": [
    "> 上一句话里面的处理最后的方法很重要！"
   ]
  },
  {
   "cell_type": "code",
   "execution_count": 9,
   "metadata": {},
   "outputs": [
    {
     "name": "stdout",
     "output_type": "stream",
     "text": [
      "tensor([[ 1.4118,  0.4913],\n",
      "        [-1.8346, -1.8266],\n",
      "        [-0.9159,  1.9039],\n",
      "        [-1.1458, -1.1053],\n",
      "        [-1.1928, -0.0610],\n",
      "        [ 0.5247,  0.7231],\n",
      "        [-0.0774,  0.0776],\n",
      "        [ 1.1778, -0.7054],\n",
      "        [ 0.5779,  1.3503],\n",
      "        [ 0.3090, -0.1262]]) tensor([ 5.3509,  6.7259, -4.1152,  5.6746,  2.0130,  2.7853,  3.7785,  8.9548,\n",
      "         0.7714,  5.2498])\n"
     ]
    }
   ],
   "source": [
    "batch_size=10\n",
    "\n",
    "for X,y in data_iter(batch_size, features, labels):\n",
    "    print(X,y)\n",
    "    break"
   ]
  },
  {
   "cell_type": "markdown",
   "metadata": {},
   "source": [
    "带yield的函数是一个生成器，而不是一个函数了，这个生成器有一个函数就是next函数，next就相当于“下一步”生成哪个数，这一次的next开始的地方是接着上一次的next停止的地方执行的，所以调用next的时候，生成器并不会从foo函数的开始执行，只是接着上一步停止的地方开始，然后遇到yield后，return出要生成的数，此步就结束。\n",
    "\n",
    "执行到yield的时候，程序会暂停，并且返回后面的值，就停在那里了！"
   ]
  },
  {
   "cell_type": "markdown",
   "metadata": {},
   "source": [
    "## 定义模型和损失函数\n",
    "定义模型，初始化模型参数。权重的初始化成均值为0，标准差为0.01，偏差bias初始化为0"
   ]
  },
  {
   "cell_type": "code",
   "execution_count": 13,
   "metadata": {},
   "outputs": [],
   "source": [
    "w=torch.tensor(np.random.normal(0,0.01,(num_inputs,1)),dtype=torch.float32)\n",
    "b=torch.zeros(1,dtype=torch.float32)"
   ]
  },
  {
   "cell_type": "code",
   "execution_count": 14,
   "metadata": {},
   "outputs": [
    {
     "data": {
      "text/plain": [
       "tensor([0.], requires_grad=True)"
      ]
     },
     "execution_count": 14,
     "metadata": {},
     "output_type": "execute_result"
    }
   ],
   "source": [
    "w.requires_grad_(requires_grad=True)\n",
    "b.requires_grad_(requires_grad=True)"
   ]
  },
  {
   "cell_type": "markdown",
   "metadata": {},
   "source": []
  },
  {
   "cell_type": "code",
   "execution_count": 15,
   "metadata": {},
   "outputs": [],
   "source": [
    "def linreg(X,w,b):\n",
    "    return torch.mm(X,w)+b"
   ]
  },
  {
   "cell_type": "code",
   "execution_count": 16,
   "metadata": {},
   "outputs": [],
   "source": [
    "def squared_loss(y_hat, y):  # 本函数已保存在d2lzh_pytorch包中方便以后使用\n",
    "    # 注意这里返回的是向量, 另外, pytorch里的MSELoss并没有除以 2\n",
    "    return (y_hat - y.view(y_hat.size())) ** 2 / 2\n",
    "    # y是真实值，转变成为预测的尺寸才能进行运算。"
   ]
  },
  {
   "cell_type": "markdown",
   "metadata": {},
   "source": []
  },
  {
   "cell_type": "code",
   "execution_count": 18,
   "metadata": {},
   "outputs": [],
   "source": [
    "def sgd(params, lr, batch_size):  # 本函数已保存在d2lzh_pytorch包中方便以后使用\n",
    "    for param in params:\n",
    "        param.data -= lr * param.grad / batch_size # 注意这里更改param时用的param.data，否则就会梯度回传。计算回梯度之后，用学习率乘梯度除batch_size\n"
   ]
  },
  {
   "cell_type": "markdown",
   "metadata": {},
   "source": [
    "在训练中，我们将多次迭代模型参数。在每次迭代中，我们根据当前读取的小批量数据样本（特征X和标签y），通过调用反向函数backward计算小批量随机梯度，并调用优化算法sgd迭代模型参数。由于我们之前设批量大小batch_size为10，每个小批量的损失l的形状为(10, 1)。回忆一下自动求梯度一节。由于变量l并不是一个标量，所以我们可以调用.sum()将其求和得到一个标量，再运行l.backward()得到该变量有关模型参数的梯度。注意在每次更新完参数后不要忘了将参数的梯度清零。\n",
    "\n",
    "在一个迭代周期（epoch）中，我们将完整遍历一遍data_iter函数，并对训练数据集中所有样本都使用一次（假设样本数能够被批量大小整除）。这里的迭代周期个数num_epochs和学习率lr都是超参数，分别设3和0.03。在实践中，大多超参数都需要通过反复试错来不断调节。虽然迭代周期数设得越大模型可能越有效，但是训练时间可能过长。而有关学习率对模型的影响，我们会在后面“优化算法”一章中详细介绍。"
   ]
  },
  {
   "cell_type": "code",
   "execution_count": 28,
   "metadata": {},
   "outputs": [
    {
     "name": "stdout",
     "output_type": "stream",
     "text": [
      "epoch 1, loss 0.000050\n",
      "epoch 2, loss 0.000050\n",
      "epoch 3, loss 0.000050\n"
     ]
    }
   ],
   "source": [
    "lr = 0.03\n",
    "num_epochs = 3\n",
    "net = linreg\n",
    "loss = squared_loss\n",
    "\n",
    "for epoch in range(num_epochs):  # 训练模型一共需要num_epochs个迭代周期\n",
    "    # 在每一个迭代周期中，会使用训练数据集中所有样本一次（假设样本数能够被批量大小整除）。X\n",
    "    # 和y分别是小批量样本的特征和标签\n",
    "    for X, y in data_iter(batch_size, features, labels):\n",
    "        l = loss(net(X, w, b), y).sum()  # l是有关小批量X和y的损失\n",
    "        l.backward()  # 小批量的损失对模型参数求梯度\n",
    "        sgd([w, b], lr, batch_size)  # 使用小批量随机梯度下降迭代模型参数\n",
    "\n",
    "        # 不要忘了梯度清零\n",
    "        w.grad.data.zero_()\n",
    "        b.grad.data.zero_()\n",
    "    train_l = loss(net(features, w, b), labels)\n",
    "    print('epoch %d, loss %f' % (epoch + 1, train_l.mean().item()))\n"
   ]
  },
  {
   "cell_type": "code",
   "execution_count": 27,
   "metadata": {},
   "outputs": [
    {
     "name": "stdout",
     "output_type": "stream",
     "text": [
      "[2, -3.4] \n",
      " tensor([[ 1.9988],\n",
      "        [-3.3995]], requires_grad=True)\n",
      "4.2 \n",
      " tensor([4.2008], requires_grad=True)\n"
     ]
    }
   ],
   "source": [
    "print(true_w, '\\n', w)\n",
    "print(true_b, '\\n', b)\n"
   ]
  },
  {
   "cell_type": "markdown",
   "metadata": {},
   "source": [
    "# 线性回归简洁实现\n",
    "首先还是生成数集\n"
   ]
  },
  {
   "cell_type": "code",
   "execution_count": 54,
   "metadata": {},
   "outputs": [],
   "source": [
    "num_inputs = 2\n",
    "num_examples = 1000\n",
    "true_w = [2, -3.4]\n",
    "true_b = 4.2\n",
    "features = torch.tensor(np.random.normal(0, 1, (num_examples, num_inputs)), dtype=torch.float)#生成的特征，输入\n",
    "labels = true_w[0] * features[:, 0] + true_w[1] * features[:, 1] + true_b\n",
    "labels += torch.tensor(np.random.normal(0, 0.01, size=labels.size()), dtype=torch.float)\n"
   ]
  },
  {
   "cell_type": "code",
   "execution_count": 55,
   "metadata": {},
   "outputs": [],
   "source": [
    "import torch.utils.data as Data\n",
    "\n",
    "batch_size=10\n",
    "#训练数据的特征和标签结合函数\n",
    "\n",
    "dataset=Data.TensorDataset(features,labels)\n",
    "#随机读取小批量\n",
    "\n",
    "data_iter=Data.DataLoader(dataset,batch_size,shuffle=True)\n"
   ]
  },
  {
   "cell_type": "code",
   "execution_count": 56,
   "metadata": {},
   "outputs": [
    {
     "name": "stdout",
     "output_type": "stream",
     "text": [
      "tensor([[ 1.3671,  0.0585],\n",
      "        [-0.4872, -0.4865],\n",
      "        [ 0.1512, -0.6602],\n",
      "        [-1.6128, -0.1708],\n",
      "        [-1.4332, -0.8732],\n",
      "        [-0.4240, -0.2832],\n",
      "        [-1.4761, -2.1400],\n",
      "        [-1.5189, -1.0548],\n",
      "        [ 1.0859, -1.3727],\n",
      "        [-1.8080,  0.5064]]) tensor([ 6.7361,  4.8826,  6.7588,  1.5545,  4.2978,  4.3193,  8.5294,  4.7535,\n",
      "        11.0532, -1.1353])\n"
     ]
    }
   ],
   "source": [
    "for X,y in data_iter:   #里面放的都是一个batch大小的数据\n",
    "    print(X,y)\n",
    "    break"
   ]
  },
  {
   "cell_type": "markdown",
   "metadata": {},
   "source": [
    "使用torch.nn来导入神经网络层。导入torch.nn模块。实际上，“nn”是neural networks（神经网络）的缩写。顾名思义，该模块定义了大量神经网络的层。之前我们已经用过了autograd，而nn就是利用autograd来定义模型。nn的核心数据结构是Module，它是一个抽象概念，既可以表示神经网络中的某个层（layer），也可以表示一个包含很多层的神经网络。在实际使用中，最常见的做法是继承nn.Module，撰写自己的网络/层。**一个nn.Module实例应该包含一些层以及返回输出的前向传播（forward）方法。** 下面先来看看如何用nn.Module实现一个线性回归模型。"
   ]
  },
  {
   "cell_type": "code",
   "execution_count": 57,
   "metadata": {},
   "outputs": [],
   "source": [
    "import torch.nn as nn"
   ]
  },
  {
   "cell_type": "code",
   "execution_count": 58,
   "metadata": {},
   "outputs": [
    {
     "name": "stdout",
     "output_type": "stream",
     "text": [
      "LenearNet(\n",
      "  (linear): Linear(in_features=2, out_features=1, bias=True)\n",
      ")\n"
     ]
    }
   ],
   "source": [
    "\n",
    "class LenearNet(nn.Module):\n",
    "    def __init__(self,n_feature):\n",
    "        super(LenearNet,self).__init__()\n",
    "        self.linear = nn.Linear(n_feature,1)    #输入数量为n，输出为1，输入两维。\n",
    "    def forward(self,x):\n",
    "        y=self.linear(x)#输入x，输出一维\n",
    "        return y\n",
    "\n",
    "net=LenearNet(num_inputs)\n",
    "print(net)\n"
   ]
  },
  {
   "cell_type": "markdown",
   "metadata": {},
   "source": [
    "也可以打印网络里面所有可以训练的参数，使用nn.parameters()函数"
   ]
  },
  {
   "cell_type": "code",
   "execution_count": 59,
   "metadata": {},
   "outputs": [
    {
     "name": "stdout",
     "output_type": "stream",
     "text": [
      "Parameter containing:\n",
      "tensor([[-0.0786, -0.4613]], requires_grad=True)\n",
      "Parameter containing:\n",
      "tensor([-0.5805], requires_grad=True)\n"
     ]
    }
   ],
   "source": [
    "for param in net.parameters():\n",
    "    print(param)"
   ]
  },
  {
   "cell_type": "markdown",
   "metadata": {},
   "source": [
    "作为一个单层神经网络，线性回归输出层中的神经元和输入层中各个输入完全连接。因此，线性回归的输出层又叫全连接层。"
   ]
  },
  {
   "cell_type": "markdown",
   "metadata": {},
   "source": [
    "> torch.nn仅支持一个batch的输入，不支持单个的一维输入。如果存在一维向量输入则需要使用`input.unsqueeze(0)`来进行升维操作。里面的参数给的是升维降维的具体维数。[学习地址](https://blog.csdn.net/flysky_jay/article/details/81607289)"
   ]
  },
  {
   "cell_type": "markdown",
   "metadata": {},
   "source": [
    "## 初始化模型参数"
   ]
  },
  {
   "cell_type": "code",
   "execution_count": 60,
   "metadata": {},
   "outputs": [
    {
     "data": {
      "text/plain": [
       "Parameter containing:\n",
       "tensor([0.], requires_grad=True)"
      ]
     },
     "execution_count": 60,
     "metadata": {},
     "output_type": "execute_result"
    }
   ],
   "source": [
    "from torch.nn import init\n",
    "\n",
    "init.normal_(net.linear.weight,mean=0,std=0.01)\n",
    "init.constant_(net.linear.bias,val=0)\n",
    "\n",
    "# net[0]的写法只有在modulelist或者sequential的时候才可以用"
   ]
  },
  {
   "cell_type": "code",
   "execution_count": 66,
   "metadata": {},
   "outputs": [],
   "source": [
    "loss=torch.nn.functional.mse_loss #优化算法，是nn.Module的子类"
   ]
  },
  {
   "cell_type": "markdown",
   "metadata": {},
   "source": [
    "深度学习训练模型报错：RuntimeError: Boolean value of Tensor with more than one value is ambiguous\n",
    "原因：\n",
    "\n",
    "loss = loss_func(out, label)\n",
    "\n",
    "解决方案一：```criteria = nn.CrossEntropyLoss() ```\n",
    "              ```  loss = criteria(out, label)```\n",
    "\n",
    "解决方案二：``loss = torch.nn.functional.cross_entropy(out, label)``\n",
    "\n",
    "[原文链接](https://blog.csdn.net/m13526413031/article/details/116426016)"
   ]
  },
  {
   "cell_type": "markdown",
   "metadata": {},
   "source": [
    "优化算法"
   ]
  },
  {
   "cell_type": "code",
   "execution_count": 67,
   "metadata": {},
   "outputs": [
    {
     "name": "stdout",
     "output_type": "stream",
     "text": [
      "SGD (\n",
      "Parameter Group 0\n",
      "    dampening: 0\n",
      "    lr: 0.03\n",
      "    momentum: 0\n",
      "    nesterov: False\n",
      "    weight_decay: 0\n",
      ")\n"
     ]
    }
   ],
   "source": [
    "import torch.optim as optim\n",
    "\n",
    "optimizer=optim.SGD(net.parameters(),lr=0.03)\n",
    "print(optimizer)"
   ]
  },
  {
   "cell_type": "markdown",
   "metadata": {},
   "source": [
    "调整学习率可以修改optimizer.param_groups的学习率"
   ]
  },
  {
   "cell_type": "code",
   "execution_count": 73,
   "metadata": {},
   "outputs": [],
   "source": [
    "# 调整学习率\n",
    "for param_group in optimizer.param_groups:\n",
    "    param_group['lr']*=0.1"
   ]
  },
  {
   "cell_type": "code",
   "execution_count": 74,
   "metadata": {},
   "outputs": [
    {
     "name": "stdout",
     "output_type": "stream",
     "text": [
      "[{'params': [Parameter containing:\n",
      "tensor([[ 1.6846, -2.8550]], requires_grad=True), Parameter containing:\n",
      "tensor([3.5387], requires_grad=True)], 'lr': 0.03, 'momentum': 0, 'dampening': 0, 'weight_decay': 0, 'nesterov': False}]\n"
     ]
    }
   ],
   "source": [
    "print(optimizer.param_groups)"
   ]
  },
  {
   "cell_type": "markdown",
   "metadata": {},
   "source": [
    "## 模型训练"
   ]
  },
  {
   "cell_type": "code",
   "execution_count": 75,
   "metadata": {},
   "outputs": [
    {
     "name": "stdout",
     "output_type": "stream",
     "text": [
      "epoch 1, loss: 0.000090\n",
      "epoch 2, loss: 0.000126\n",
      "epoch 3, loss: 0.000104\n"
     ]
    }
   ],
   "source": [
    "num_epochs=3\n",
    "for epoch in range(1,num_epochs+1):\n",
    "    for X,y in data_iter:\n",
    "        output=net(X)\n",
    "        l=loss(output,y.view(-1,1))     #注意，-1指的是第一维不确定，通过第二维的大小来确定第一维的大小\n",
    "        optimizer.zero_grad() #梯度清空\n",
    "        l.backward()\n",
    "        optimizer.step()\n",
    "    print('epoch %d, loss: %f' % (epoch,l.item()))\n"
   ]
  },
  {
   "cell_type": "code",
   "execution_count": 76,
   "metadata": {},
   "outputs": [
    {
     "name": "stdout",
     "output_type": "stream",
     "text": [
      "[2, -3.4] Parameter containing:\n",
      "tensor([[ 2.0001, -3.4000]], requires_grad=True)\n",
      "4.2 Parameter containing:\n",
      "tensor([4.2005], requires_grad=True)\n"
     ]
    }
   ],
   "source": [
    "print(true_w, net.linear.weight)\n",
    "print(true_b, net.linear.bias)"
   ]
  }
 ],
 "metadata": {
  "interpreter": {
   "hash": "40d3a090f54c6569ab1632332b64b2c03c39dcf918b08424e98f38b5ae0af88f"
  },
  "kernelspec": {
   "display_name": "Python 3.8.8 64-bit ('base': conda)",
   "name": "python3"
  },
  "language_info": {
   "codemirror_mode": {
    "name": "ipython",
    "version": 3
   },
   "file_extension": ".py",
   "mimetype": "text/x-python",
   "name": "python",
   "nbconvert_exporter": "python",
   "pygments_lexer": "ipython3",
   "version": "3.8.8"
  },
  "orig_nbformat": 4
 },
 "nbformat": 4,
 "nbformat_minor": 2
}
